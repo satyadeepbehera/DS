{
 "cells": [
  {
   "cell_type": "code",
   "execution_count": 1,
   "metadata": {},
   "outputs": [
    {
     "data": {
      "text/html": [
       "<div>\n",
       "<style scoped>\n",
       "    .dataframe tbody tr th:only-of-type {\n",
       "        vertical-align: middle;\n",
       "    }\n",
       "\n",
       "    .dataframe tbody tr th {\n",
       "        vertical-align: top;\n",
       "    }\n",
       "\n",
       "    .dataframe thead th {\n",
       "        text-align: right;\n",
       "    }\n",
       "</style>\n",
       "<table border=\"1\" class=\"dataframe\">\n",
       "  <thead>\n",
       "    <tr style=\"text-align: right;\">\n",
       "      <th></th>\n",
       "      <th>Account Length</th>\n",
       "      <th>VMail Message</th>\n",
       "      <th>Day Mins</th>\n",
       "      <th>Eve Mins</th>\n",
       "      <th>Night Mins</th>\n",
       "      <th>Intl Mins</th>\n",
       "      <th>CustServ Calls</th>\n",
       "      <th>Churn</th>\n",
       "      <th>Intl Plan</th>\n",
       "      <th>VMail Plan</th>\n",
       "      <th>...</th>\n",
       "      <th>Daily Charges MV</th>\n",
       "      <th>Eve Calls</th>\n",
       "      <th>Eve Charge</th>\n",
       "      <th>Night Calls</th>\n",
       "      <th>Night Charge</th>\n",
       "      <th>Intl Calls</th>\n",
       "      <th>Intl Charge</th>\n",
       "      <th>State</th>\n",
       "      <th>Area Code</th>\n",
       "      <th>Phone</th>\n",
       "    </tr>\n",
       "  </thead>\n",
       "  <tbody>\n",
       "    <tr>\n",
       "      <th>0</th>\n",
       "      <td>NaN</td>\n",
       "      <td>NaN</td>\n",
       "      <td>NaN</td>\n",
       "      <td>NaN</td>\n",
       "      <td>NaN</td>\n",
       "      <td>NaN</td>\n",
       "      <td>NaN</td>\n",
       "      <td>NaN</td>\n",
       "      <td>NaN</td>\n",
       "      <td>NaN</td>\n",
       "      <td>...</td>\n",
       "      <td>NaN</td>\n",
       "      <td>NaN</td>\n",
       "      <td>NaN</td>\n",
       "      <td>NaN</td>\n",
       "      <td>NaN</td>\n",
       "      <td>NaN</td>\n",
       "      <td>NaN</td>\n",
       "      <td>NaN</td>\n",
       "      <td>NaN</td>\n",
       "      <td>NaN</td>\n",
       "    </tr>\n",
       "    <tr>\n",
       "      <th>1</th>\n",
       "      <td>128.0</td>\n",
       "      <td>25.0</td>\n",
       "      <td>265.1</td>\n",
       "      <td>197.4</td>\n",
       "      <td>244.7</td>\n",
       "      <td>10.0</td>\n",
       "      <td>1.0</td>\n",
       "      <td>0.0</td>\n",
       "      <td>0.0</td>\n",
       "      <td>1.0</td>\n",
       "      <td>...</td>\n",
       "      <td>45.07</td>\n",
       "      <td>99.0</td>\n",
       "      <td>16.78</td>\n",
       "      <td>91.0</td>\n",
       "      <td>11.01</td>\n",
       "      <td>3.0</td>\n",
       "      <td>2.7</td>\n",
       "      <td>KS</td>\n",
       "      <td>415.0</td>\n",
       "      <td>382-4657</td>\n",
       "    </tr>\n",
       "    <tr>\n",
       "      <th>2</th>\n",
       "      <td>NaN</td>\n",
       "      <td>NaN</td>\n",
       "      <td>NaN</td>\n",
       "      <td>NaN</td>\n",
       "      <td>NaN</td>\n",
       "      <td>NaN</td>\n",
       "      <td>NaN</td>\n",
       "      <td>NaN</td>\n",
       "      <td>NaN</td>\n",
       "      <td>NaN</td>\n",
       "      <td>...</td>\n",
       "      <td>NaN</td>\n",
       "      <td>NaN</td>\n",
       "      <td>NaN</td>\n",
       "      <td>NaN</td>\n",
       "      <td>NaN</td>\n",
       "      <td>NaN</td>\n",
       "      <td>NaN</td>\n",
       "      <td>NaN</td>\n",
       "      <td>NaN</td>\n",
       "      <td>NaN</td>\n",
       "    </tr>\n",
       "    <tr>\n",
       "      <th>3</th>\n",
       "      <td>107.0</td>\n",
       "      <td>26.0</td>\n",
       "      <td>161.6</td>\n",
       "      <td>195.5</td>\n",
       "      <td>254.4</td>\n",
       "      <td>13.7</td>\n",
       "      <td>1.0</td>\n",
       "      <td>0.0</td>\n",
       "      <td>0.0</td>\n",
       "      <td>1.0</td>\n",
       "      <td>...</td>\n",
       "      <td>27.47</td>\n",
       "      <td>103.0</td>\n",
       "      <td>16.62</td>\n",
       "      <td>103.0</td>\n",
       "      <td>11.45</td>\n",
       "      <td>3.0</td>\n",
       "      <td>3.7</td>\n",
       "      <td>OH</td>\n",
       "      <td>415.0</td>\n",
       "      <td>371-7191</td>\n",
       "    </tr>\n",
       "    <tr>\n",
       "      <th>4</th>\n",
       "      <td>NaN</td>\n",
       "      <td>NaN</td>\n",
       "      <td>NaN</td>\n",
       "      <td>NaN</td>\n",
       "      <td>NaN</td>\n",
       "      <td>NaN</td>\n",
       "      <td>NaN</td>\n",
       "      <td>NaN</td>\n",
       "      <td>NaN</td>\n",
       "      <td>NaN</td>\n",
       "      <td>...</td>\n",
       "      <td>NaN</td>\n",
       "      <td>NaN</td>\n",
       "      <td>NaN</td>\n",
       "      <td>NaN</td>\n",
       "      <td>NaN</td>\n",
       "      <td>NaN</td>\n",
       "      <td>NaN</td>\n",
       "      <td>NaN</td>\n",
       "      <td>NaN</td>\n",
       "      <td>NaN</td>\n",
       "    </tr>\n",
       "  </tbody>\n",
       "</table>\n",
       "<p>5 rows × 22 columns</p>\n",
       "</div>"
      ],
      "text/plain": [
       "   Account Length  VMail Message  Day Mins  Eve Mins  Night Mins  Intl Mins  \\\n",
       "0             NaN            NaN       NaN       NaN         NaN        NaN   \n",
       "1           128.0           25.0     265.1     197.4       244.7       10.0   \n",
       "2             NaN            NaN       NaN       NaN         NaN        NaN   \n",
       "3           107.0           26.0     161.6     195.5       254.4       13.7   \n",
       "4             NaN            NaN       NaN       NaN         NaN        NaN   \n",
       "\n",
       "   CustServ Calls  Churn  Intl Plan  VMail Plan    ...     Daily Charges MV  \\\n",
       "0             NaN    NaN        NaN         NaN    ...                  NaN   \n",
       "1             1.0    0.0        0.0         1.0    ...                45.07   \n",
       "2             NaN    NaN        NaN         NaN    ...                  NaN   \n",
       "3             1.0    0.0        0.0         1.0    ...                27.47   \n",
       "4             NaN    NaN        NaN         NaN    ...                  NaN   \n",
       "\n",
       "   Eve Calls  Eve Charge  Night Calls  Night Charge  Intl Calls  Intl Charge  \\\n",
       "0        NaN         NaN          NaN           NaN         NaN          NaN   \n",
       "1       99.0       16.78         91.0         11.01         3.0          2.7   \n",
       "2        NaN         NaN          NaN           NaN         NaN          NaN   \n",
       "3      103.0       16.62        103.0         11.45         3.0          3.7   \n",
       "4        NaN         NaN          NaN           NaN         NaN          NaN   \n",
       "\n",
       "   State  Area Code     Phone  \n",
       "0    NaN        NaN       NaN  \n",
       "1     KS      415.0  382-4657  \n",
       "2    NaN        NaN       NaN  \n",
       "3     OH      415.0  371-7191  \n",
       "4    NaN        NaN       NaN  \n",
       "\n",
       "[5 rows x 22 columns]"
      ]
     },
     "execution_count": 1,
     "metadata": {},
     "output_type": "execute_result"
    }
   ],
   "source": [
    "import pandas as pd\n",
    "import pickle\n",
    "churn = pd.read_csv(\"C:/Users/E002891/Desktop/DayWiseTracker/Programming Concepts/Data Science/Capstone Prj/Churn_MV.csv\")\n",
    "churn.head(5)"
   ]
  },
  {
   "cell_type": "code",
   "execution_count": 2,
   "metadata": {},
   "outputs": [
    {
     "data": {
      "text/html": [
       "<div>\n",
       "<style scoped>\n",
       "    .dataframe tbody tr th:only-of-type {\n",
       "        vertical-align: middle;\n",
       "    }\n",
       "\n",
       "    .dataframe tbody tr th {\n",
       "        vertical-align: top;\n",
       "    }\n",
       "\n",
       "    .dataframe thead th {\n",
       "        text-align: right;\n",
       "    }\n",
       "</style>\n",
       "<table border=\"1\" class=\"dataframe\">\n",
       "  <thead>\n",
       "    <tr style=\"text-align: right;\">\n",
       "      <th></th>\n",
       "      <th>Account Length</th>\n",
       "      <th>VMail Message</th>\n",
       "      <th>Day Mins</th>\n",
       "      <th>Eve Mins</th>\n",
       "      <th>Night Mins</th>\n",
       "      <th>Intl Mins</th>\n",
       "      <th>CustServ Calls</th>\n",
       "      <th>Churn</th>\n",
       "      <th>Intl Plan</th>\n",
       "      <th>VMail Plan</th>\n",
       "      <th>...</th>\n",
       "      <th>Daily Charges MV</th>\n",
       "      <th>Eve Calls</th>\n",
       "      <th>Eve Charge</th>\n",
       "      <th>Night Calls</th>\n",
       "      <th>Night Charge</th>\n",
       "      <th>Intl Calls</th>\n",
       "      <th>Intl Charge</th>\n",
       "      <th>State</th>\n",
       "      <th>Area Code</th>\n",
       "      <th>Phone</th>\n",
       "    </tr>\n",
       "  </thead>\n",
       "  <tbody>\n",
       "    <tr>\n",
       "      <th>0</th>\n",
       "      <td>128.0</td>\n",
       "      <td>25.0</td>\n",
       "      <td>265.1</td>\n",
       "      <td>197.4</td>\n",
       "      <td>244.7</td>\n",
       "      <td>10.0</td>\n",
       "      <td>1.0</td>\n",
       "      <td>0.0</td>\n",
       "      <td>0.0</td>\n",
       "      <td>1.0</td>\n",
       "      <td>...</td>\n",
       "      <td>45.07</td>\n",
       "      <td>99.0</td>\n",
       "      <td>16.78</td>\n",
       "      <td>91.0</td>\n",
       "      <td>11.01</td>\n",
       "      <td>3.0</td>\n",
       "      <td>2.70</td>\n",
       "      <td>KS</td>\n",
       "      <td>415.0</td>\n",
       "      <td>382-4657</td>\n",
       "    </tr>\n",
       "    <tr>\n",
       "      <th>1</th>\n",
       "      <td>107.0</td>\n",
       "      <td>26.0</td>\n",
       "      <td>161.6</td>\n",
       "      <td>195.5</td>\n",
       "      <td>254.4</td>\n",
       "      <td>13.7</td>\n",
       "      <td>1.0</td>\n",
       "      <td>0.0</td>\n",
       "      <td>0.0</td>\n",
       "      <td>1.0</td>\n",
       "      <td>...</td>\n",
       "      <td>27.47</td>\n",
       "      <td>103.0</td>\n",
       "      <td>16.62</td>\n",
       "      <td>103.0</td>\n",
       "      <td>11.45</td>\n",
       "      <td>3.0</td>\n",
       "      <td>3.70</td>\n",
       "      <td>OH</td>\n",
       "      <td>415.0</td>\n",
       "      <td>371-7191</td>\n",
       "    </tr>\n",
       "    <tr>\n",
       "      <th>2</th>\n",
       "      <td>137.0</td>\n",
       "      <td>0.0</td>\n",
       "      <td>243.4</td>\n",
       "      <td>121.2</td>\n",
       "      <td>162.6</td>\n",
       "      <td>12.2</td>\n",
       "      <td>0.0</td>\n",
       "      <td>0.0</td>\n",
       "      <td>0.0</td>\n",
       "      <td>0.0</td>\n",
       "      <td>...</td>\n",
       "      <td>41.38</td>\n",
       "      <td>110.0</td>\n",
       "      <td>10.30</td>\n",
       "      <td>104.0</td>\n",
       "      <td>7.32</td>\n",
       "      <td>5.0</td>\n",
       "      <td>3.29</td>\n",
       "      <td>NJ</td>\n",
       "      <td>415.0</td>\n",
       "      <td>358-1921</td>\n",
       "    </tr>\n",
       "    <tr>\n",
       "      <th>3</th>\n",
       "      <td>84.0</td>\n",
       "      <td>0.0</td>\n",
       "      <td>299.4</td>\n",
       "      <td>61.9</td>\n",
       "      <td>196.9</td>\n",
       "      <td>6.6</td>\n",
       "      <td>2.0</td>\n",
       "      <td>0.0</td>\n",
       "      <td>1.0</td>\n",
       "      <td>0.0</td>\n",
       "      <td>...</td>\n",
       "      <td>50.90</td>\n",
       "      <td>88.0</td>\n",
       "      <td>5.26</td>\n",
       "      <td>89.0</td>\n",
       "      <td>8.86</td>\n",
       "      <td>7.0</td>\n",
       "      <td>1.78</td>\n",
       "      <td>OH</td>\n",
       "      <td>408.0</td>\n",
       "      <td>375-9999</td>\n",
       "    </tr>\n",
       "    <tr>\n",
       "      <th>4</th>\n",
       "      <td>75.0</td>\n",
       "      <td>0.0</td>\n",
       "      <td>166.7</td>\n",
       "      <td>148.3</td>\n",
       "      <td>186.9</td>\n",
       "      <td>10.1</td>\n",
       "      <td>3.0</td>\n",
       "      <td>0.0</td>\n",
       "      <td>1.0</td>\n",
       "      <td>0.0</td>\n",
       "      <td>...</td>\n",
       "      <td>28.34</td>\n",
       "      <td>122.0</td>\n",
       "      <td>12.61</td>\n",
       "      <td>121.0</td>\n",
       "      <td>8.41</td>\n",
       "      <td>3.0</td>\n",
       "      <td>2.73</td>\n",
       "      <td>OK</td>\n",
       "      <td>415.0</td>\n",
       "      <td>330-6626</td>\n",
       "    </tr>\n",
       "  </tbody>\n",
       "</table>\n",
       "<p>5 rows × 22 columns</p>\n",
       "</div>"
      ],
      "text/plain": [
       "   Account Length  VMail Message  Day Mins  Eve Mins  Night Mins  Intl Mins  \\\n",
       "0           128.0           25.0     265.1     197.4       244.7       10.0   \n",
       "1           107.0           26.0     161.6     195.5       254.4       13.7   \n",
       "2           137.0            0.0     243.4     121.2       162.6       12.2   \n",
       "3            84.0            0.0     299.4      61.9       196.9        6.6   \n",
       "4            75.0            0.0     166.7     148.3       186.9       10.1   \n",
       "\n",
       "   CustServ Calls  Churn  Intl Plan  VMail Plan    ...     Daily Charges MV  \\\n",
       "0             1.0    0.0        0.0         1.0    ...                45.07   \n",
       "1             1.0    0.0        0.0         1.0    ...                27.47   \n",
       "2             0.0    0.0        0.0         0.0    ...                41.38   \n",
       "3             2.0    0.0        1.0         0.0    ...                50.90   \n",
       "4             3.0    0.0        1.0         0.0    ...                28.34   \n",
       "\n",
       "   Eve Calls  Eve Charge  Night Calls  Night Charge  Intl Calls  Intl Charge  \\\n",
       "0       99.0       16.78         91.0         11.01         3.0         2.70   \n",
       "1      103.0       16.62        103.0         11.45         3.0         3.70   \n",
       "2      110.0       10.30        104.0          7.32         5.0         3.29   \n",
       "3       88.0        5.26         89.0          8.86         7.0         1.78   \n",
       "4      122.0       12.61        121.0          8.41         3.0         2.73   \n",
       "\n",
       "   State  Area Code     Phone  \n",
       "0     KS      415.0  382-4657  \n",
       "1     OH      415.0  371-7191  \n",
       "2     NJ      415.0  358-1921  \n",
       "3     OH      408.0  375-9999  \n",
       "4     OK      415.0  330-6626  \n",
       "\n",
       "[5 rows x 22 columns]"
      ]
     },
     "execution_count": 2,
     "metadata": {},
     "output_type": "execute_result"
    }
   ],
   "source": [
    "churn=churn.dropna(how='all')\n",
    "churn.reset_index(drop=True,inplace=True)\n",
    "churn.head(5)"
   ]
  },
  {
   "cell_type": "code",
   "execution_count": 150,
   "metadata": {
    "scrolled": true
   },
   "outputs": [
    {
     "data": {
      "text/plain": [
       "Account Length       0\n",
       "VMail Message        0\n",
       "Day Mins             0\n",
       "Eve Mins             0\n",
       "Night Mins           0\n",
       "Intl Mins            0\n",
       "CustServ Calls       0\n",
       "Churn                0\n",
       "Intl Plan            0\n",
       "VMail Plan           0\n",
       "Day Calls            0\n",
       "Day Charge           0\n",
       "Daily Charges MV    50\n",
       "Eve Calls            0\n",
       "Eve Charge           0\n",
       "Night Calls          0\n",
       "Night Charge         0\n",
       "Intl Calls           0\n",
       "Intl Charge          0\n",
       "State                0\n",
       "Area Code            0\n",
       "Phone                0\n",
       "dtype: int64"
      ]
     },
     "execution_count": 150,
     "metadata": {},
     "output_type": "execute_result"
    }
   ],
   "source": [
    "churn.isna().sum()"
   ]
  },
  {
   "cell_type": "code",
   "execution_count": 151,
   "metadata": {
    "scrolled": false
   },
   "outputs": [
    {
     "data": {
      "text/html": [
       "<div>\n",
       "<style scoped>\n",
       "    .dataframe tbody tr th:only-of-type {\n",
       "        vertical-align: middle;\n",
       "    }\n",
       "\n",
       "    .dataframe tbody tr th {\n",
       "        vertical-align: top;\n",
       "    }\n",
       "\n",
       "    .dataframe thead th {\n",
       "        text-align: right;\n",
       "    }\n",
       "</style>\n",
       "<table border=\"1\" class=\"dataframe\">\n",
       "  <thead>\n",
       "    <tr style=\"text-align: right;\">\n",
       "      <th></th>\n",
       "      <th>Account Length</th>\n",
       "      <th>VMail Message</th>\n",
       "      <th>Day Mins</th>\n",
       "      <th>Eve Mins</th>\n",
       "      <th>Night Mins</th>\n",
       "      <th>Intl Mins</th>\n",
       "      <th>CustServ Calls</th>\n",
       "      <th>Churn</th>\n",
       "      <th>Intl Plan</th>\n",
       "      <th>VMail Plan</th>\n",
       "      <th>Day Calls</th>\n",
       "      <th>Day Charge</th>\n",
       "      <th>Daily Charges MV</th>\n",
       "      <th>Eve Calls</th>\n",
       "      <th>Eve Charge</th>\n",
       "      <th>Night Calls</th>\n",
       "      <th>Night Charge</th>\n",
       "      <th>Intl Calls</th>\n",
       "      <th>Intl Charge</th>\n",
       "      <th>Area Code</th>\n",
       "    </tr>\n",
       "  </thead>\n",
       "  <tbody>\n",
       "    <tr>\n",
       "      <th>count</th>\n",
       "      <td>3333.000000</td>\n",
       "      <td>3333.000000</td>\n",
       "      <td>3333.000000</td>\n",
       "      <td>3333.000000</td>\n",
       "      <td>3333.000000</td>\n",
       "      <td>3333.000000</td>\n",
       "      <td>3333.000000</td>\n",
       "      <td>3333.000000</td>\n",
       "      <td>3333.000000</td>\n",
       "      <td>3333.000000</td>\n",
       "      <td>3333.000000</td>\n",
       "      <td>3333.000000</td>\n",
       "      <td>3283.000000</td>\n",
       "      <td>3333.000000</td>\n",
       "      <td>3333.000000</td>\n",
       "      <td>3333.000000</td>\n",
       "      <td>3333.000000</td>\n",
       "      <td>3333.000000</td>\n",
       "      <td>3333.000000</td>\n",
       "      <td>3333.000000</td>\n",
       "    </tr>\n",
       "    <tr>\n",
       "      <th>mean</th>\n",
       "      <td>101.064806</td>\n",
       "      <td>8.099010</td>\n",
       "      <td>179.775098</td>\n",
       "      <td>200.980348</td>\n",
       "      <td>200.872037</td>\n",
       "      <td>10.237294</td>\n",
       "      <td>1.562856</td>\n",
       "      <td>0.144914</td>\n",
       "      <td>0.096910</td>\n",
       "      <td>0.276628</td>\n",
       "      <td>100.435644</td>\n",
       "      <td>30.562307</td>\n",
       "      <td>30.533475</td>\n",
       "      <td>100.114311</td>\n",
       "      <td>17.083540</td>\n",
       "      <td>100.107711</td>\n",
       "      <td>9.039325</td>\n",
       "      <td>4.479448</td>\n",
       "      <td>2.764581</td>\n",
       "      <td>437.182418</td>\n",
       "    </tr>\n",
       "    <tr>\n",
       "      <th>std</th>\n",
       "      <td>39.822106</td>\n",
       "      <td>13.688365</td>\n",
       "      <td>54.467389</td>\n",
       "      <td>50.713844</td>\n",
       "      <td>50.573847</td>\n",
       "      <td>2.791840</td>\n",
       "      <td>1.315491</td>\n",
       "      <td>0.352067</td>\n",
       "      <td>0.295879</td>\n",
       "      <td>0.447398</td>\n",
       "      <td>20.069084</td>\n",
       "      <td>9.259435</td>\n",
       "      <td>9.205538</td>\n",
       "      <td>19.922625</td>\n",
       "      <td>4.310668</td>\n",
       "      <td>19.568609</td>\n",
       "      <td>2.275873</td>\n",
       "      <td>2.461214</td>\n",
       "      <td>0.753773</td>\n",
       "      <td>42.371290</td>\n",
       "    </tr>\n",
       "    <tr>\n",
       "      <th>min</th>\n",
       "      <td>1.000000</td>\n",
       "      <td>0.000000</td>\n",
       "      <td>0.000000</td>\n",
       "      <td>0.000000</td>\n",
       "      <td>23.200000</td>\n",
       "      <td>0.000000</td>\n",
       "      <td>0.000000</td>\n",
       "      <td>0.000000</td>\n",
       "      <td>0.000000</td>\n",
       "      <td>0.000000</td>\n",
       "      <td>0.000000</td>\n",
       "      <td>0.000000</td>\n",
       "      <td>0.000000</td>\n",
       "      <td>0.000000</td>\n",
       "      <td>0.000000</td>\n",
       "      <td>33.000000</td>\n",
       "      <td>1.040000</td>\n",
       "      <td>0.000000</td>\n",
       "      <td>0.000000</td>\n",
       "      <td>408.000000</td>\n",
       "    </tr>\n",
       "    <tr>\n",
       "      <th>25%</th>\n",
       "      <td>74.000000</td>\n",
       "      <td>0.000000</td>\n",
       "      <td>143.700000</td>\n",
       "      <td>166.600000</td>\n",
       "      <td>167.000000</td>\n",
       "      <td>8.500000</td>\n",
       "      <td>1.000000</td>\n",
       "      <td>0.000000</td>\n",
       "      <td>0.000000</td>\n",
       "      <td>0.000000</td>\n",
       "      <td>87.000000</td>\n",
       "      <td>24.430000</td>\n",
       "      <td>24.420000</td>\n",
       "      <td>87.000000</td>\n",
       "      <td>14.160000</td>\n",
       "      <td>87.000000</td>\n",
       "      <td>7.520000</td>\n",
       "      <td>3.000000</td>\n",
       "      <td>2.300000</td>\n",
       "      <td>408.000000</td>\n",
       "    </tr>\n",
       "    <tr>\n",
       "      <th>50%</th>\n",
       "      <td>101.000000</td>\n",
       "      <td>0.000000</td>\n",
       "      <td>179.400000</td>\n",
       "      <td>201.400000</td>\n",
       "      <td>201.200000</td>\n",
       "      <td>10.300000</td>\n",
       "      <td>1.000000</td>\n",
       "      <td>0.000000</td>\n",
       "      <td>0.000000</td>\n",
       "      <td>0.000000</td>\n",
       "      <td>101.000000</td>\n",
       "      <td>30.500000</td>\n",
       "      <td>30.500000</td>\n",
       "      <td>100.000000</td>\n",
       "      <td>17.120000</td>\n",
       "      <td>100.000000</td>\n",
       "      <td>9.050000</td>\n",
       "      <td>4.000000</td>\n",
       "      <td>2.780000</td>\n",
       "      <td>415.000000</td>\n",
       "    </tr>\n",
       "    <tr>\n",
       "      <th>75%</th>\n",
       "      <td>127.000000</td>\n",
       "      <td>20.000000</td>\n",
       "      <td>216.400000</td>\n",
       "      <td>235.300000</td>\n",
       "      <td>235.300000</td>\n",
       "      <td>12.100000</td>\n",
       "      <td>2.000000</td>\n",
       "      <td>0.000000</td>\n",
       "      <td>0.000000</td>\n",
       "      <td>1.000000</td>\n",
       "      <td>114.000000</td>\n",
       "      <td>36.790000</td>\n",
       "      <td>36.745000</td>\n",
       "      <td>114.000000</td>\n",
       "      <td>20.000000</td>\n",
       "      <td>113.000000</td>\n",
       "      <td>10.590000</td>\n",
       "      <td>6.000000</td>\n",
       "      <td>3.270000</td>\n",
       "      <td>510.000000</td>\n",
       "    </tr>\n",
       "    <tr>\n",
       "      <th>max</th>\n",
       "      <td>243.000000</td>\n",
       "      <td>51.000000</td>\n",
       "      <td>350.800000</td>\n",
       "      <td>363.700000</td>\n",
       "      <td>395.000000</td>\n",
       "      <td>20.000000</td>\n",
       "      <td>9.000000</td>\n",
       "      <td>1.000000</td>\n",
       "      <td>1.000000</td>\n",
       "      <td>1.000000</td>\n",
       "      <td>165.000000</td>\n",
       "      <td>59.640000</td>\n",
       "      <td>59.640000</td>\n",
       "      <td>170.000000</td>\n",
       "      <td>30.910000</td>\n",
       "      <td>175.000000</td>\n",
       "      <td>17.770000</td>\n",
       "      <td>20.000000</td>\n",
       "      <td>5.400000</td>\n",
       "      <td>510.000000</td>\n",
       "    </tr>\n",
       "  </tbody>\n",
       "</table>\n",
       "</div>"
      ],
      "text/plain": [
       "       Account Length  VMail Message     Day Mins     Eve Mins   Night Mins  \\\n",
       "count     3333.000000    3333.000000  3333.000000  3333.000000  3333.000000   \n",
       "mean       101.064806       8.099010   179.775098   200.980348   200.872037   \n",
       "std         39.822106      13.688365    54.467389    50.713844    50.573847   \n",
       "min          1.000000       0.000000     0.000000     0.000000    23.200000   \n",
       "25%         74.000000       0.000000   143.700000   166.600000   167.000000   \n",
       "50%        101.000000       0.000000   179.400000   201.400000   201.200000   \n",
       "75%        127.000000      20.000000   216.400000   235.300000   235.300000   \n",
       "max        243.000000      51.000000   350.800000   363.700000   395.000000   \n",
       "\n",
       "         Intl Mins  CustServ Calls        Churn    Intl Plan   VMail Plan  \\\n",
       "count  3333.000000     3333.000000  3333.000000  3333.000000  3333.000000   \n",
       "mean     10.237294        1.562856     0.144914     0.096910     0.276628   \n",
       "std       2.791840        1.315491     0.352067     0.295879     0.447398   \n",
       "min       0.000000        0.000000     0.000000     0.000000     0.000000   \n",
       "25%       8.500000        1.000000     0.000000     0.000000     0.000000   \n",
       "50%      10.300000        1.000000     0.000000     0.000000     0.000000   \n",
       "75%      12.100000        2.000000     0.000000     0.000000     1.000000   \n",
       "max      20.000000        9.000000     1.000000     1.000000     1.000000   \n",
       "\n",
       "         Day Calls   Day Charge  Daily Charges MV    Eve Calls   Eve Charge  \\\n",
       "count  3333.000000  3333.000000       3283.000000  3333.000000  3333.000000   \n",
       "mean    100.435644    30.562307         30.533475   100.114311    17.083540   \n",
       "std      20.069084     9.259435          9.205538    19.922625     4.310668   \n",
       "min       0.000000     0.000000          0.000000     0.000000     0.000000   \n",
       "25%      87.000000    24.430000         24.420000    87.000000    14.160000   \n",
       "50%     101.000000    30.500000         30.500000   100.000000    17.120000   \n",
       "75%     114.000000    36.790000         36.745000   114.000000    20.000000   \n",
       "max     165.000000    59.640000         59.640000   170.000000    30.910000   \n",
       "\n",
       "       Night Calls  Night Charge   Intl Calls  Intl Charge    Area Code  \n",
       "count  3333.000000   3333.000000  3333.000000  3333.000000  3333.000000  \n",
       "mean    100.107711      9.039325     4.479448     2.764581   437.182418  \n",
       "std      19.568609      2.275873     2.461214     0.753773    42.371290  \n",
       "min      33.000000      1.040000     0.000000     0.000000   408.000000  \n",
       "25%      87.000000      7.520000     3.000000     2.300000   408.000000  \n",
       "50%     100.000000      9.050000     4.000000     2.780000   415.000000  \n",
       "75%     113.000000     10.590000     6.000000     3.270000   510.000000  \n",
       "max     175.000000     17.770000    20.000000     5.400000   510.000000  "
      ]
     },
     "execution_count": 151,
     "metadata": {},
     "output_type": "execute_result"
    }
   ],
   "source": [
    "churn.describe()"
   ]
  },
  {
   "cell_type": "markdown",
   "metadata": {},
   "source": [
    "### <font color=red> Check Class imbalance"
   ]
  },
  {
   "cell_type": "code",
   "execution_count": 7,
   "metadata": {},
   "outputs": [
    {
     "data": {
      "text/plain": [
       "0.0    2850\n",
       "1.0     483\n",
       "Name: Churn, dtype: int64"
      ]
     },
     "execution_count": 7,
     "metadata": {},
     "output_type": "execute_result"
    }
   ],
   "source": [
    "churn.Churn.value_counts()"
   ]
  },
  {
   "cell_type": "code",
   "execution_count": 8,
   "metadata": {},
   "outputs": [
    {
     "data": {
      "text/plain": [
       "5.900621118012422"
      ]
     },
     "execution_count": 8,
     "metadata": {},
     "output_type": "execute_result"
    }
   ],
   "source": [
    "churn.Churn.value_counts()[0]/churn.Churn.value_counts()[1]"
   ]
  },
  {
   "cell_type": "markdown",
   "metadata": {},
   "source": [
    "##### Separate response column"
   ]
  },
  {
   "cell_type": "code",
   "execution_count": 3,
   "metadata": {},
   "outputs": [
    {
     "data": {
      "text/html": [
       "<div>\n",
       "<style scoped>\n",
       "    .dataframe tbody tr th:only-of-type {\n",
       "        vertical-align: middle;\n",
       "    }\n",
       "\n",
       "    .dataframe tbody tr th {\n",
       "        vertical-align: top;\n",
       "    }\n",
       "\n",
       "    .dataframe thead th {\n",
       "        text-align: right;\n",
       "    }\n",
       "</style>\n",
       "<table border=\"1\" class=\"dataframe\">\n",
       "  <thead>\n",
       "    <tr style=\"text-align: right;\">\n",
       "      <th></th>\n",
       "      <th>Account Length</th>\n",
       "      <th>VMail Message</th>\n",
       "      <th>Day Mins</th>\n",
       "      <th>Eve Mins</th>\n",
       "      <th>Night Mins</th>\n",
       "      <th>Intl Mins</th>\n",
       "      <th>CustServ Calls</th>\n",
       "      <th>Intl Plan</th>\n",
       "      <th>VMail Plan</th>\n",
       "      <th>Day Calls</th>\n",
       "      <th>Day Charge</th>\n",
       "      <th>Daily Charges MV</th>\n",
       "      <th>Eve Calls</th>\n",
       "      <th>Eve Charge</th>\n",
       "      <th>Night Calls</th>\n",
       "      <th>Night Charge</th>\n",
       "      <th>Intl Calls</th>\n",
       "      <th>Intl Charge</th>\n",
       "    </tr>\n",
       "  </thead>\n",
       "  <tbody>\n",
       "    <tr>\n",
       "      <th>0</th>\n",
       "      <td>128.0</td>\n",
       "      <td>25.0</td>\n",
       "      <td>265.1</td>\n",
       "      <td>197.4</td>\n",
       "      <td>244.7</td>\n",
       "      <td>10.0</td>\n",
       "      <td>1.0</td>\n",
       "      <td>0.0</td>\n",
       "      <td>1.0</td>\n",
       "      <td>110.0</td>\n",
       "      <td>45.07</td>\n",
       "      <td>45.07</td>\n",
       "      <td>99.0</td>\n",
       "      <td>16.78</td>\n",
       "      <td>91.0</td>\n",
       "      <td>11.01</td>\n",
       "      <td>3.0</td>\n",
       "      <td>2.70</td>\n",
       "    </tr>\n",
       "    <tr>\n",
       "      <th>1</th>\n",
       "      <td>107.0</td>\n",
       "      <td>26.0</td>\n",
       "      <td>161.6</td>\n",
       "      <td>195.5</td>\n",
       "      <td>254.4</td>\n",
       "      <td>13.7</td>\n",
       "      <td>1.0</td>\n",
       "      <td>0.0</td>\n",
       "      <td>1.0</td>\n",
       "      <td>123.0</td>\n",
       "      <td>27.47</td>\n",
       "      <td>27.47</td>\n",
       "      <td>103.0</td>\n",
       "      <td>16.62</td>\n",
       "      <td>103.0</td>\n",
       "      <td>11.45</td>\n",
       "      <td>3.0</td>\n",
       "      <td>3.70</td>\n",
       "    </tr>\n",
       "    <tr>\n",
       "      <th>2</th>\n",
       "      <td>137.0</td>\n",
       "      <td>0.0</td>\n",
       "      <td>243.4</td>\n",
       "      <td>121.2</td>\n",
       "      <td>162.6</td>\n",
       "      <td>12.2</td>\n",
       "      <td>0.0</td>\n",
       "      <td>0.0</td>\n",
       "      <td>0.0</td>\n",
       "      <td>114.0</td>\n",
       "      <td>41.38</td>\n",
       "      <td>41.38</td>\n",
       "      <td>110.0</td>\n",
       "      <td>10.30</td>\n",
       "      <td>104.0</td>\n",
       "      <td>7.32</td>\n",
       "      <td>5.0</td>\n",
       "      <td>3.29</td>\n",
       "    </tr>\n",
       "  </tbody>\n",
       "</table>\n",
       "</div>"
      ],
      "text/plain": [
       "   Account Length  VMail Message  Day Mins  Eve Mins  Night Mins  Intl Mins  \\\n",
       "0           128.0           25.0     265.1     197.4       244.7       10.0   \n",
       "1           107.0           26.0     161.6     195.5       254.4       13.7   \n",
       "2           137.0            0.0     243.4     121.2       162.6       12.2   \n",
       "\n",
       "   CustServ Calls  Intl Plan  VMail Plan  Day Calls  Day Charge  \\\n",
       "0             1.0        0.0         1.0      110.0       45.07   \n",
       "1             1.0        0.0         1.0      123.0       27.47   \n",
       "2             0.0        0.0         0.0      114.0       41.38   \n",
       "\n",
       "   Daily Charges MV  Eve Calls  Eve Charge  Night Calls  Night Charge  \\\n",
       "0             45.07       99.0       16.78         91.0         11.01   \n",
       "1             27.47      103.0       16.62        103.0         11.45   \n",
       "2             41.38      110.0       10.30        104.0          7.32   \n",
       "\n",
       "   Intl Calls  Intl Charge  \n",
       "0         3.0         2.70  \n",
       "1         3.0         3.70  \n",
       "2         5.0         3.29  "
      ]
     },
     "execution_count": 3,
     "metadata": {},
     "output_type": "execute_result"
    }
   ],
   "source": [
    "inputs = churn.iloc[:,[0,1,2,3,4,5,6,8,9,10,11,12,13,14,15,16,17,18]]\n",
    "response = churn.iloc[:,7]\n",
    "inputs.head(3)"
   ]
  },
  {
   "cell_type": "markdown",
   "metadata": {},
   "source": [
    "##### Dividing the categorical and numerical columns"
   ]
  },
  {
   "cell_type": "code",
   "execution_count": 4,
   "metadata": {},
   "outputs": [
    {
     "data": {
      "text/html": [
       "<div>\n",
       "<style scoped>\n",
       "    .dataframe tbody tr th:only-of-type {\n",
       "        vertical-align: middle;\n",
       "    }\n",
       "\n",
       "    .dataframe tbody tr th {\n",
       "        vertical-align: top;\n",
       "    }\n",
       "\n",
       "    .dataframe thead th {\n",
       "        text-align: right;\n",
       "    }\n",
       "</style>\n",
       "<table border=\"1\" class=\"dataframe\">\n",
       "  <thead>\n",
       "    <tr style=\"text-align: right;\">\n",
       "      <th></th>\n",
       "      <th>Account Length</th>\n",
       "      <th>VMail Message</th>\n",
       "      <th>Day Mins</th>\n",
       "      <th>Eve Mins</th>\n",
       "      <th>Night Mins</th>\n",
       "      <th>Intl Mins</th>\n",
       "      <th>CustServ Calls</th>\n",
       "      <th>Day Calls</th>\n",
       "      <th>Day Charge</th>\n",
       "      <th>Daily Charges MV</th>\n",
       "      <th>Eve Calls</th>\n",
       "      <th>Eve Charge</th>\n",
       "      <th>Night Calls</th>\n",
       "      <th>Night Charge</th>\n",
       "      <th>Intl Calls</th>\n",
       "      <th>Intl Charge</th>\n",
       "    </tr>\n",
       "  </thead>\n",
       "  <tbody>\n",
       "    <tr>\n",
       "      <th>0</th>\n",
       "      <td>128.0</td>\n",
       "      <td>25.0</td>\n",
       "      <td>265.1</td>\n",
       "      <td>197.4</td>\n",
       "      <td>244.7</td>\n",
       "      <td>10.0</td>\n",
       "      <td>1.0</td>\n",
       "      <td>110.0</td>\n",
       "      <td>45.07</td>\n",
       "      <td>45.07</td>\n",
       "      <td>99.0</td>\n",
       "      <td>16.78</td>\n",
       "      <td>91.0</td>\n",
       "      <td>11.01</td>\n",
       "      <td>3.0</td>\n",
       "      <td>2.7</td>\n",
       "    </tr>\n",
       "    <tr>\n",
       "      <th>1</th>\n",
       "      <td>107.0</td>\n",
       "      <td>26.0</td>\n",
       "      <td>161.6</td>\n",
       "      <td>195.5</td>\n",
       "      <td>254.4</td>\n",
       "      <td>13.7</td>\n",
       "      <td>1.0</td>\n",
       "      <td>123.0</td>\n",
       "      <td>27.47</td>\n",
       "      <td>27.47</td>\n",
       "      <td>103.0</td>\n",
       "      <td>16.62</td>\n",
       "      <td>103.0</td>\n",
       "      <td>11.45</td>\n",
       "      <td>3.0</td>\n",
       "      <td>3.7</td>\n",
       "    </tr>\n",
       "  </tbody>\n",
       "</table>\n",
       "</div>"
      ],
      "text/plain": [
       "   Account Length  VMail Message  Day Mins  Eve Mins  Night Mins  Intl Mins  \\\n",
       "0           128.0           25.0     265.1     197.4       244.7       10.0   \n",
       "1           107.0           26.0     161.6     195.5       254.4       13.7   \n",
       "\n",
       "   CustServ Calls  Day Calls  Day Charge  Daily Charges MV  Eve Calls  \\\n",
       "0             1.0      110.0       45.07             45.07       99.0   \n",
       "1             1.0      123.0       27.47             27.47      103.0   \n",
       "\n",
       "   Eve Charge  Night Calls  Night Charge  Intl Calls  Intl Charge  \n",
       "0       16.78         91.0         11.01         3.0          2.7  \n",
       "1       16.62        103.0         11.45         3.0          3.7  "
      ]
     },
     "execution_count": 4,
     "metadata": {},
     "output_type": "execute_result"
    }
   ],
   "source": [
    "catCols = inputs.loc[:,[\"Intl Plan\",\"VMail Plan\"]] #Without response variable\n",
    "numCols = inputs.iloc[:,[0,1,2,3,4,5,6,9,10,11,12,13,14,15,16,17]]\n",
    "numCols.head(2)"
   ]
  },
  {
   "cell_type": "markdown",
   "metadata": {},
   "source": [
    "### <font color=red>Preprocessing"
   ]
  },
  {
   "cell_type": "markdown",
   "metadata": {},
   "source": [
    "##### <font color=red> Imputation"
   ]
  },
  {
   "cell_type": "code",
   "execution_count": 8,
   "metadata": {},
   "outputs": [
    {
     "data": {
      "text/plain": [
       "50"
      ]
     },
     "execution_count": 8,
     "metadata": {},
     "output_type": "execute_result"
    }
   ],
   "source": [
    "numCols[\"Daily Charges MV\"].isna().sum()"
   ]
  },
  {
   "cell_type": "code",
   "execution_count": 45,
   "metadata": {},
   "outputs": [],
   "source": [
    "a=numCols[\"Daily Charges MV\"].fillna(numCols[\"Daily Charges MV\"].mean())"
   ]
  },
  {
   "cell_type": "code",
   "execution_count": 46,
   "metadata": {},
   "outputs": [
    {
     "data": {
      "text/plain": [
       "-96.09622601279173"
      ]
     },
     "execution_count": 46,
     "metadata": {},
     "output_type": "execute_result"
    }
   ],
   "source": [
    "sum(a-numCols[\"Day Charge\"])"
   ]
  },
  {
   "cell_type": "code",
   "execution_count": 47,
   "metadata": {},
   "outputs": [],
   "source": [
    "b=numCols[\"Daily Charges MV\"].fillna(numCols[\"Daily Charges MV\"].median())"
   ]
  },
  {
   "cell_type": "code",
   "execution_count": 48,
   "metadata": {
    "scrolled": true
   },
   "outputs": [
    {
     "data": {
      "text/plain": [
       "-97.77000000000004"
      ]
     },
     "execution_count": 48,
     "metadata": {},
     "output_type": "execute_result"
    }
   ],
   "source": [
    "sum(b-numCols[\"Day Charge\"])"
   ]
  },
  {
   "cell_type": "code",
   "execution_count": 52,
   "metadata": {
    "scrolled": true
   },
   "outputs": [
    {
     "data": {
      "text/plain": [
       "nan"
      ]
     },
     "execution_count": 52,
     "metadata": {},
     "output_type": "execute_result"
    }
   ],
   "source": [
    "sum(c-numCols[\"Day Charge\"])"
   ]
  },
  {
   "cell_type": "code",
   "execution_count": 25,
   "metadata": {
    "scrolled": false
   },
   "outputs": [
    {
     "ename": "ImportError",
     "evalue": "cannot import name 'knn_impute'",
     "output_type": "error",
     "traceback": [
      "\u001b[1;31m---------------------------------------------------------------------------\u001b[0m",
      "\u001b[1;31mImportError\u001b[0m                               Traceback (most recent call last)",
      "\u001b[1;32m<ipython-input-25-4a2c17b0297a>\u001b[0m in \u001b[0;36m<module>\u001b[1;34m()\u001b[0m\n\u001b[1;32m----> 1\u001b[1;33m \u001b[1;32mfrom\u001b[0m \u001b[0msklearn\u001b[0m\u001b[1;33m.\u001b[0m\u001b[0mneighbors\u001b[0m \u001b[1;32mimport\u001b[0m \u001b[0mknn_impute\u001b[0m\u001b[1;33m\u001b[0m\u001b[0m\n\u001b[0m",
      "\u001b[1;31mImportError\u001b[0m: cannot import name 'knn_impute'"
     ]
    }
   ],
   "source": [
    "from sklearn.neighbors import knn_impute\n",
    "d=knn_impute(target=numCols[\"Daily Charges MV\"],k_neighbours=10)"
   ]
  },
  {
   "cell_type": "code",
   "execution_count": 28,
   "metadata": {},
   "outputs": [
    {
     "ename": "ModuleNotFoundError",
     "evalue": "No module named 'fancyimpute'",
     "output_type": "error",
     "traceback": [
      "\u001b[1;31m---------------------------------------------------------------------------\u001b[0m",
      "\u001b[1;31mModuleNotFoundError\u001b[0m                       Traceback (most recent call last)",
      "\u001b[1;32m<ipython-input-28-082daf1fc59c>\u001b[0m in \u001b[0;36m<module>\u001b[1;34m()\u001b[0m\n\u001b[1;32m----> 1\u001b[1;33m \u001b[1;32mfrom\u001b[0m \u001b[0mfancyimpute\u001b[0m \u001b[1;32mimport\u001b[0m \u001b[0mKNN\u001b[0m\u001b[1;33m\u001b[0m\u001b[0m\n\u001b[0m",
      "\u001b[1;31mModuleNotFoundError\u001b[0m: No module named 'fancyimpute'"
     ]
    }
   ],
   "source": [
    "from fancyimpute import KNN\n",
    "fancyimpute.kNN(k=x).complete(data matrix)"
   ]
  },
  {
   "cell_type": "code",
   "execution_count": 5,
   "metadata": {},
   "outputs": [],
   "source": [
    "nulComs_Daily_na = numCols[numCols[\"Daily Charges MV\"].isna()]\n",
    "nulComs_Daily_notna = numCols[numCols[\"Daily Charges MV\"].notna()]"
   ]
  },
  {
   "cell_type": "code",
   "execution_count": 12,
   "metadata": {
    "scrolled": true
   },
   "outputs": [
    {
     "data": {
      "text/html": [
       "<div>\n",
       "<style scoped>\n",
       "    .dataframe tbody tr th:only-of-type {\n",
       "        vertical-align: middle;\n",
       "    }\n",
       "\n",
       "    .dataframe tbody tr th {\n",
       "        vertical-align: top;\n",
       "    }\n",
       "\n",
       "    .dataframe thead th {\n",
       "        text-align: right;\n",
       "    }\n",
       "</style>\n",
       "<table border=\"1\" class=\"dataframe\">\n",
       "  <thead>\n",
       "    <tr style=\"text-align: right;\">\n",
       "      <th></th>\n",
       "      <th>Account Length</th>\n",
       "      <th>VMail Message</th>\n",
       "      <th>Day Mins</th>\n",
       "      <th>Eve Mins</th>\n",
       "      <th>Night Mins</th>\n",
       "      <th>Intl Mins</th>\n",
       "      <th>CustServ Calls</th>\n",
       "      <th>Day Calls</th>\n",
       "      <th>Day Charge</th>\n",
       "      <th>Daily Charges MV</th>\n",
       "      <th>Eve Calls</th>\n",
       "      <th>Eve Charge</th>\n",
       "      <th>Night Calls</th>\n",
       "      <th>Night Charge</th>\n",
       "      <th>Intl Calls</th>\n",
       "      <th>Intl Charge</th>\n",
       "    </tr>\n",
       "  </thead>\n",
       "  <tbody>\n",
       "    <tr>\n",
       "      <th>6</th>\n",
       "      <td>121.0</td>\n",
       "      <td>24.0</td>\n",
       "      <td>218.2</td>\n",
       "      <td>348.5</td>\n",
       "      <td>212.6</td>\n",
       "      <td>7.5</td>\n",
       "      <td>3.0</td>\n",
       "      <td>88.0</td>\n",
       "      <td>37.09</td>\n",
       "      <td>NaN</td>\n",
       "      <td>108.0</td>\n",
       "      <td>29.62</td>\n",
       "      <td>118.0</td>\n",
       "      <td>9.57</td>\n",
       "      <td>7.0</td>\n",
       "      <td>2.03</td>\n",
       "    </tr>\n",
       "    <tr>\n",
       "      <th>11</th>\n",
       "      <td>74.0</td>\n",
       "      <td>0.0</td>\n",
       "      <td>187.7</td>\n",
       "      <td>163.4</td>\n",
       "      <td>196.0</td>\n",
       "      <td>9.1</td>\n",
       "      <td>0.0</td>\n",
       "      <td>127.0</td>\n",
       "      <td>31.91</td>\n",
       "      <td>NaN</td>\n",
       "      <td>148.0</td>\n",
       "      <td>13.89</td>\n",
       "      <td>94.0</td>\n",
       "      <td>8.82</td>\n",
       "      <td>5.0</td>\n",
       "      <td>2.46</td>\n",
       "    </tr>\n",
       "    <tr>\n",
       "      <th>15</th>\n",
       "      <td>161.0</td>\n",
       "      <td>0.0</td>\n",
       "      <td>332.9</td>\n",
       "      <td>317.8</td>\n",
       "      <td>160.6</td>\n",
       "      <td>5.4</td>\n",
       "      <td>4.0</td>\n",
       "      <td>67.0</td>\n",
       "      <td>56.59</td>\n",
       "      <td>NaN</td>\n",
       "      <td>97.0</td>\n",
       "      <td>27.01</td>\n",
       "      <td>128.0</td>\n",
       "      <td>7.23</td>\n",
       "      <td>9.0</td>\n",
       "      <td>1.46</td>\n",
       "    </tr>\n",
       "    <tr>\n",
       "      <th>39</th>\n",
       "      <td>149.0</td>\n",
       "      <td>0.0</td>\n",
       "      <td>140.4</td>\n",
       "      <td>271.8</td>\n",
       "      <td>188.3</td>\n",
       "      <td>11.1</td>\n",
       "      <td>1.0</td>\n",
       "      <td>94.0</td>\n",
       "      <td>23.87</td>\n",
       "      <td>NaN</td>\n",
       "      <td>92.0</td>\n",
       "      <td>23.10</td>\n",
       "      <td>108.0</td>\n",
       "      <td>8.47</td>\n",
       "      <td>9.0</td>\n",
       "      <td>3.00</td>\n",
       "    </tr>\n",
       "  </tbody>\n",
       "</table>\n",
       "</div>"
      ],
      "text/plain": [
       "    Account Length  VMail Message  Day Mins  Eve Mins  Night Mins  Intl Mins  \\\n",
       "6            121.0           24.0     218.2     348.5       212.6        7.5   \n",
       "11            74.0            0.0     187.7     163.4       196.0        9.1   \n",
       "15           161.0            0.0     332.9     317.8       160.6        5.4   \n",
       "39           149.0            0.0     140.4     271.8       188.3       11.1   \n",
       "\n",
       "    CustServ Calls  Day Calls  Day Charge  Daily Charges MV  Eve Calls  \\\n",
       "6              3.0       88.0       37.09               NaN      108.0   \n",
       "11             0.0      127.0       31.91               NaN      148.0   \n",
       "15             4.0       67.0       56.59               NaN       97.0   \n",
       "39             1.0       94.0       23.87               NaN       92.0   \n",
       "\n",
       "    Eve Charge  Night Calls  Night Charge  Intl Calls  Intl Charge  \n",
       "6        29.62        118.0          9.57         7.0         2.03  \n",
       "11       13.89         94.0          8.82         5.0         2.46  \n",
       "15       27.01        128.0          7.23         9.0         1.46  \n",
       "39       23.10        108.0          8.47         9.0         3.00  "
      ]
     },
     "execution_count": 12,
     "metadata": {},
     "output_type": "execute_result"
    }
   ],
   "source": [
    "nulComs_Daily_na.head(4)"
   ]
  },
  {
   "cell_type": "code",
   "execution_count": 6,
   "metadata": {
    "scrolled": true
   },
   "outputs": [
    {
     "name": "stdout",
     "output_type": "stream",
     "text": [
      "1.3620219550942833e-14\n"
     ]
    }
   ],
   "source": [
    "from sklearn.model_selection import train_test_split\n",
    "from sklearn.linear_model import LinearRegression\n",
    "from sklearn.metrics import mean_absolute_error\n",
    "import numpy as np\n",
    "X=nulComs_Daily_notna.iloc[:,[0,1,2,3,4,5,6,7,8,10,11,12,13,14,15]]\n",
    "y=nulComs_Daily_notna.iloc[:,9]\n",
    "X_train,X_test,y_train,y_test=train_test_split(X,y,test_size=0.3)\n",
    "lr=LinearRegression()\n",
    "lr.fit(X_train,y_train)\n",
    "y_preds=lr.predict(X_test)\n",
    "print(np.sqrt(np.mean((y_test-y_preds)**2)))\n",
    "\n",
    "# mean_absolute_error(y_test,lr.predict(X_test))\n",
    "\n"
   ]
  },
  {
   "cell_type": "code",
   "execution_count": 7,
   "metadata": {},
   "outputs": [
    {
     "data": {
      "text/plain": [
       "array([37.09, 31.91, 56.59, 23.87, 29.43, 21.22, 14.59, 40.09, 26.71,\n",
       "       51.05, 10.47, 21.13, 42.99, 30.45, 28.99, 40.48, 47.84, 31.14,\n",
       "       34.85, 25.25, 57.36, 26.79, 31.64, 41.45, 53.04, 44.61, 35.12,\n",
       "       37.64, 37.21, 35.  , 30.11, 15.64, 39.75, 10.98, 32.79, 20.81,\n",
       "       38.34, 16.42, 16.69,  7.65, 29.24, 20.81, 24.51, 34.9 , 30.91,\n",
       "       51.07, 28.8 , 44.42, 54.83, 28.1 ])"
      ]
     },
     "execution_count": 7,
     "metadata": {},
     "output_type": "execute_result"
    }
   ],
   "source": [
    "lr.predict(nulComs_Daily_na.iloc[:,[0,1,2,3,4,5,6,7,8,10,11,12,13,14,15]])"
   ]
  },
  {
   "cell_type": "code",
   "execution_count": 8,
   "metadata": {},
   "outputs": [
    {
     "name": "stderr",
     "output_type": "stream",
     "text": [
      "C:\\Users\\E002891\\AppData\\Local\\Continuum\\anaconda3\\lib\\site-packages\\pandas\\core\\indexing.py:621: SettingWithCopyWarning: \n",
      "A value is trying to be set on a copy of a slice from a DataFrame.\n",
      "Try using .loc[row_indexer,col_indexer] = value instead\n",
      "\n",
      "See the caveats in the documentation: http://pandas.pydata.org/pandas-docs/stable/indexing.html#indexing-view-versus-copy\n",
      "  self.obj[item_labels[indexer[info_axis]]] = value\n"
     ]
    }
   ],
   "source": [
    "nulComs_Daily_na.iloc[:,9]=lr.predict(nulComs_Daily_na.iloc[:,[0,1,2,3,4,5,6,7,8,10,11,12,13,14,15]])"
   ]
  },
  {
   "cell_type": "code",
   "execution_count": 160,
   "metadata": {},
   "outputs": [
    {
     "data": {
      "text/plain": [
       "3283"
      ]
     },
     "execution_count": 160,
     "metadata": {},
     "output_type": "execute_result"
    }
   ],
   "source": [
    "len(nulComs_Daily_notna)"
   ]
  },
  {
   "cell_type": "code",
   "execution_count": 9,
   "metadata": {},
   "outputs": [],
   "source": [
    "a=nulComs_Daily_na\n",
    "b=nulComs_Daily_notna\n",
    "numColsNew=pd.concat([a,b],axis=0)\n"
   ]
  },
  {
   "cell_type": "code",
   "execution_count": 10,
   "metadata": {
    "scrolled": false
   },
   "outputs": [
    {
     "data": {
      "text/html": [
       "<div>\n",
       "<style scoped>\n",
       "    .dataframe tbody tr th:only-of-type {\n",
       "        vertical-align: middle;\n",
       "    }\n",
       "\n",
       "    .dataframe tbody tr th {\n",
       "        vertical-align: top;\n",
       "    }\n",
       "\n",
       "    .dataframe thead th {\n",
       "        text-align: right;\n",
       "    }\n",
       "</style>\n",
       "<table border=\"1\" class=\"dataframe\">\n",
       "  <thead>\n",
       "    <tr style=\"text-align: right;\">\n",
       "      <th></th>\n",
       "      <th>Account Length</th>\n",
       "      <th>VMail Message</th>\n",
       "      <th>Day Mins</th>\n",
       "      <th>Eve Mins</th>\n",
       "      <th>Night Mins</th>\n",
       "      <th>Intl Mins</th>\n",
       "      <th>CustServ Calls</th>\n",
       "      <th>Day Calls</th>\n",
       "      <th>Day Charge</th>\n",
       "      <th>Daily Charges MV</th>\n",
       "      <th>Eve Calls</th>\n",
       "      <th>Eve Charge</th>\n",
       "      <th>Night Calls</th>\n",
       "      <th>Night Charge</th>\n",
       "      <th>Intl Calls</th>\n",
       "      <th>Intl Charge</th>\n",
       "    </tr>\n",
       "  </thead>\n",
       "  <tbody>\n",
       "    <tr>\n",
       "      <th>0</th>\n",
       "      <td>121.0</td>\n",
       "      <td>24.0</td>\n",
       "      <td>218.2</td>\n",
       "      <td>348.5</td>\n",
       "      <td>212.6</td>\n",
       "      <td>7.5</td>\n",
       "      <td>3.0</td>\n",
       "      <td>88.0</td>\n",
       "      <td>37.09</td>\n",
       "      <td>37.09</td>\n",
       "      <td>108.0</td>\n",
       "      <td>29.62</td>\n",
       "      <td>118.0</td>\n",
       "      <td>9.57</td>\n",
       "      <td>7.0</td>\n",
       "      <td>2.03</td>\n",
       "    </tr>\n",
       "    <tr>\n",
       "      <th>1</th>\n",
       "      <td>74.0</td>\n",
       "      <td>0.0</td>\n",
       "      <td>187.7</td>\n",
       "      <td>163.4</td>\n",
       "      <td>196.0</td>\n",
       "      <td>9.1</td>\n",
       "      <td>0.0</td>\n",
       "      <td>127.0</td>\n",
       "      <td>31.91</td>\n",
       "      <td>31.91</td>\n",
       "      <td>148.0</td>\n",
       "      <td>13.89</td>\n",
       "      <td>94.0</td>\n",
       "      <td>8.82</td>\n",
       "      <td>5.0</td>\n",
       "      <td>2.46</td>\n",
       "    </tr>\n",
       "    <tr>\n",
       "      <th>2</th>\n",
       "      <td>161.0</td>\n",
       "      <td>0.0</td>\n",
       "      <td>332.9</td>\n",
       "      <td>317.8</td>\n",
       "      <td>160.6</td>\n",
       "      <td>5.4</td>\n",
       "      <td>4.0</td>\n",
       "      <td>67.0</td>\n",
       "      <td>56.59</td>\n",
       "      <td>56.59</td>\n",
       "      <td>97.0</td>\n",
       "      <td>27.01</td>\n",
       "      <td>128.0</td>\n",
       "      <td>7.23</td>\n",
       "      <td>9.0</td>\n",
       "      <td>1.46</td>\n",
       "    </tr>\n",
       "  </tbody>\n",
       "</table>\n",
       "</div>"
      ],
      "text/plain": [
       "   Account Length  VMail Message  Day Mins  Eve Mins  Night Mins  Intl Mins  \\\n",
       "0           121.0           24.0     218.2     348.5       212.6        7.5   \n",
       "1            74.0            0.0     187.7     163.4       196.0        9.1   \n",
       "2           161.0            0.0     332.9     317.8       160.6        5.4   \n",
       "\n",
       "   CustServ Calls  Day Calls  Day Charge  Daily Charges MV  Eve Calls  \\\n",
       "0             3.0       88.0       37.09             37.09      108.0   \n",
       "1             0.0      127.0       31.91             31.91      148.0   \n",
       "2             4.0       67.0       56.59             56.59       97.0   \n",
       "\n",
       "   Eve Charge  Night Calls  Night Charge  Intl Calls  Intl Charge  \n",
       "0       29.62        118.0          9.57         7.0         2.03  \n",
       "1       13.89         94.0          8.82         5.0         2.46  \n",
       "2       27.01        128.0          7.23         9.0         1.46  "
      ]
     },
     "execution_count": 10,
     "metadata": {},
     "output_type": "execute_result"
    }
   ],
   "source": [
    "numColsNew.reset_index(drop=True,inplace=True)\n",
    "numColsNew.head(3)"
   ]
  },
  {
   "cell_type": "code",
   "execution_count": 356,
   "metadata": {
    "scrolled": true
   },
   "outputs": [
    {
     "data": {
      "text/plain": [
       "Account Length      0\n",
       "VMail Message       0\n",
       "Day Mins            0\n",
       "Eve Mins            0\n",
       "Night Mins          0\n",
       "Intl Mins           0\n",
       "CustServ Calls      0\n",
       "Day Calls           0\n",
       "Day Charge          0\n",
       "Daily Charges MV    0\n",
       "Eve Calls           0\n",
       "Eve Charge          0\n",
       "Night Calls         0\n",
       "Night Charge        0\n",
       "Intl Calls          0\n",
       "Intl Charge         0\n",
       "dtype: int64"
      ]
     },
     "execution_count": 356,
     "metadata": {},
     "output_type": "execute_result"
    }
   ],
   "source": [
    "numColsNew.isna().sum()"
   ]
  },
  {
   "cell_type": "markdown",
   "metadata": {},
   "source": [
    "##### Check RMSE from expected column"
   ]
  },
  {
   "cell_type": "code",
   "execution_count": 11,
   "metadata": {},
   "outputs": [
    {
     "name": "stdout",
     "output_type": "stream",
     "text": [
      "1.8333835966207207e-16\n"
     ]
    }
   ],
   "source": [
    "print(np.sqrt((numColsNew[\"Day Charge\"]-numColsNew[\"Daily Charges MV\"])**2).mean())"
   ]
  },
  {
   "cell_type": "markdown",
   "metadata": {},
   "source": [
    "##### Outlier Management"
   ]
  },
  {
   "cell_type": "code",
   "execution_count": 12,
   "metadata": {},
   "outputs": [
    {
     "data": {
      "text/plain": [
       "Index(['Account Length', 'VMail Message', 'Day Mins', 'Eve Mins', 'Night Mins',\n",
       "       'Intl Mins', 'CustServ Calls', 'Day Calls', 'Day Charge',\n",
       "       'Daily Charges MV', 'Eve Calls', 'Eve Charge', 'Night Calls',\n",
       "       'Night Charge', 'Intl Calls', 'Intl Charge'],\n",
       "      dtype='object')"
      ]
     },
     "execution_count": 12,
     "metadata": {},
     "output_type": "execute_result"
    }
   ],
   "source": [
    "numColsNames = ['Account Length', 'VMail Message', 'Day Mins', 'Eve Mins', 'Night Mins',\\\n",
    "       'Intl Mins', 'CustServ Calls', 'Day Calls', 'Day Charge',\\\n",
    "       'Daily Charges MV', 'Eve Calls', 'Eve Charge', 'Night Calls',\\\n",
    "       'Night Charge', 'Intl Calls', 'Intl Charge']\n",
    "numColsNew.columns"
   ]
  },
  {
   "cell_type": "code",
   "execution_count": 13,
   "metadata": {
    "scrolled": true
   },
   "outputs": [
    {
     "data": {
      "text/plain": [
       "array([[<matplotlib.axes._subplots.AxesSubplot object at 0x000000000CF2BEB8>,\n",
       "        <matplotlib.axes._subplots.AxesSubplot object at 0x000000000CF98AC8>,\n",
       "        <matplotlib.axes._subplots.AxesSubplot object at 0x000000000CFD29B0>,\n",
       "        <matplotlib.axes._subplots.AxesSubplot object at 0x000000000D00B9B0>],\n",
       "       [<matplotlib.axes._subplots.AxesSubplot object at 0x000000000D0448D0>,\n",
       "        <matplotlib.axes._subplots.AxesSubplot object at 0x000000000D044908>,\n",
       "        <matplotlib.axes._subplots.AxesSubplot object at 0x000000000D0AE400>,\n",
       "        <matplotlib.axes._subplots.AxesSubplot object at 0x000000000D0E6940>],\n",
       "       [<matplotlib.axes._subplots.AxesSubplot object at 0x000000000D11E940>,\n",
       "        <matplotlib.axes._subplots.AxesSubplot object at 0x000000000D158DA0>,\n",
       "        <matplotlib.axes._subplots.AxesSubplot object at 0x000000000D183EF0>,\n",
       "        <matplotlib.axes._subplots.AxesSubplot object at 0x000000000D1B9EF0>],\n",
       "       [<matplotlib.axes._subplots.AxesSubplot object at 0x000000000D1F4EF0>,\n",
       "        <matplotlib.axes._subplots.AxesSubplot object at 0x000000000D22DEF0>,\n",
       "        <matplotlib.axes._subplots.AxesSubplot object at 0x000000000D1CC668>,\n",
       "        <matplotlib.axes._subplots.AxesSubplot object at 0x000000000D2989B0>]],\n",
       "      dtype=object)"
      ]
     },
     "execution_count": 13,
     "metadata": {},
     "output_type": "execute_result"
    }
   ],
   "source": [
    "from matplotlib import pyplot as pt\n",
    "numColsNew.loc[:,(numColsNew.dtypes=='float64') | (numColsNew.dtypes=='int64')].hist(figsize=[11,11])"
   ]
  },
  {
   "cell_type": "code",
   "execution_count": 23,
   "metadata": {},
   "outputs": [
    {
     "data": {
      "text/plain": [
       "Index(['Account Length', 'VMail Message', 'Day Mins', 'Eve Mins', 'Night Mins',\n",
       "       'Intl Mins', 'CustServ Calls', 'Day Calls', 'Day Charge',\n",
       "       'Daily Charges MV', 'Eve Calls', 'Eve Charge', 'Night Calls',\n",
       "       'Night Charge', 'Intl Calls', 'Intl Charge'],\n",
       "      dtype='object')"
      ]
     },
     "execution_count": 23,
     "metadata": {},
     "output_type": "execute_result"
    }
   ],
   "source": [
    "numColsNew.columns"
   ]
  },
  {
   "cell_type": "code",
   "execution_count": 24,
   "metadata": {},
   "outputs": [
    {
     "data": {
      "text/plain": [
       "<matplotlib.axes._subplots.AxesSubplot at 0xdf80400>"
      ]
     },
     "execution_count": 24,
     "metadata": {},
     "output_type": "execute_result"
    },
    {
     "data": {
      "image/png": "[encoded data removed]",
      "text/plain": [
       "<matplotlib.figure.Figure at 0x91184e0>"
      ]
     },
     "metadata": {},
     "output_type": "display_data"
    }
   ],
   "source": [
    "from matplotlib import pyplot as plt\n",
    "numColsNew.boxplot(column=numColsNames,figsize=[20,20])"
   ]
  },
  {
   "cell_type": "code",
   "execution_count": 14,
   "metadata": {},
   "outputs": [
    {
     "data": {
      "text/plain": [
       "882"
      ]
     },
     "execution_count": 14,
     "metadata": {},
     "output_type": "execute_result"
    }
   ],
   "source": [
    "a=[x for x in numColsNew[\"Account Length\"].values if(x>125)]\n",
    "len(a)"
   ]
  },
  {
   "cell_type": "code",
   "execution_count": 23,
   "metadata": {},
   "outputs": [
    {
     "data": {
      "text/html": [
       "<div>\n",
       "<style scoped>\n",
       "    .dataframe tbody tr th:only-of-type {\n",
       "        vertical-align: middle;\n",
       "    }\n",
       "\n",
       "    .dataframe tbody tr th {\n",
       "        vertical-align: top;\n",
       "    }\n",
       "\n",
       "    .dataframe thead th {\n",
       "        text-align: right;\n",
       "    }\n",
       "</style>\n",
       "<table border=\"1\" class=\"dataframe\">\n",
       "  <thead>\n",
       "    <tr style=\"text-align: right;\">\n",
       "      <th></th>\n",
       "      <th>Account Length</th>\n",
       "      <th>VMail Message</th>\n",
       "      <th>Day Mins</th>\n",
       "      <th>Eve Mins</th>\n",
       "      <th>Night Mins</th>\n",
       "      <th>Intl Mins</th>\n",
       "      <th>CustServ Calls</th>\n",
       "      <th>Day Calls</th>\n",
       "      <th>Day Charge</th>\n",
       "      <th>Daily Charges MV</th>\n",
       "      <th>Eve Calls</th>\n",
       "      <th>Eve Charge</th>\n",
       "      <th>Night Calls</th>\n",
       "      <th>Night Charge</th>\n",
       "      <th>Intl Calls</th>\n",
       "      <th>Intl Charge</th>\n",
       "    </tr>\n",
       "  </thead>\n",
       "  <tbody>\n",
       "    <tr>\n",
       "      <th>0</th>\n",
       "      <td>121.0</td>\n",
       "      <td>24.0</td>\n",
       "      <td>218.2</td>\n",
       "      <td>348.5</td>\n",
       "      <td>212.6</td>\n",
       "      <td>7.5</td>\n",
       "      <td>3.0</td>\n",
       "      <td>88.0</td>\n",
       "      <td>37.09</td>\n",
       "      <td>37.09</td>\n",
       "      <td>108.0</td>\n",
       "      <td>29.62</td>\n",
       "      <td>118.0</td>\n",
       "      <td>9.57</td>\n",
       "      <td>7.0</td>\n",
       "      <td>2.03</td>\n",
       "    </tr>\n",
       "    <tr>\n",
       "      <th>1</th>\n",
       "      <td>74.0</td>\n",
       "      <td>0.0</td>\n",
       "      <td>187.7</td>\n",
       "      <td>163.4</td>\n",
       "      <td>196.0</td>\n",
       "      <td>9.1</td>\n",
       "      <td>0.0</td>\n",
       "      <td>127.0</td>\n",
       "      <td>31.91</td>\n",
       "      <td>31.91</td>\n",
       "      <td>148.0</td>\n",
       "      <td>13.89</td>\n",
       "      <td>94.0</td>\n",
       "      <td>8.82</td>\n",
       "      <td>5.0</td>\n",
       "      <td>2.46</td>\n",
       "    </tr>\n",
       "    <tr>\n",
       "      <th>2</th>\n",
       "      <td>161.0</td>\n",
       "      <td>0.0</td>\n",
       "      <td>332.9</td>\n",
       "      <td>317.8</td>\n",
       "      <td>160.6</td>\n",
       "      <td>5.4</td>\n",
       "      <td>4.0</td>\n",
       "      <td>67.0</td>\n",
       "      <td>56.59</td>\n",
       "      <td>56.59</td>\n",
       "      <td>97.0</td>\n",
       "      <td>27.01</td>\n",
       "      <td>128.0</td>\n",
       "      <td>7.23</td>\n",
       "      <td>9.0</td>\n",
       "      <td>1.46</td>\n",
       "    </tr>\n",
       "  </tbody>\n",
       "</table>\n",
       "</div>"
      ],
      "text/plain": [
       "   Account Length  VMail Message  Day Mins  Eve Mins  Night Mins  Intl Mins  \\\n",
       "0           121.0           24.0     218.2     348.5       212.6        7.5   \n",
       "1            74.0            0.0     187.7     163.4       196.0        9.1   \n",
       "2           161.0            0.0     332.9     317.8       160.6        5.4   \n",
       "\n",
       "   CustServ Calls  Day Calls  Day Charge  Daily Charges MV  Eve Calls  \\\n",
       "0             3.0       88.0       37.09             37.09      108.0   \n",
       "1             0.0      127.0       31.91             31.91      148.0   \n",
       "2             4.0       67.0       56.59             56.59       97.0   \n",
       "\n",
       "   Eve Charge  Night Calls  Night Charge  Intl Calls  Intl Charge  \n",
       "0       29.62        118.0          9.57         7.0         2.03  \n",
       "1       13.89         94.0          8.82         5.0         2.46  \n",
       "2       27.01        128.0          7.23         9.0         1.46  "
      ]
     },
     "execution_count": 23,
     "metadata": {},
     "output_type": "execute_result"
    }
   ],
   "source": [
    "numColsNew.head(3)"
   ]
  },
  {
   "cell_type": "markdown",
   "metadata": {},
   "source": [
    "##### Scaling"
   ]
  },
  {
   "cell_type": "code",
   "execution_count": 15,
   "metadata": {},
   "outputs": [
    {
     "data": {
      "text/html": [
       "<div>\n",
       "<style scoped>\n",
       "    .dataframe tbody tr th:only-of-type {\n",
       "        vertical-align: middle;\n",
       "    }\n",
       "\n",
       "    .dataframe tbody tr th {\n",
       "        vertical-align: top;\n",
       "    }\n",
       "\n",
       "    .dataframe thead th {\n",
       "        text-align: right;\n",
       "    }\n",
       "</style>\n",
       "<table border=\"1\" class=\"dataframe\">\n",
       "  <thead>\n",
       "    <tr style=\"text-align: right;\">\n",
       "      <th></th>\n",
       "      <th>Account Length</th>\n",
       "      <th>VMail Message</th>\n",
       "      <th>Day Mins</th>\n",
       "      <th>Eve Mins</th>\n",
       "      <th>Night Mins</th>\n",
       "      <th>Intl Mins</th>\n",
       "      <th>CustServ Calls</th>\n",
       "      <th>Day Calls</th>\n",
       "      <th>Day Charge</th>\n",
       "      <th>Daily Charges MV</th>\n",
       "      <th>Eve Calls</th>\n",
       "      <th>Eve Charge</th>\n",
       "      <th>Night Calls</th>\n",
       "      <th>Night Charge</th>\n",
       "      <th>Intl Calls</th>\n",
       "      <th>Intl Charge</th>\n",
       "    </tr>\n",
       "  </thead>\n",
       "  <tbody>\n",
       "    <tr>\n",
       "      <th>0</th>\n",
       "      <td>0.495868</td>\n",
       "      <td>0.470588</td>\n",
       "      <td>0.622007</td>\n",
       "      <td>0.958207</td>\n",
       "      <td>0.509414</td>\n",
       "      <td>0.375</td>\n",
       "      <td>0.333333</td>\n",
       "      <td>0.533333</td>\n",
       "      <td>0.621898</td>\n",
       "      <td>0.621898</td>\n",
       "      <td>0.635294</td>\n",
       "      <td>0.958266</td>\n",
       "      <td>0.598592</td>\n",
       "      <td>0.509863</td>\n",
       "      <td>0.35</td>\n",
       "      <td>0.375926</td>\n",
       "    </tr>\n",
       "    <tr>\n",
       "      <th>1</th>\n",
       "      <td>0.301653</td>\n",
       "      <td>0.000000</td>\n",
       "      <td>0.535063</td>\n",
       "      <td>0.449271</td>\n",
       "      <td>0.464766</td>\n",
       "      <td>0.455</td>\n",
       "      <td>0.000000</td>\n",
       "      <td>0.769697</td>\n",
       "      <td>0.535044</td>\n",
       "      <td>0.535044</td>\n",
       "      <td>0.870588</td>\n",
       "      <td>0.449369</td>\n",
       "      <td>0.429577</td>\n",
       "      <td>0.465033</td>\n",
       "      <td>0.25</td>\n",
       "      <td>0.455556</td>\n",
       "    </tr>\n",
       "    <tr>\n",
       "      <th>2</th>\n",
       "      <td>0.661157</td>\n",
       "      <td>0.000000</td>\n",
       "      <td>0.948974</td>\n",
       "      <td>0.873797</td>\n",
       "      <td>0.369554</td>\n",
       "      <td>0.270</td>\n",
       "      <td>0.444444</td>\n",
       "      <td>0.406061</td>\n",
       "      <td>0.948860</td>\n",
       "      <td>0.948860</td>\n",
       "      <td>0.570588</td>\n",
       "      <td>0.873827</td>\n",
       "      <td>0.669014</td>\n",
       "      <td>0.369994</td>\n",
       "      <td>0.45</td>\n",
       "      <td>0.270370</td>\n",
       "    </tr>\n",
       "  </tbody>\n",
       "</table>\n",
       "</div>"
      ],
      "text/plain": [
       "   Account Length  VMail Message  Day Mins  Eve Mins  Night Mins  Intl Mins  \\\n",
       "0        0.495868       0.470588  0.622007  0.958207    0.509414      0.375   \n",
       "1        0.301653       0.000000  0.535063  0.449271    0.464766      0.455   \n",
       "2        0.661157       0.000000  0.948974  0.873797    0.369554      0.270   \n",
       "\n",
       "   CustServ Calls  Day Calls  Day Charge  Daily Charges MV  Eve Calls  \\\n",
       "0        0.333333   0.533333    0.621898          0.621898   0.635294   \n",
       "1        0.000000   0.769697    0.535044          0.535044   0.870588   \n",
       "2        0.444444   0.406061    0.948860          0.948860   0.570588   \n",
       "\n",
       "   Eve Charge  Night Calls  Night Charge  Intl Calls  Intl Charge  \n",
       "0    0.958266     0.598592      0.509863        0.35     0.375926  \n",
       "1    0.449369     0.429577      0.465033        0.25     0.455556  \n",
       "2    0.873827     0.669014      0.369994        0.45     0.270370  "
      ]
     },
     "execution_count": 15,
     "metadata": {},
     "output_type": "execute_result"
    }
   ],
   "source": [
    "from sklearn.preprocessing import MinMaxScaler\n",
    "ms=MinMaxScaler()\n",
    "scaledCols = ms.fit_transform(numColsNew)\n",
    "scaledCols = pd.DataFrame(scaledCols,index = numColsNew.index, columns=numColsNew.columns)\n",
    "scaledCols.head(3)"
   ]
  },
  {
   "cell_type": "markdown",
   "metadata": {},
   "source": [
    "##### Outliers Replacement by +-3sigma values"
   ]
  },
  {
   "cell_type": "code",
   "execution_count": 27,
   "metadata": {},
   "outputs": [
    {
     "data": {
      "text/plain": [
       "[[432, 819, 1408, 1551, 1751, 1886, 3216],\n",
       " 0.9071534060596462,\n",
       " -0.0801715343187544]"
      ]
     },
     "execution_count": 27,
     "metadata": {},
     "output_type": "execute_result"
    }
   ],
   "source": [
    "def getOutliersIndex(x):\n",
    "    mean_=x.mean()\n",
    "    sd_=x.std()\n",
    "    upper = (3*sd_)+mean_\n",
    "    lower = mean_-(3*sd_)\n",
    "    y = [i for i in range(len(x)) if(x.iloc[i]>upper or x.iloc[i] <lower)]\n",
    "    return [y,upper,lower]\n",
    "\n",
    "getOutliersIndex(scaledCols[\"Account Length\"])"
   ]
  },
  {
   "cell_type": "markdown",
   "metadata": {},
   "source": [
    "##### Outliers replacement by 1.5+IQR"
   ]
  },
  {
   "cell_type": "code",
   "execution_count": 16,
   "metadata": {},
   "outputs": [],
   "source": [
    "def getOutliersIndexIQR(x):\n",
    "    q3=x.quantile(q=0.75)\n",
    "    q1=x.quantile(q=0.25)\n",
    "    iqr=q3-q1\n",
    "    upper=q3+(1.5*iqr)\n",
    "    lower=q1-(1.5*iqr)\n",
    "    y=[i for i in range(len(x)) if(x.iloc[i]>upper)]\n",
    "    x.iloc[y]=upper\n",
    "    z=[i for i in range(len(x)) if(x.iloc[i]<lower)]\n",
    "    x.iloc[z]=lower\n",
    "    return x"
   ]
  },
  {
   "cell_type": "code",
   "execution_count": 17,
   "metadata": {
    "scrolled": true
   },
   "outputs": [
    {
     "data": {
      "text/plain": [
       "18"
      ]
     },
     "execution_count": 17,
     "metadata": {},
     "output_type": "execute_result"
    },
    {
     "data": {
      "image/png": "[encoded data removed]",
      "text/plain": [
       "<matplotlib.figure.Figure at 0xdae7d68>"
      ]
     },
     "metadata": {},
     "output_type": "display_data"
    }
   ],
   "source": [
    "#Just checking if the above function is correct\n",
    "import matplotlib.pyplot as pt\n",
    "pt.boxplot(scaledCols[\"Account Length\"])\n",
    "len(scaledCols.loc[scaledCols[\"Account Length\"]>0.849,:])"
   ]
  },
  {
   "cell_type": "code",
   "execution_count": 160,
   "metadata": {},
   "outputs": [],
   "source": [
    "#Doubt: Shd we replace/remove outliers/build another model for outliers\n",
    "#Can we apply Lin Reg to replace outliers\n",
    "#Minmax or zscore"
   ]
  },
  {
   "cell_type": "code",
   "execution_count": 18,
   "metadata": {},
   "outputs": [],
   "source": [
    "#Replacing by max values. i.e. q3+1.5IQR\n",
    "scaledCols[\"Account Length\"]=getOutliersIndexIQR(scaledCols[\"Account Length\"])"
   ]
  },
  {
   "cell_type": "code",
   "execution_count": 29,
   "metadata": {
    "scrolled": true
   },
   "outputs": [
    {
     "data": {
      "text/plain": [
       "{'boxes': [<matplotlib.lines.Line2D at 0xe144748>],\n",
       " 'caps': [<matplotlib.lines.Line2D at 0xe14d198>,\n",
       "  <matplotlib.lines.Line2D at 0xe14d5c0>],\n",
       " 'fliers': [<matplotlib.lines.Line2D at 0xe14de10>],\n",
       " 'means': [],\n",
       " 'medians': [<matplotlib.lines.Line2D at 0xe14d9e8>],\n",
       " 'whiskers': [<matplotlib.lines.Line2D at 0xe144898>,\n",
       "  <matplotlib.lines.Line2D at 0xe144d30>]}"
      ]
     },
     "execution_count": 29,
     "metadata": {},
     "output_type": "execute_result"
    },
    {
     "data": {
      "image/png": "[encoded data removed]",
      "text/plain": [
       "<matplotlib.figure.Figure at 0xe0bf320>"
      ]
     },
     "metadata": {},
     "output_type": "display_data"
    }
   ],
   "source": [
    "pt.boxplot(scaledCols[\"Account Length\"])"
   ]
  },
  {
   "cell_type": "code",
   "execution_count": 19,
   "metadata": {},
   "outputs": [],
   "source": [
    "scaledCols[\"VMail Message\"]=getOutliersIndexIQR(scaledCols[\"VMail Message\"])"
   ]
  },
  {
   "cell_type": "code",
   "execution_count": 31,
   "metadata": {},
   "outputs": [
    {
     "data": {
      "text/plain": [
       "{'boxes': [<matplotlib.lines.Line2D at 0xe1a40f0>],\n",
       " 'caps': [<matplotlib.lines.Line2D at 0xe1a4b00>,\n",
       "  <matplotlib.lines.Line2D at 0xe1a4f28>],\n",
       " 'fliers': [<matplotlib.lines.Line2D at 0xe1ac7b8>],\n",
       " 'means': [],\n",
       " 'medians': [<matplotlib.lines.Line2D at 0xe1ac390>],\n",
       " 'whiskers': [<matplotlib.lines.Line2D at 0xe1a4240>,\n",
       "  <matplotlib.lines.Line2D at 0xe1a46d8>]}"
      ]
     },
     "execution_count": 31,
     "metadata": {},
     "output_type": "execute_result"
    },
    {
     "data": {
      "image/png": "[encoded data removed]",
      "text/plain": [
       "<matplotlib.figure.Figure at 0xe1309b0>"
      ]
     },
     "metadata": {},
     "output_type": "display_data"
    }
   ],
   "source": [
    "pt.boxplot(scaledCols[\"VMail Message\"])"
   ]
  },
  {
   "cell_type": "code",
   "execution_count": 20,
   "metadata": {},
   "outputs": [],
   "source": [
    "scaledCols[\"Day Mins\"] =  getOutliersIndexIQR(scaledCols[\"Day Mins\"])"
   ]
  },
  {
   "cell_type": "code",
   "execution_count": 20,
   "metadata": {},
   "outputs": [
    {
     "data": {
      "text/plain": [
       "Index(['Account Length', 'VMail Message', 'Day Mins', 'Eve Mins', 'Night Mins',\n",
       "       'Intl Mins', 'CustServ Calls', 'Day Calls', 'Day Charge',\n",
       "       'Daily Charges MV', 'Eve Calls', 'Eve Charge', 'Night Calls',\n",
       "       'Night Charge', 'Intl Calls', 'Intl Charge'],\n",
       "      dtype='object')"
      ]
     },
     "execution_count": 20,
     "metadata": {},
     "output_type": "execute_result"
    }
   ],
   "source": [
    "scaledCols.columns"
   ]
  },
  {
   "cell_type": "code",
   "execution_count": 21,
   "metadata": {},
   "outputs": [],
   "source": [
    "scaledCols['Eve Mins'] =  getOutliersIndexIQR(scaledCols['Eve Mins'])"
   ]
  },
  {
   "cell_type": "code",
   "execution_count": 22,
   "metadata": {},
   "outputs": [],
   "source": [
    "scaledCols['Night Mins']=  getOutliersIndexIQR(scaledCols['Night Mins'])"
   ]
  },
  {
   "cell_type": "code",
   "execution_count": 23,
   "metadata": {},
   "outputs": [],
   "source": [
    "scaledCols['Intl Mins']=  getOutliersIndexIQR(scaledCols['Intl Mins'])"
   ]
  },
  {
   "cell_type": "code",
   "execution_count": 24,
   "metadata": {},
   "outputs": [],
   "source": [
    "for i in range(6,len(scaledCols.columns)):\n",
    "    scaledCols.iloc[:,i] = getOutliersIndexIQR(scaledCols.iloc[:,i])"
   ]
  },
  {
   "cell_type": "code",
   "execution_count": 37,
   "metadata": {},
   "outputs": [
    {
     "data": {
      "text/plain": [
       "['CustServ Calls',\n",
       " 'Day Calls',\n",
       " 'Day Charge',\n",
       " 'Daily Charges MV',\n",
       " 'Eve Calls',\n",
       " 'Eve Charge',\n",
       " 'Night Calls',\n",
       " 'Night Charge',\n",
       " 'Intl Calls',\n",
       " 'Intl Charge']"
      ]
     },
     "execution_count": 37,
     "metadata": {},
     "output_type": "execute_result"
    }
   ],
   "source": [
    "[scaledCols.iloc[:,i].name for i in range(6,len(scaledCols.columns))]"
   ]
  },
  {
   "cell_type": "code",
   "execution_count": 38,
   "metadata": {
    "scrolled": true
   },
   "outputs": [
    {
     "data": {
      "text/plain": [
       "<matplotlib.axes._subplots.AxesSubplot at 0xe92e240>"
      ]
     },
     "execution_count": 38,
     "metadata": {},
     "output_type": "execute_result"
    },
    {
     "data": {
      "image/png": "[encoded data removed]",
      "text/plain": [
       "<matplotlib.figure.Figure at 0xe1db550>"
      ]
     },
     "metadata": {},
     "output_type": "display_data"
    }
   ],
   "source": [
    "scaledCols.boxplot(column=scaledCols.columns.tolist(),figsize=[20,20])"
   ]
  },
  {
   "cell_type": "markdown",
   "metadata": {},
   "source": [
    "### <font color=red>EDA"
   ]
  },
  {
   "cell_type": "markdown",
   "metadata": {},
   "source": [
    "##### Histogram"
   ]
  },
  {
   "cell_type": "code",
   "execution_count": 25,
   "metadata": {
    "scrolled": true
   },
   "outputs": [
    {
     "data": {
      "image/png": "[encoded data removed]",
      "text/plain": [
       "<matplotlib.figure.Figure at 0xdb464e0>"
      ]
     },
     "metadata": {},
     "output_type": "display_data"
    }
   ],
   "source": [
    "import matplotlib.pyplot as pt\n",
    "\n",
    "fig=pt.figure(figsize=[5,5])\n",
    "ax=fig.add_subplot(2,2,1)\n",
    "ax.hist(scaledCols[\"Account Length\"])\n",
    "\n",
    "bx=fig.add_subplot(2,2,2)\n",
    "bx.scatter(scaledCols[\"Account Length\"],scaledCols[\"Daily Charges MV\"])\n",
    "\n",
    "cx=fig.add_subplot(2,2,3)\n",
    "cx.boxplot(scaledCols[\"Daily Charges MV\"])\n",
    "\n",
    "dx=fig.add_subplot(2,2,4)\n",
    "# test=churn.groupby([\"Intl Plan\",\"Intl Charge\"])\n",
    "test=catCols[\"Intl Plan\"].value_counts()\n",
    "test.plot(kind=\"bar\")\n",
    "pt.show()"
   ]
  },
  {
   "cell_type": "markdown",
   "metadata": {},
   "source": [
    "##### Univariate Analysis"
   ]
  },
  {
   "cell_type": "code",
   "execution_count": 26,
   "metadata": {},
   "outputs": [
    {
     "data": {
      "text/plain": [
       "array([[<matplotlib.axes._subplots.AxesSubplot object at 0x000000000DB44BA8>,\n",
       "        <matplotlib.axes._subplots.AxesSubplot object at 0x0000000008FAB2E8>,\n",
       "        <matplotlib.axes._subplots.AxesSubplot object at 0x0000000008FDBF28>,\n",
       "        <matplotlib.axes._subplots.AxesSubplot object at 0x00000000090BE390>],\n",
       "       [<matplotlib.axes._subplots.AxesSubplot object at 0x00000000091156D8>,\n",
       "        <matplotlib.axes._subplots.AxesSubplot object at 0x0000000009115710>,\n",
       "        <matplotlib.axes._subplots.AxesSubplot object at 0x000000000917D828>,\n",
       "        <matplotlib.axes._subplots.AxesSubplot object at 0x00000000091BA3C8>],\n",
       "       [<matplotlib.axes._subplots.AxesSubplot object at 0x00000000091EAEB8>,\n",
       "        <matplotlib.axes._subplots.AxesSubplot object at 0x0000000009207A90>,\n",
       "        <matplotlib.axes._subplots.AxesSubplot object at 0x0000000009253F98>,\n",
       "        <matplotlib.axes._subplots.AxesSubplot object at 0x000000000DB7DF28>],\n",
       "       [<matplotlib.axes._subplots.AxesSubplot object at 0x000000000DBBBBE0>,\n",
       "        <matplotlib.axes._subplots.AxesSubplot object at 0x000000000DBF6BE0>,\n",
       "        <matplotlib.axes._subplots.AxesSubplot object at 0x000000000DC2B2B0>,\n",
       "        <matplotlib.axes._subplots.AxesSubplot object at 0x000000000DC652B0>]],\n",
       "      dtype=object)"
      ]
     },
     "execution_count": 26,
     "metadata": {},
     "output_type": "execute_result"
    },
    {
     "data": {
      "image/png": "[encoded data removed]",
      "text/plain": [
       "<matplotlib.figure.Figure at 0xdb3b400>"
      ]
     },
     "metadata": {},
     "output_type": "display_data"
    }
   ],
   "source": [
    "scaledCols.hist(figsize=[10,10])"
   ]
  },
  {
   "cell_type": "code",
   "execution_count": 27,
   "metadata": {},
   "outputs": [
    {
     "data": {
      "text/plain": [
       "0.0    2411\n",
       "Name: VMail Message, dtype: int64"
      ]
     },
     "execution_count": 27,
     "metadata": {},
     "output_type": "execute_result"
    }
   ],
   "source": [
    "# scaledCols[\"VMail Message\"].quantile(q=0.25)-(1.5*(scaledCols[\"VMail Message\"].quantile(q=0.75)-scaledCols[\"VMail Message\"].quantile(q=0.25)))\n",
    "scaledCols.loc[scaledCols[\"VMail Message\"]==0,\"VMail Message\"].value_counts()"
   ]
  },
  {
   "cell_type": "code",
   "execution_count": 28,
   "metadata": {},
   "outputs": [
    {
     "data": {
      "text/plain": [
       "922"
      ]
     },
     "execution_count": 28,
     "metadata": {},
     "output_type": "execute_result"
    }
   ],
   "source": [
    "len(scaledCols.loc[scaledCols[\"VMail Message\"]>0,\"VMail Message\"])"
   ]
  },
  {
   "cell_type": "code",
   "execution_count": 29,
   "metadata": {},
   "outputs": [
    {
     "data": {
      "text/plain": [
       "<matplotlib.axes._subplots.AxesSubplot at 0xdb66400>"
      ]
     },
     "execution_count": 29,
     "metadata": {},
     "output_type": "execute_result"
    },
    {
     "data": {
      "image/png": "[encoded data removed]",
      "text/plain": [
       "<matplotlib.figure.Figure at 0xdc15400>"
      ]
     },
     "metadata": {},
     "output_type": "display_data"
    }
   ],
   "source": [
    "corr=pd.concat([scaledCols,catCols,response],axis=1).corr()\n",
    "import seaborn as sns\n",
    "cmap=sns.diverging_palette(220,10,as_cmap=True)\n",
    "sns.heatmap(corr,xticklabels=corr.columns,yticklabels=corr.columns,cmap=cmap)"
   ]
  },
  {
   "cell_type": "code",
   "execution_count": 147,
   "metadata": {},
   "outputs": [
    {
     "data": {
      "text/html": [
       "<div>\n",
       "<style scoped>\n",
       "    .dataframe tbody tr th:only-of-type {\n",
       "        vertical-align: middle;\n",
       "    }\n",
       "\n",
       "    .dataframe tbody tr th {\n",
       "        vertical-align: top;\n",
       "    }\n",
       "\n",
       "    .dataframe thead th {\n",
       "        text-align: right;\n",
       "    }\n",
       "</style>\n",
       "<table border=\"1\" class=\"dataframe\">\n",
       "  <thead>\n",
       "    <tr style=\"text-align: right;\">\n",
       "      <th></th>\n",
       "      <th>Account Length</th>\n",
       "      <th>VMail Message</th>\n",
       "      <th>Day Mins</th>\n",
       "      <th>Eve Mins</th>\n",
       "      <th>Night Mins</th>\n",
       "      <th>Intl Mins</th>\n",
       "      <th>CustServ Calls</th>\n",
       "      <th>Day Calls</th>\n",
       "      <th>Day Charge</th>\n",
       "      <th>Daily Charges MV</th>\n",
       "      <th>Eve Calls</th>\n",
       "      <th>Eve Charge</th>\n",
       "      <th>Night Calls</th>\n",
       "      <th>Night Charge</th>\n",
       "      <th>Intl Calls</th>\n",
       "      <th>Intl Charge</th>\n",
       "      <th>Intl Plan</th>\n",
       "      <th>VMail Plan</th>\n",
       "      <th>Churn</th>\n",
       "    </tr>\n",
       "  </thead>\n",
       "  <tbody>\n",
       "    <tr>\n",
       "      <th>Account Length</th>\n",
       "      <td>1.000000</td>\n",
       "      <td>-0.004007</td>\n",
       "      <td>0.007016</td>\n",
       "      <td>-0.006579</td>\n",
       "      <td>-0.009674</td>\n",
       "      <td>0.012501</td>\n",
       "      <td>-0.004441</td>\n",
       "      <td>0.038608</td>\n",
       "      <td>0.007014</td>\n",
       "      <td>0.007014</td>\n",
       "      <td>0.018693</td>\n",
       "      <td>-0.006568</td>\n",
       "      <td>-0.013312</td>\n",
       "      <td>-0.009671</td>\n",
       "      <td>0.023650</td>\n",
       "      <td>0.012563</td>\n",
       "      <td>0.010821</td>\n",
       "      <td>0.00263</td>\n",
       "      <td>0.024984</td>\n",
       "    </tr>\n",
       "    <tr>\n",
       "      <th>VMail Message</th>\n",
       "      <td>-0.004007</td>\n",
       "      <td>1.000000</td>\n",
       "      <td>0.000998</td>\n",
       "      <td>0.017163</td>\n",
       "      <td>0.007660</td>\n",
       "      <td>0.001004</td>\n",
       "      <td>-0.020620</td>\n",
       "      <td>-0.010258</td>\n",
       "      <td>0.000995</td>\n",
       "      <td>0.000995</td>\n",
       "      <td>-0.006833</td>\n",
       "      <td>0.017180</td>\n",
       "      <td>0.007091</td>\n",
       "      <td>0.007638</td>\n",
       "      <td>0.010168</td>\n",
       "      <td>0.001014</td>\n",
       "      <td>-0.007698</td>\n",
       "      <td>0.69603</td>\n",
       "      <td>-0.078764</td>\n",
       "    </tr>\n",
       "    <tr>\n",
       "      <th>Day Mins</th>\n",
       "      <td>0.007016</td>\n",
       "      <td>0.000998</td>\n",
       "      <td>1.000000</td>\n",
       "      <td>0.006675</td>\n",
       "      <td>0.003231</td>\n",
       "      <td>-0.011832</td>\n",
       "      <td>-0.006585</td>\n",
       "      <td>0.002755</td>\n",
       "      <td>1.000000</td>\n",
       "      <td>1.000000</td>\n",
       "      <td>0.016928</td>\n",
       "      <td>0.006661</td>\n",
       "      <td>0.023330</td>\n",
       "      <td>0.003205</td>\n",
       "      <td>0.007595</td>\n",
       "      <td>-0.011773</td>\n",
       "      <td>0.041677</td>\n",
       "      <td>-0.02492</td>\n",
       "      <td>0.152310</td>\n",
       "    </tr>\n",
       "  </tbody>\n",
       "</table>\n",
       "</div>"
      ],
      "text/plain": [
       "                Account Length  VMail Message  Day Mins  Eve Mins  Night Mins  \\\n",
       "Account Length        1.000000      -0.004007  0.007016 -0.006579   -0.009674   \n",
       "VMail Message        -0.004007       1.000000  0.000998  0.017163    0.007660   \n",
       "Day Mins              0.007016       0.000998  1.000000  0.006675    0.003231   \n",
       "\n",
       "                Intl Mins  CustServ Calls  Day Calls  Day Charge  \\\n",
       "Account Length   0.012501       -0.004441   0.038608    0.007014   \n",
       "VMail Message    0.001004       -0.020620  -0.010258    0.000995   \n",
       "Day Mins        -0.011832       -0.006585   0.002755    1.000000   \n",
       "\n",
       "                Daily Charges MV  Eve Calls  Eve Charge  Night Calls  \\\n",
       "Account Length          0.007014   0.018693   -0.006568    -0.013312   \n",
       "VMail Message           0.000995  -0.006833    0.017180     0.007091   \n",
       "Day Mins                1.000000   0.016928    0.006661     0.023330   \n",
       "\n",
       "                Night Charge  Intl Calls  Intl Charge  Intl Plan  VMail Plan  \\\n",
       "Account Length     -0.009671    0.023650     0.012563   0.010821     0.00263   \n",
       "VMail Message       0.007638    0.010168     0.001014  -0.007698     0.69603   \n",
       "Day Mins            0.003205    0.007595    -0.011773   0.041677    -0.02492   \n",
       "\n",
       "                   Churn  \n",
       "Account Length  0.024984  \n",
       "VMail Message  -0.078764  \n",
       "Day Mins        0.152310  "
      ]
     },
     "execution_count": 147,
     "metadata": {},
     "output_type": "execute_result"
    }
   ],
   "source": [
    "corr.head(3)"
   ]
  },
  {
   "cell_type": "code",
   "execution_count": 43,
   "metadata": {
    "scrolled": true
   },
   "outputs": [
    {
     "data": {
      "text/plain": [
       "Text(0,0.5,'Intl Plan')"
      ]
     },
     "execution_count": 43,
     "metadata": {},
     "output_type": "execute_result"
    },
    {
     "data": {
      "image/png": "[encoded data removed]",
      "text/plain": [
       "<matplotlib.figure.Figure at 0x102795c0>"
      ]
     },
     "metadata": {},
     "output_type": "display_data"
    }
   ],
   "source": [
    "full=pd.concat([scaledCols,catCols,response],axis=1)\n",
    "fig=pt.figure()\n",
    "ax=fig.add_subplot(1,1,1)\n",
    "temp=full.groupby(full[\"Churn\"])[\"Intl Plan\"].count()\n",
    "temp.plot(kind=\"bar\",color=[\"red\",\"blue\"])\n",
    "ax.set_xlabel(\"Churn\")\n",
    "ax.set_ylabel(\"Intl Plan\")"
   ]
  },
  {
   "cell_type": "code",
   "execution_count": 44,
   "metadata": {},
   "outputs": [],
   "source": [
    "import matplotlib.pyplot as plt\n",
    "# p1 = plt.bar(ind, menMeans, width, yerr=menStd)"
   ]
  },
  {
   "cell_type": "code",
   "execution_count": 45,
   "metadata": {},
   "outputs": [
    {
     "data": {
      "text/plain": [
       "<matplotlib.axes._subplots.AxesSubplot at 0x1026ff28>"
      ]
     },
     "execution_count": 45,
     "metadata": {},
     "output_type": "execute_result"
    },
    {
     "data": {
      "image/png": "[encoded data removed]",
      "text/plain": [
       "<matplotlib.figure.Figure at 0x10261c18>"
      ]
     },
     "metadata": {},
     "output_type": "display_data"
    }
   ],
   "source": [
    "import seaborn as sns\n",
    "sns.barplot(x=\"Churn\",y=\"VMail Message\",data=full)"
   ]
  },
  {
   "cell_type": "code",
   "execution_count": 33,
   "metadata": {},
   "outputs": [
    {
     "data": {
      "text/plain": [
       "Text(0,0.5,'Count')"
      ]
     },
     "execution_count": 33,
     "metadata": {},
     "output_type": "execute_result"
    },
    {
     "data": {
      "image/png": "[encoded data removed]",
      "text/plain": [
       "<matplotlib.figure.Figure at 0xf56cc88>"
      ]
     },
     "metadata": {},
     "output_type": "display_data"
    }
   ],
   "source": [
    "full=pd.concat([scaledCols,catCols,response],axis=1)\n",
    "fig=pt.figure()\n",
    "ax=fig.add_subplot(1,1,1)\n",
    "# temp=full[\"Churn\"].value_counts()\n",
    "# temp=full.groupby(full[\"Churn\"].value_counts())[\"Intl Plan\"].count()\n",
    "# temp.plot(kind=\"bar\",color=[\"red\",\"blue\"])\n",
    "pt.bar(full[\"Churn\"],full[\"Intl Plan\"])\n",
    "ax.set_xlabel(\"Churn\")\n",
    "ax.set_ylabel(\"Count\")"
   ]
  },
  {
   "cell_type": "code",
   "execution_count": 49,
   "metadata": {},
   "outputs": [
    {
     "name": "stdout",
     "output_type": "stream",
     "text": [
      "137\n",
      "483\n",
      "Customers having Intl plan and churned out % is 0.2836438923395445\n"
     ]
    }
   ],
   "source": [
    "a=full.loc[full.Churn==1,:]\n",
    "b=a.loc[a[\"Intl Plan\"]==1,:]\n",
    "print(len(b))\n",
    "print(len(a))\n",
    "print(\"Customers having Intl plan and churned out % is\",len(b)/len(a))"
   ]
  },
  {
   "cell_type": "code",
   "execution_count": 50,
   "metadata": {},
   "outputs": [
    {
     "name": "stdout",
     "output_type": "stream",
     "text": [
      "2664\n",
      "2850\n",
      "Customers having Intl plan and churned out % is 0.9347368421052632\n"
     ]
    }
   ],
   "source": [
    "a=full.loc[full.Churn==0,:]\n",
    "b=a.loc[a[\"Intl Plan\"]==0,:]\n",
    "print(len(b))\n",
    "print(len(a))\n",
    "print(\"Customers having Intl plan and churned out % is\",len(b)/len(a))"
   ]
  },
  {
   "cell_type": "code",
   "execution_count": 140,
   "metadata": {},
   "outputs": [
    {
     "data": {
      "text/plain": [
       "186"
      ]
     },
     "execution_count": 140,
     "metadata": {},
     "output_type": "execute_result"
    }
   ],
   "source": [
    "2850 - 2664"
   ]
  },
  {
   "cell_type": "code",
   "execution_count": 191,
   "metadata": {},
   "outputs": [
    {
     "name": "stdout",
     "output_type": "stream",
     "text": [
      "346\n",
      "483\n",
      "Customers not having Intl plan and churned out % is 0.7163561076604554\n"
     ]
    }
   ],
   "source": [
    "a=full.loc[full.Churn==1,:]\n",
    "b=a.loc[a[\"Intl Plan\"]==0,:]\n",
    "print(len(b))\n",
    "print(len(a))\n",
    "print(\"Customers not having Intl plan and churned out % is\",len(b)/len(a))"
   ]
  },
  {
   "cell_type": "code",
   "execution_count": 192,
   "metadata": {},
   "outputs": [
    {
     "name": "stdout",
     "output_type": "stream",
     "text": [
      "834\n",
      "2850\n",
      "Customers who have not churned and sent voice message % is 0.2926315789473684\n"
     ]
    }
   ],
   "source": [
    "a=full.loc[full.Churn==0,:]\n",
    "b=a.loc[a[\"VMail Message\"]!=0,:]\n",
    "print(len(b))\n",
    "print(len(a))\n",
    "print(\"Customers who have not churned and sent voice message % is\",len(b)/len(a))"
   ]
  },
  {
   "cell_type": "code",
   "execution_count": 193,
   "metadata": {},
   "outputs": [
    {
     "name": "stdout",
     "output_type": "stream",
     "text": [
      "Customers who have churned and sent voice message % is 0.18219461697722567\n"
     ]
    }
   ],
   "source": [
    "a=full.loc[full.Churn==1]\n",
    "b=a.loc[a[\"VMail Message\"]!=0,:]\n",
    "print(\"Customers who have churned and sent voice message % is\",len(b)/len(a))"
   ]
  },
  {
   "cell_type": "code",
   "execution_count": 194,
   "metadata": {},
   "outputs": [
    {
     "name": "stdout",
     "output_type": "stream",
     "text": [
      "Customers who have churned and sent voice message % is 0.9975438596491228\n"
     ]
    }
   ],
   "source": [
    "a=full.loc[full.Churn==0]\n",
    "b=a.loc[a[\"Account Length\"]!=0,:]\n",
    "print(\"Customers who have churned and sent voice message % is\",len(b)/len(a))"
   ]
  },
  {
   "cell_type": "code",
   "execution_count": 51,
   "metadata": {},
   "outputs": [
    {
     "data": {
      "text/plain": [
       "<matplotlib.axes._subplots.AxesSubplot at 0x1045f358>"
      ]
     },
     "execution_count": 51,
     "metadata": {},
     "output_type": "execute_result"
    },
    {
     "data": {
      "image/png": "[encoded data removed]",
      "text/plain": [
       "<matplotlib.figure.Figure at 0x104b06d8>"
      ]
     },
     "metadata": {},
     "output_type": "display_data"
    }
   ],
   "source": [
    "sns.barplot(x=\"Churn\",y=\"Account Length\",hue=\"Intl Plan\",data=full)"
   ]
  },
  {
   "cell_type": "code",
   "execution_count": 57,
   "metadata": {},
   "outputs": [
    {
     "ename": "TypeError",
     "evalue": "Cannot pass values for both `x` and `y`",
     "output_type": "error",
     "traceback": [
      "\u001b[1;31m---------------------------------------------------------------------------\u001b[0m",
      "\u001b[1;31mTypeError\u001b[0m                                 Traceback (most recent call last)",
      "\u001b[1;32m<ipython-input-57-7e6100154d4d>\u001b[0m in \u001b[0;36m<module>\u001b[1;34m()\u001b[0m\n\u001b[1;32m----> 1\u001b[1;33m \u001b[0msns\u001b[0m\u001b[1;33m.\u001b[0m\u001b[0mcountplot\u001b[0m\u001b[1;33m(\u001b[0m\u001b[0mx\u001b[0m\u001b[1;33m=\u001b[0m\u001b[1;34m\"Churn\"\u001b[0m\u001b[1;33m,\u001b[0m\u001b[0my\u001b[0m\u001b[1;33m=\u001b[0m\u001b[1;34m\"Account Length\"\u001b[0m\u001b[1;33m,\u001b[0m\u001b[0mdata\u001b[0m\u001b[1;33m=\u001b[0m\u001b[0mfull\u001b[0m\u001b[1;33m)\u001b[0m\u001b[1;33m\u001b[0m\u001b[0m\n\u001b[0m",
      "\u001b[1;32m~\\AppData\\Local\\Continuum\\anaconda3\\lib\\site-packages\\seaborn\\categorical.py\u001b[0m in \u001b[0;36mcountplot\u001b[1;34m(x, y, hue, data, order, hue_order, orient, color, palette, saturation, dodge, ax, **kwargs)\u001b[0m\n\u001b[0;32m   3350\u001b[0m         \u001b[0my\u001b[0m \u001b[1;33m=\u001b[0m \u001b[0mx\u001b[0m\u001b[1;33m\u001b[0m\u001b[0m\n\u001b[0;32m   3351\u001b[0m     \u001b[1;32melif\u001b[0m \u001b[0mx\u001b[0m \u001b[1;32mis\u001b[0m \u001b[1;32mnot\u001b[0m \u001b[1;32mNone\u001b[0m \u001b[1;32mand\u001b[0m \u001b[0my\u001b[0m \u001b[1;32mis\u001b[0m \u001b[1;32mnot\u001b[0m \u001b[1;32mNone\u001b[0m\u001b[1;33m:\u001b[0m\u001b[1;33m\u001b[0m\u001b[0m\n\u001b[1;32m-> 3352\u001b[1;33m         \u001b[1;32mraise\u001b[0m \u001b[0mTypeError\u001b[0m\u001b[1;33m(\u001b[0m\u001b[1;34m\"Cannot pass values for both `x` and `y`\"\u001b[0m\u001b[1;33m)\u001b[0m\u001b[1;33m\u001b[0m\u001b[0m\n\u001b[0m\u001b[0;32m   3353\u001b[0m     \u001b[1;32melse\u001b[0m\u001b[1;33m:\u001b[0m\u001b[1;33m\u001b[0m\u001b[0m\n\u001b[0;32m   3354\u001b[0m         \u001b[1;32mraise\u001b[0m \u001b[0mTypeError\u001b[0m\u001b[1;33m(\u001b[0m\u001b[1;34m\"Must pass values for either `x` or `y`\"\u001b[0m\u001b[1;33m)\u001b[0m\u001b[1;33m\u001b[0m\u001b[0m\n",
      "\u001b[1;31mTypeError\u001b[0m: Cannot pass values for both `x` and `y`"
     ]
    }
   ],
   "source": [
    "sns.countplot(x=\"Churn\",y=\"Account Length\",data=full)"
   ]
  },
  {
   "cell_type": "code",
   "execution_count": 52,
   "metadata": {},
   "outputs": [
    {
     "data": {
      "text/plain": [
       "<matplotlib.axes._subplots.AxesSubplot at 0x10c16b00>"
      ]
     },
     "execution_count": 52,
     "metadata": {},
     "output_type": "execute_result"
    },
    {
     "data": {
      "image/png": "[encoded data removed]",
      "text/plain": [
       "<matplotlib.figure.Figure at 0x10af0c88>"
      ]
     },
     "metadata": {},
     "output_type": "display_data"
    }
   ],
   "source": [
    "sns.set_style(\"whitegrid\")\n",
    "sns.boxplot(\"Churn\",\"Account Length\",data=full)"
   ]
  },
  {
   "cell_type": "code",
   "execution_count": 60,
   "metadata": {},
   "outputs": [
    {
     "data": {
      "text/plain": [
       "<matplotlib.axes._subplots.AxesSubplot at 0x109e40f0>"
      ]
     },
     "execution_count": 60,
     "metadata": {},
     "output_type": "execute_result"
    },
    {
     "data": {
      "image/png": "[encoded data removed]",
      "text/plain": [
       "<matplotlib.figure.Figure at 0x1088cb70>"
      ]
     },
     "metadata": {},
     "output_type": "display_data"
    }
   ],
   "source": [
    "import seaborn as sns\n",
    "sns.boxplot(x=\"Churn\",y=\"Day Mins\",data=full)"
   ]
  },
  {
   "cell_type": "code",
   "execution_count": 61,
   "metadata": {},
   "outputs": [
    {
     "data": {
      "text/plain": [
       "<matplotlib.axes._subplots.AxesSubplot at 0x1120f4a8>"
      ]
     },
     "execution_count": 61,
     "metadata": {},
     "output_type": "execute_result"
    },
    {
     "data": {
      "image/png": "[encoded data removed]",
      "text/plain": [
       "<matplotlib.figure.Figure at 0x1114f668>"
      ]
     },
     "metadata": {},
     "output_type": "display_data"
    }
   ],
   "source": [
    "sns.boxplot(x=\"Churn\",y=\"Eve Mins\",data=full)"
   ]
  },
  {
   "cell_type": "code",
   "execution_count": 62,
   "metadata": {},
   "outputs": [
    {
     "data": {
      "text/plain": [
       "<matplotlib.axes._subplots.AxesSubplot at 0x12ae09e8>"
      ]
     },
     "execution_count": 62,
     "metadata": {},
     "output_type": "execute_result"
    },
    {
     "data": {
      "image/png": "[encoded data removed]",
      "text/plain": [
       "<matplotlib.figure.Figure at 0x129b94a8>"
      ]
     },
     "metadata": {},
     "output_type": "display_data"
    }
   ],
   "source": [
    "sns.boxplot(x=\"Churn\",y=\"Night Mins\",data=full)"
   ]
  },
  {
   "cell_type": "code",
   "execution_count": 63,
   "metadata": {},
   "outputs": [
    {
     "data": {
      "text/plain": [
       "<matplotlib.axes._subplots.AxesSubplot at 0x130da9e8>"
      ]
     },
     "execution_count": 63,
     "metadata": {},
     "output_type": "execute_result"
    },
    {
     "data": {
      "image/png": "[encoded data removed]",
      "text/plain": [
       "<matplotlib.figure.Figure at 0x12b5a668>"
      ]
     },
     "metadata": {},
     "output_type": "display_data"
    }
   ],
   "source": [
    "sns.boxplot(x=\"Churn\",y=\"Intl Mins\",data=full)"
   ]
  },
  {
   "cell_type": "code",
   "execution_count": 55,
   "metadata": {},
   "outputs": [
    {
     "data": {
      "text/plain": [
       "<matplotlib.axes._subplots.AxesSubplot at 0x105e3828>"
      ]
     },
     "execution_count": 55,
     "metadata": {},
     "output_type": "execute_result"
    },
    {
     "data": {
      "image/png": "[encoded data removed]",
      "text/plain": [
       "<matplotlib.figure.Figure at 0xec91da0>"
      ]
     },
     "metadata": {},
     "output_type": "display_data"
    }
   ],
   "source": [
    "sns.boxplot(x=\"Churn\",y=\"CustServ Calls\",data=full)\n",
    "\n",
    "# a=full.loc[full[\"Churn\"]==1,\"CustServ Calls\"].mean()\n",
    "# a"
   ]
  },
  {
   "cell_type": "code",
   "execution_count": 65,
   "metadata": {},
   "outputs": [
    {
     "data": {
      "text/plain": [
       "<matplotlib.axes._subplots.AxesSubplot at 0x131281d0>"
      ]
     },
     "execution_count": 65,
     "metadata": {},
     "output_type": "execute_result"
    },
    {
     "data": {
      "image/png": "[encoded data removed]",
      "text/plain": [
       "<matplotlib.figure.Figure at 0x13143c50>"
      ]
     },
     "metadata": {},
     "output_type": "display_data"
    }
   ],
   "source": [
    "sns.boxplot(x=\"Churn\",y=\"VMail Message\",data=full)"
   ]
  },
  {
   "cell_type": "code",
   "execution_count": 66,
   "metadata": {},
   "outputs": [
    {
     "data": {
      "text/plain": [
       "<matplotlib.axes._subplots.AxesSubplot at 0x1319fba8>"
      ]
     },
     "execution_count": 66,
     "metadata": {},
     "output_type": "execute_result"
    },
    {
     "data": {
      "image/png": "[encoded data removed]",
      "text/plain": [
       "<matplotlib.figure.Figure at 0x1132cf28>"
      ]
     },
     "metadata": {},
     "output_type": "display_data"
    }
   ],
   "source": [
    "sns.boxplot(x=\"Churn\",y=\"Day Calls\",data=full)"
   ]
  },
  {
   "cell_type": "code",
   "execution_count": 67,
   "metadata": {},
   "outputs": [
    {
     "data": {
      "text/plain": [
       "<matplotlib.axes._subplots.AxesSubplot at 0x131b3748>"
      ]
     },
     "execution_count": 67,
     "metadata": {},
     "output_type": "execute_result"
    },
    {
     "data": {
      "image/png": "[encoded data removed]",
      "text/plain": [
       "<matplotlib.figure.Figure at 0x131468d0>"
      ]
     },
     "metadata": {},
     "output_type": "display_data"
    }
   ],
   "source": [
    "sns.boxplot(x=\"Churn\",y=\"Eve Calls\",data=full)"
   ]
  },
  {
   "cell_type": "code",
   "execution_count": 68,
   "metadata": {},
   "outputs": [
    {
     "data": {
      "text/plain": [
       "<matplotlib.axes._subplots.AxesSubplot at 0x13113d30>"
      ]
     },
     "execution_count": 68,
     "metadata": {},
     "output_type": "execute_result"
    },
    {
     "data": {
      "image/png": "[encoded data removed]",
      "text/plain": [
       "<matplotlib.figure.Figure at 0x131b3828>"
      ]
     },
     "metadata": {},
     "output_type": "display_data"
    }
   ],
   "source": [
    "sns.boxplot(x=\"Churn\",y=\"Night Calls\",data=full)"
   ]
  },
  {
   "cell_type": "code",
   "execution_count": 69,
   "metadata": {},
   "outputs": [
    {
     "data": {
      "text/plain": [
       "<matplotlib.axes._subplots.AxesSubplot at 0x130e5c50>"
      ]
     },
     "execution_count": 69,
     "metadata": {},
     "output_type": "execute_result"
    },
    {
     "data": {
      "image/png": "[encoded data removed]",
      "text/plain": [
       "<matplotlib.figure.Figure at 0x1319c630>"
      ]
     },
     "metadata": {},
     "output_type": "display_data"
    }
   ],
   "source": [
    "sns.boxplot(x=\"Churn\",y=\"Day Charge\",data=full)"
   ]
  },
  {
   "cell_type": "code",
   "execution_count": 70,
   "metadata": {},
   "outputs": [
    {
     "data": {
      "text/plain": [
       "<matplotlib.axes._subplots.AxesSubplot at 0x1325c400>"
      ]
     },
     "execution_count": 70,
     "metadata": {},
     "output_type": "execute_result"
    },
    {
     "data": {
      "image/png": "[encoded data removed]",
      "text/plain": [
       "<matplotlib.figure.Figure at 0x1324e240>"
      ]
     },
     "metadata": {},
     "output_type": "display_data"
    }
   ],
   "source": [
    "sns.boxplot(x=\"Churn\",y=\"Eve Charge\",data=full)"
   ]
  },
  {
   "cell_type": "code",
   "execution_count": 71,
   "metadata": {},
   "outputs": [
    {
     "data": {
      "text/plain": [
       "<matplotlib.axes._subplots.AxesSubplot at 0x132b0b00>"
      ]
     },
     "execution_count": 71,
     "metadata": {},
     "output_type": "execute_result"
    },
    {
     "data": {
      "image/png": "[encoded data removed]",
      "text/plain": [
       "<matplotlib.figure.Figure at 0x132c4390>"
      ]
     },
     "metadata": {},
     "output_type": "display_data"
    }
   ],
   "source": [
    "sns.boxplot(x=\"Churn\",y=\"Night Charge\",data=full)"
   ]
  },
  {
   "cell_type": "code",
   "execution_count": 72,
   "metadata": {},
   "outputs": [
    {
     "data": {
      "text/plain": [
       "<matplotlib.axes._subplots.AxesSubplot at 0x1337dc50>"
      ]
     },
     "execution_count": 72,
     "metadata": {},
     "output_type": "execute_result"
    },
    {
     "data": {
      "image/png": "[encoded data removed]",
      "text/plain": [
       "<matplotlib.figure.Figure at 0x13310c88>"
      ]
     },
     "metadata": {},
     "output_type": "display_data"
    }
   ],
   "source": [
    "sns.boxplot(x=\"Churn\",y=\"Intl Calls\",data=full)"
   ]
  },
  {
   "cell_type": "code",
   "execution_count": 73,
   "metadata": {
    "scrolled": false
   },
   "outputs": [
    {
     "data": {
      "text/plain": [
       "<matplotlib.axes._subplots.AxesSubplot at 0x133a74a8>"
      ]
     },
     "execution_count": 73,
     "metadata": {},
     "output_type": "execute_result"
    },
    {
     "data": {
      "image/png": "[encoded data removed]",
      "text/plain": [
       "<matplotlib.figure.Figure at 0x13318be0>"
      ]
     },
     "metadata": {},
     "output_type": "display_data"
    }
   ],
   "source": [
    "sns.boxplot(x=\"Churn\",y=\"Intl Charge\",data=full)"
   ]
  },
  {
   "cell_type": "code",
   "execution_count": 85,
   "metadata": {},
   "outputs": [
    {
     "data": {
      "text/plain": [
       "Index(['Account Length', 'VMail Message', 'Day Mins', 'Eve Mins', 'Night Mins',\n",
       "       'Intl Mins', 'CustServ Calls', 'Day Calls', 'Day Charge',\n",
       "       'Daily Charges MV', 'Eve Calls', 'Eve Charge', 'Night Calls',\n",
       "       'Night Charge', 'Intl Calls', 'Intl Charge', 'Churn', 'Intl Plan_1.0',\n",
       "       'VMail Plan_1.0'],\n",
       "      dtype='object')"
      ]
     },
     "execution_count": 85,
     "metadata": {},
     "output_type": "execute_result"
    }
   ],
   "source": [
    "full.columns"
   ]
  },
  {
   "cell_type": "code",
   "execution_count": 37,
   "metadata": {},
   "outputs": [
    {
     "data": {
      "text/plain": [
       "<matplotlib.axes._subplots.AxesSubplot at 0xccb4358>"
      ]
     },
     "execution_count": 37,
     "metadata": {},
     "output_type": "execute_result"
    },
    {
     "data": {
      "image/png": "[encoded data removed]",
      "text/plain": [
       "<matplotlib.figure.Figure at 0xcc86ac8>"
      ]
     },
     "metadata": {},
     "output_type": "display_data"
    }
   ],
   "source": [
    "sns.countplot(x=\"Churn\",hue=\"Intl Calls\",data=full)"
   ]
  },
  {
   "cell_type": "code",
   "execution_count": 34,
   "metadata": {
    "scrolled": true
   },
   "outputs": [
    {
     "data": {
      "text/plain": [
       "<matplotlib.axes._subplots.AxesSubplot at 0xf68c390>"
      ]
     },
     "execution_count": 34,
     "metadata": {},
     "output_type": "execute_result"
    },
    {
     "data": {
      "image/png": "[encoded data removed]",
      "text/plain": [
       "<matplotlib.figure.Figure at 0xf5c04a8>"
      ]
     },
     "metadata": {},
     "output_type": "display_data"
    }
   ],
   "source": [
    "sns.countplot(x=\"VMail Message\",data=full)"
   ]
  },
  {
   "cell_type": "code",
   "execution_count": 53,
   "metadata": {},
   "outputs": [
    {
     "data": {
      "text/html": [
       "<div>\n",
       "<style scoped>\n",
       "    .dataframe tbody tr th:only-of-type {\n",
       "        vertical-align: middle;\n",
       "    }\n",
       "\n",
       "    .dataframe tbody tr th {\n",
       "        vertical-align: top;\n",
       "    }\n",
       "\n",
       "    .dataframe thead th {\n",
       "        text-align: right;\n",
       "    }\n",
       "</style>\n",
       "<table border=\"1\" class=\"dataframe\">\n",
       "  <thead>\n",
       "    <tr style=\"text-align: right;\">\n",
       "      <th></th>\n",
       "      <th>Account Length</th>\n",
       "      <th>VMail Message</th>\n",
       "      <th>Day Mins</th>\n",
       "      <th>Eve Mins</th>\n",
       "      <th>Night Mins</th>\n",
       "      <th>Intl Mins</th>\n",
       "      <th>CustServ Calls</th>\n",
       "      <th>Day Calls</th>\n",
       "      <th>Day Charge</th>\n",
       "      <th>Daily Charges MV</th>\n",
       "      <th>Eve Calls</th>\n",
       "      <th>Eve Charge</th>\n",
       "      <th>Night Calls</th>\n",
       "      <th>Night Charge</th>\n",
       "      <th>Intl Calls</th>\n",
       "      <th>Intl Charge</th>\n",
       "      <th>Intl Plan</th>\n",
       "      <th>VMail Plan</th>\n",
       "    </tr>\n",
       "    <tr>\n",
       "      <th>Churn</th>\n",
       "      <th></th>\n",
       "      <th></th>\n",
       "      <th></th>\n",
       "      <th></th>\n",
       "      <th></th>\n",
       "      <th></th>\n",
       "      <th></th>\n",
       "      <th></th>\n",
       "      <th></th>\n",
       "      <th></th>\n",
       "      <th></th>\n",
       "      <th></th>\n",
       "      <th></th>\n",
       "      <th></th>\n",
       "      <th></th>\n",
       "      <th></th>\n",
       "      <th></th>\n",
       "      <th></th>\n",
       "    </tr>\n",
       "  </thead>\n",
       "  <tbody>\n",
       "    <tr>\n",
       "      <th>0.0</th>\n",
       "      <td>0.411552</td>\n",
       "      <td>0.167499</td>\n",
       "      <td>0.502911</td>\n",
       "      <td>0.548855</td>\n",
       "      <td>0.475980</td>\n",
       "      <td>0.508754</td>\n",
       "      <td>0.158480</td>\n",
       "      <td>0.607541</td>\n",
       "      <td>0.502887</td>\n",
       "      <td>0.502887</td>\n",
       "      <td>0.588738</td>\n",
       "      <td>0.548941</td>\n",
       "      <td>0.471334</td>\n",
       "      <td>0.476255</td>\n",
       "      <td>0.224754</td>\n",
       "      <td>0.508864</td>\n",
       "      <td>0.065263</td>\n",
       "      <td>0.295439</td>\n",
       "    </tr>\n",
       "    <tr>\n",
       "      <th>1.0</th>\n",
       "      <td>0.423177</td>\n",
       "      <td>0.107457</td>\n",
       "      <td>0.569693</td>\n",
       "      <td>0.575248</td>\n",
       "      <td>0.488204</td>\n",
       "      <td>0.536180</td>\n",
       "      <td>0.196802</td>\n",
       "      <td>0.617134</td>\n",
       "      <td>0.569664</td>\n",
       "      <td>0.569664</td>\n",
       "      <td>0.590714</td>\n",
       "      <td>0.575339</td>\n",
       "      <td>0.479544</td>\n",
       "      <td>0.488479</td>\n",
       "      <td>0.200518</td>\n",
       "      <td>0.536280</td>\n",
       "      <td>0.283644</td>\n",
       "      <td>0.165631</td>\n",
       "    </tr>\n",
       "  </tbody>\n",
       "</table>\n",
       "</div>"
      ],
      "text/plain": [
       "       Account Length  VMail Message  Day Mins  Eve Mins  Night Mins  \\\n",
       "Churn                                                                  \n",
       "0.0          0.411552       0.167499  0.502911  0.548855    0.475980   \n",
       "1.0          0.423177       0.107457  0.569693  0.575248    0.488204   \n",
       "\n",
       "       Intl Mins  CustServ Calls  Day Calls  Day Charge  Daily Charges MV  \\\n",
       "Churn                                                                       \n",
       "0.0     0.508754        0.158480   0.607541    0.502887          0.502887   \n",
       "1.0     0.536180        0.196802   0.617134    0.569664          0.569664   \n",
       "\n",
       "       Eve Calls  Eve Charge  Night Calls  Night Charge  Intl Calls  \\\n",
       "Churn                                                                 \n",
       "0.0     0.588738    0.548941     0.471334      0.476255    0.224754   \n",
       "1.0     0.590714    0.575339     0.479544      0.488479    0.200518   \n",
       "\n",
       "       Intl Charge  Intl Plan  VMail Plan  \n",
       "Churn                                      \n",
       "0.0       0.508864   0.065263    0.295439  \n",
       "1.0       0.536280   0.283644    0.165631  "
      ]
     },
     "execution_count": 53,
     "metadata": {},
     "output_type": "execute_result"
    }
   ],
   "source": [
    "#same as all box plots above\n",
    "full.groupby(\"Churn\").mean() "
   ]
  },
  {
   "cell_type": "code",
   "execution_count": 88,
   "metadata": {},
   "outputs": [
    {
     "data": {
      "text/plain": [
       "0.0    2850\n",
       "1.0     483\n",
       "Name: Churn, dtype: int64"
      ]
     },
     "execution_count": 88,
     "metadata": {},
     "output_type": "execute_result"
    }
   ],
   "source": [
    "full.Churn.value_counts()"
   ]
  },
  {
   "cell_type": "code",
   "execution_count": 35,
   "metadata": {},
   "outputs": [
    {
     "name": "stdout",
     "output_type": "stream",
     "text": [
      "Churn\n",
      "0.0    0.411552\n",
      "1.0    0.423177\n",
      "Name: Account Length, dtype: float64\n"
     ]
    }
   ],
   "source": [
    "fullexp=full\n",
    "# fullexp[\"Total Charge\"]=fullexp[\"Day Charge\"]+fullexp[\"Eve Charge\"]+fullexp[\"Night Charge\"]+fullexp[\"Intl Charge\"]\n",
    "# print(fullexp[\"Total Charge\"][0:3])\n",
    "print(fullexp.groupby(\"Churn\")[\"Account Length\"].mean())\n",
    "# print(full.groupby(\"Churn\").mean())"
   ]
  },
  {
   "cell_type": "markdown",
   "metadata": {},
   "source": [
    "##### Interpretations"
   ]
  },
  {
   "cell_type": "markdown",
   "metadata": {},
   "source": [
    "Customers not having Intl pan and churned out is more than having intl plan and churned<br/>\n",
    "Customers who have not churned and sent voice message is more than who have churned<br/>\n",
    "Customers who have churned they had long day,eve and intl time call<br/>\n",
    "Customers who have churned they had more cust servc calls<br/>\n",
    "The most loyal customers are churning out more"
   ]
  },
  {
   "cell_type": "code",
   "execution_count": 36,
   "metadata": {},
   "outputs": [
    {
     "data": {
      "text/html": [
       "<div>\n",
       "<style scoped>\n",
       "    .dataframe tbody tr th:only-of-type {\n",
       "        vertical-align: middle;\n",
       "    }\n",
       "\n",
       "    .dataframe tbody tr th {\n",
       "        vertical-align: top;\n",
       "    }\n",
       "\n",
       "    .dataframe thead th {\n",
       "        text-align: right;\n",
       "    }\n",
       "</style>\n",
       "<table border=\"1\" class=\"dataframe\">\n",
       "  <thead>\n",
       "    <tr style=\"text-align: right;\">\n",
       "      <th></th>\n",
       "      <th>Account Length</th>\n",
       "      <th>VMail Message</th>\n",
       "      <th>Day Mins</th>\n",
       "      <th>Eve Mins</th>\n",
       "      <th>Night Mins</th>\n",
       "      <th>Intl Mins</th>\n",
       "      <th>CustServ Calls</th>\n",
       "      <th>Day Calls</th>\n",
       "      <th>Day Charge</th>\n",
       "      <th>Daily Charges MV</th>\n",
       "      <th>Eve Calls</th>\n",
       "      <th>Eve Charge</th>\n",
       "      <th>Night Calls</th>\n",
       "      <th>Night Charge</th>\n",
       "      <th>Intl Calls</th>\n",
       "      <th>Intl Charge</th>\n",
       "      <th>Churn</th>\n",
       "      <th>Intl Plan_1.0</th>\n",
       "      <th>VMail Plan_1.0</th>\n",
       "    </tr>\n",
       "  </thead>\n",
       "  <tbody>\n",
       "    <tr>\n",
       "      <th>0</th>\n",
       "      <td>0.495868</td>\n",
       "      <td>0.470588</td>\n",
       "      <td>0.622007</td>\n",
       "      <td>0.930300</td>\n",
       "      <td>0.509414</td>\n",
       "      <td>0.375</td>\n",
       "      <td>0.333333</td>\n",
       "      <td>0.533333</td>\n",
       "      <td>0.621898</td>\n",
       "      <td>0.621898</td>\n",
       "      <td>0.635294</td>\n",
       "      <td>0.930443</td>\n",
       "      <td>0.598592</td>\n",
       "      <td>0.509863</td>\n",
       "      <td>0.35</td>\n",
       "      <td>0.375926</td>\n",
       "      <td>0.0</td>\n",
       "      <td>0</td>\n",
       "      <td>1</td>\n",
       "    </tr>\n",
       "    <tr>\n",
       "      <th>1</th>\n",
       "      <td>0.301653</td>\n",
       "      <td>0.000000</td>\n",
       "      <td>0.535063</td>\n",
       "      <td>0.449271</td>\n",
       "      <td>0.464766</td>\n",
       "      <td>0.455</td>\n",
       "      <td>0.000000</td>\n",
       "      <td>0.769697</td>\n",
       "      <td>0.535044</td>\n",
       "      <td>0.535044</td>\n",
       "      <td>0.870588</td>\n",
       "      <td>0.449369</td>\n",
       "      <td>0.429577</td>\n",
       "      <td>0.465033</td>\n",
       "      <td>0.25</td>\n",
       "      <td>0.455556</td>\n",
       "      <td>0.0</td>\n",
       "      <td>0</td>\n",
       "      <td>1</td>\n",
       "    </tr>\n",
       "  </tbody>\n",
       "</table>\n",
       "</div>"
      ],
      "text/plain": [
       "   Account Length  VMail Message  Day Mins  Eve Mins  Night Mins  Intl Mins  \\\n",
       "0        0.495868       0.470588  0.622007  0.930300    0.509414      0.375   \n",
       "1        0.301653       0.000000  0.535063  0.449271    0.464766      0.455   \n",
       "\n",
       "   CustServ Calls  Day Calls  Day Charge  Daily Charges MV  Eve Calls  \\\n",
       "0        0.333333   0.533333    0.621898          0.621898   0.635294   \n",
       "1        0.000000   0.769697    0.535044          0.535044   0.870588   \n",
       "\n",
       "   Eve Charge  Night Calls  Night Charge  Intl Calls  Intl Charge  Churn  \\\n",
       "0    0.930443     0.598592      0.509863        0.35     0.375926    0.0   \n",
       "1    0.449369     0.429577      0.465033        0.25     0.455556    0.0   \n",
       "\n",
       "   Intl Plan_1.0  VMail Plan_1.0  \n",
       "0              0               1  \n",
       "1              0               1  "
      ]
     },
     "execution_count": 36,
     "metadata": {},
     "output_type": "execute_result"
    }
   ],
   "source": [
    "full_model=pd.get_dummies(columns=[\"Intl Plan\",\"VMail Plan\"],data=full,drop_first=True)\n",
    "full_model.head(2)"
   ]
  },
  {
   "cell_type": "markdown",
   "metadata": {},
   "source": [
    "### <font color=red>Sampling and Modelling"
   ]
  },
  {
   "cell_type": "markdown",
   "metadata": {},
   "source": [
    "##### Random Sampling/Up Sampling, Down Sampling/Stratified Sampling"
   ]
  },
  {
   "cell_type": "code",
   "execution_count": 37,
   "metadata": {},
   "outputs": [
    {
     "name": "stderr",
     "output_type": "stream",
     "text": [
      "C:\\Users\\E002891\\AppData\\Local\\Continuum\\anaconda3\\lib\\site-packages\\statsmodels\\compat\\pandas.py:56: FutureWarning: The pandas.core.datetools module is deprecated and will be removed in a future version. Please use the pandas.tseries module instead.\n",
      "  from pandas.core import datetools\n"
     ]
    },
    {
     "name": "stdout",
     "output_type": "stream",
     "text": [
      "             precision    recall  f1-score   support\n",
      "\n",
      "        0.0       0.87      0.99      0.92      2282\n",
      "        1.0       0.57      0.11      0.18       384\n",
      "\n",
      "avg / total       0.82      0.86      0.82      2666\n",
      "\n",
      "             precision    recall  f1-score   support\n",
      "\n",
      "        0.0       0.87      0.99      0.92       568\n",
      "        1.0       0.68      0.15      0.25        99\n",
      "\n",
      "avg / total       0.84      0.86      0.82       667\n",
      "\n"
     ]
    }
   ],
   "source": [
    "from sklearn.model_selection import train_test_split\n",
    "from sklearn.linear_model import LogisticRegression\n",
    "from sklearn.metrics import classification_report\n",
    "import statsmodels.api as sm\n",
    "from sklearn.metrics import classification_report\n",
    "from sklearn.metrics import confusion_matrix\n",
    "cols=['Account Length', 'VMail Message', 'Day Mins', 'Eve Mins', 'Night Mins',\\\n",
    "       'Intl Mins', 'CustServ Calls', 'Day Calls', 'Day Charge',\\\n",
    "       'Daily Charges MV', 'Eve Calls', 'Eve Charge', 'Night Calls',\\\n",
    "       'Night Charge', 'Intl Calls', 'Intl Charge', 'Intl Plan_1.0', 'VMail Plan_1.0']\n",
    "X=full_model.loc[:,cols]\n",
    "y=full_model.loc[:,\"Churn\"]\n",
    "X_train,X_test,y_train,y_test=train_test_split(X,y,test_size=0.2,random_state=173)\n",
    "log=LogisticRegression(penalty=\"l2\",C=1)\n",
    "result=log.fit(X_train,y_train)\n",
    "y_preds=log.predict(X_train)\n",
    "print(classification_report(y_train,y_preds))\n",
    "\n",
    "y_preds1=log.predict(X_test)\n",
    "print(classification_report(y_test,y_preds1))"
   ]
  },
  {
   "cell_type": "markdown",
   "metadata": {},
   "source": [
    "##### Feature Importances"
   ]
  },
  {
   "cell_type": "code",
   "execution_count": 57,
   "metadata": {},
   "outputs": [
    {
     "data": {
      "text/plain": [
       "Churn               0.613315\n",
       "CustServ Calls      0.280741\n",
       "Day Mins            0.124130\n",
       "Day Charge          0.124039\n",
       "Daily Charges MV    0.124039\n",
       "Intl Charge         0.077468\n",
       "Intl Mins           0.076853\n",
       "Eve Charge          0.054457\n",
       "Eve Mins            0.054247\n",
       "Account Length      0.042472\n",
       "Night Mins          0.020906\n",
       "Night Charge        0.020752\n",
       "Night Calls         0.009877\n",
       "Day Calls          -0.012877\n",
       "Eve Calls          -0.036353\n",
       "VMail Message      -0.056505\n",
       "Intl Plan_1.0      -0.209879\n",
       "Intl Calls         -0.249332\n",
       "dtype: float64"
      ]
     },
     "execution_count": 57,
     "metadata": {},
     "output_type": "execute_result"
    }
   ],
   "source": [
    "a=[(log.coef_[0][i])*(full_model.iloc[:,i].std()) for i in range(log.coef_.size)]\n",
    "pd.Series(a, index=full_model.columns[0:18]).sort_values(ascending=False)"
   ]
  },
  {
   "cell_type": "code",
   "execution_count": 61,
   "metadata": {},
   "outputs": [
    {
     "name": "stdout",
     "output_type": "stream",
     "text": [
      "Account Length    0.042472327079032306\n",
      "VMail Message    -0.056505289090354786\n",
      "Day Mins    0.1241298232491606\n",
      "Eve Mins    0.054246813164337514\n",
      "Night Mins    0.02090556508149612\n",
      "Intl Mins    0.07685345227472276\n",
      "CustServ Calls    0.2807407236612938\n",
      "Day Calls    -0.012877172011975233\n",
      "Day Charge    0.12403852828478311\n",
      "Daily Charges MV    0.12403852828478311\n",
      "Eve Calls    -0.03635250082024821\n",
      "Eve Charge    0.05445724701313189\n",
      "Night Calls    0.009876771044958146\n",
      "Night Charge    0.02075210905509491\n",
      "Intl Calls    -0.2493324718116244\n",
      "Intl Charge    0.07746808803385345\n",
      "Churn    0.6133153436757298\n",
      "Intl Plan_1.0    -0.20987934568113023\n"
     ]
    },
    {
     "data": {
      "text/plain": [
       "[None,\n",
       " None,\n",
       " None,\n",
       " None,\n",
       " None,\n",
       " None,\n",
       " None,\n",
       " None,\n",
       " None,\n",
       " None,\n",
       " None,\n",
       " None,\n",
       " None,\n",
       " None,\n",
       " None,\n",
       " None,\n",
       " None,\n",
       " None]"
      ]
     },
     "execution_count": 61,
     "metadata": {},
     "output_type": "execute_result"
    }
   ],
   "source": [
    "[print(full_model.columns[i],\"  \",(log.coef_[0][i]*full_model.iloc[:,i].std())) for i in range(log.coef_.size)]"
   ]
  },
  {
   "cell_type": "code",
   "execution_count": 220,
   "metadata": {},
   "outputs": [
    {
     "data": {
      "text/plain": [
       "[['Account Length', 0.04060946999563242],\n",
       " ['VMail Message', -0.008863409259426929],\n",
       " ['Day Mins', 0.12611941850229644],\n",
       " ['Eve Mins', 0.060103504479309386],\n",
       " ['Night Mins', 0.03144973588704098],\n",
       " ['Intl Mins', 0.05902768885268024],\n",
       " ['CustServ Calls', 0.23090414919690216],\n",
       " ['Day Calls', -0.02168480970004853],\n",
       " ['Day Charge', 0.12609511454832623],\n",
       " ['Daily Charges MV', 0.12609511454832623],\n",
       " ['Eve Calls', -0.03227296635047839],\n",
       " ['Eve Charge', 0.060363885535880735],\n",
       " ['Night Calls', 0.013056721594848305],\n",
       " ['Night Charge', 0.03149530719422845],\n",
       " ['Intl Calls', -0.19658086009410566],\n",
       " ['Intl Charge', 0.06031801956237412],\n",
       " ['Churn', 0.599262979957734],\n",
       " ['Intl Plan_1.0', -0.20796633086295527]]"
      ]
     },
     "execution_count": 220,
     "metadata": {},
     "output_type": "execute_result"
    }
   ],
   "source": [
    "a=list()\n",
    "[a.append([full_model.columns[i],(log.coef_[0][i]*full_model.iloc[:,i].std())]) for i in range(log.coef_.size)]\n",
    "a"
   ]
  },
  {
   "cell_type": "code",
   "execution_count": 59,
   "metadata": {},
   "outputs": [
    {
     "name": "stdout",
     "output_type": "stream",
     "text": [
      "[[561   7]\n",
      " [ 84  15]]\n"
     ]
    }
   ],
   "source": [
    "print(confusion_matrix(y_test,y_preds1))"
   ]
  },
  {
   "cell_type": "code",
   "execution_count": 60,
   "metadata": {
    "scrolled": false
   },
   "outputs": [
    {
     "name": "stdout",
     "output_type": "stream",
     "text": [
      "             precision    recall  f1-score   support\n",
      "\n",
      "        0.0       0.87      0.99      0.92       568\n",
      "        1.0       0.68      0.15      0.25        99\n",
      "\n",
      "avg / total       0.84      0.86      0.82       667\n",
      "\n"
     ]
    }
   ],
   "source": [
    "print(classification_report(y_test,y_preds1))"
   ]
  },
  {
   "cell_type": "markdown",
   "metadata": {},
   "source": [
    "##### Up Sampling"
   ]
  },
  {
   "cell_type": "code",
   "execution_count": 38,
   "metadata": {},
   "outputs": [
    {
     "name": "stdout",
     "output_type": "stream",
     "text": [
      "2850\n",
      "483\n"
     ]
    }
   ],
   "source": [
    "print(len(full_model[full_model[\"Churn\"]==0]))\n",
    "print(len(full_model[full_model[\"Churn\"]==1]))"
   ]
  },
  {
   "cell_type": "code",
   "execution_count": 39,
   "metadata": {},
   "outputs": [
    {
     "data": {
      "text/plain": [
       "1.0    2850\n",
       "0.0    2850\n",
       "Name: Churn, dtype: int64"
      ]
     },
     "execution_count": 39,
     "metadata": {},
     "output_type": "execute_result"
    }
   ],
   "source": [
    "from sklearn.utils import resample\n",
    "majority_class = full_model[full_model[\"Churn\"]==0]\n",
    "minority_class = full_model[full_model[\"Churn\"]==1]\n",
    "minority_class_updated = resample(minority_class,n_samples=2850,replace=True,random_state=1234)\n",
    "len(minority_class_updated)\n",
    "full_model_upsampled=pd.concat([majority_class,minority_class_updated],axis=0)\n",
    "full_model_upsampled[\"Churn\"].value_counts()"
   ]
  },
  {
   "cell_type": "code",
   "execution_count": 40,
   "metadata": {},
   "outputs": [],
   "source": [
    "X_up=full_model.loc[:,cols]\n",
    "y_up=full_model.loc[:,\"Churn\"]\n",
    "X_trainUp,X_testUp,y_trainUp,y_testUp=train_test_split(X,y,test_size=0.2,random_state=73)\n",
    "log=LogisticRegression(penalty=\"l2\",C=1)\n",
    "log.fit(X_trainUp,y_trainUp)\n",
    "y_preds=log.predict(X_testUp)"
   ]
  },
  {
   "cell_type": "markdown",
   "metadata": {},
   "source": [
    "\n",
    "corr for catagorical (chi sq test)<br\\>\n",
    "null hypothesis <br\\>\n",
    "inercpt<br\\>\n",
    "top influencer<br\\>\n",
    "over fit<br\\>\n",
    "underfit<br\\>\n",
    "homoscedacity<br\\>\n",
    "heteroscedacity<br\\>\n",
    "RandomForest Imputation"
   ]
  },
  {
   "cell_type": "code",
   "execution_count": 41,
   "metadata": {},
   "outputs": [],
   "source": [
    "full_model_new=full_model.rename(columns={\"Account Length\":\"Account_Length\",\"VMail Message\":\"VMail_Message\",\"Day Mins\":\"Day_Mins\",\"Eve Mins\":\"Eve_Mins\",\"Night Mins\":\"Night_Mins\",\"Intl Mins\":\"Intl_Mins\",\"CustServ Calls\":\"CustServ_Calls\",\"Day Calls\":\"Day_Calls\",\"Day Charge\":\"Day_Charge\",\"Daily Charges MV\":\"Daily_Charges_MV\",\"Eve Calls\":\"Eve_Calls\",\"Eve Charge\":\"Eve_Charge\",\"Night Calls\":\"Night_Calls\",\"Night Charge\":\"Night_Charge\",\"Intl Calls\":\"Intl_Calls\",\"Intl Charge\":\"Intl_Charge\",\"Intl Plan_1.0\":\"Intl_Plan\",\"VMail Plan_1.0\":\"VMail_Plan\"})"
   ]
  },
  {
   "cell_type": "code",
   "execution_count": 42,
   "metadata": {},
   "outputs": [],
   "source": [
    "full_model_new1=pd.concat([full_model_new,full[\"Churn\"]],axis=1)"
   ]
  },
  {
   "cell_type": "code",
   "execution_count": 43,
   "metadata": {},
   "outputs": [
    {
     "data": {
      "text/plain": [
       "Index(['Account_Length', 'VMail_Message', 'Day_Mins', 'Eve_Mins', 'Night_Mins',\n",
       "       'Intl_Mins', 'CustServ_Calls', 'Day_Calls', 'Day_Charge',\n",
       "       'Daily_Charges_MV', 'Eve_Calls', 'Eve_Charge', 'Night_Calls',\n",
       "       'Night_Charge', 'Intl_Calls', 'Intl_Charge', 'Churn', 'Intl_Plan',\n",
       "       'VMail_Plan'],\n",
       "      dtype='object')"
      ]
     },
     "execution_count": 43,
     "metadata": {},
     "output_type": "execute_result"
    }
   ],
   "source": [
    "full_model_new.columns"
   ]
  },
  {
   "cell_type": "markdown",
   "metadata": {},
   "source": [
    "###### Using GLM of StatsModels"
   ]
  },
  {
   "cell_type": "code",
   "execution_count": 44,
   "metadata": {
    "scrolled": false
   },
   "outputs": [
    {
     "name": "stdout",
     "output_type": "stream",
     "text": [
      "                 Generalized Linear Model Regression Results                  \n",
      "==============================================================================\n",
      "Dep. Variable:                  Churn   No. Observations:                 2666\n",
      "Model:                            GLM   Df Residuals:                     2649\n",
      "Model Family:                Binomial   Df Model:                           16\n",
      "Link Function:                  logit   Scale:                             1.0\n",
      "Method:                          IRLS   Log-Likelihood:                -983.84\n",
      "Date:                Mon, 23 Jul 2018   Deviance:                       1967.7\n",
      "Time:                        21:41:16   Pearson chi2:                 2.70e+03\n",
      "No. Iterations:                     6                                         \n",
      "====================================================================================\n",
      "                       coef    std err          z      P>|z|      [0.025      0.975]\n",
      "------------------------------------------------------------------------------------\n",
      "Account Length      -0.1533      0.344     -0.445      0.656      -0.828       0.522\n",
      "VMail Message       -0.2507      0.323     -0.777      0.437      -0.883       0.381\n",
      "Day Mins          1001.1308   1203.996      0.832      0.406   -1358.658    3360.919\n",
      "Eve Mins          -550.1319    619.862     -0.888      0.375   -1765.039     664.775\n",
      "Night Mins         407.7896    328.526      1.241      0.215    -236.109    1051.689\n",
      "Intl Mins          -22.0162    107.441     -0.205      0.838    -232.596     188.564\n",
      "CustServ Calls       2.3653      0.458      5.161      0.000       1.467       3.263\n",
      "Day Calls           -1.4866      0.432     -3.441      0.001      -2.333      -0.640\n",
      "Day Charge        -499.6519    602.039     -0.830      0.407   -1679.627     680.323\n",
      "Daily Charges MV  -499.6519    602.039     -0.830      0.407   -1679.627     680.323\n",
      "Eve Calls           -1.7012      0.459     -3.704      0.000      -2.601      -0.801\n",
      "Eve Charge         549.8209    619.770      0.887      0.375    -664.906    1764.547\n",
      "Night Calls         -0.7056      0.406     -1.737      0.082      -1.502       0.090\n",
      "Night Charge      -408.2808    328.504     -1.243      0.214   -1052.138     235.576\n",
      "Intl Calls          -3.3385      0.565     -5.914      0.000      -4.445      -2.232\n",
      "Intl Charge         22.4108    107.476      0.209      0.835    -188.237     233.059\n",
      "Intl Plan_1.0        1.8193      0.150     12.163      0.000       1.526       2.112\n",
      "VMail Plan_1.0      -0.7147      0.202     -3.533      0.000      -1.111      -0.318\n",
      "====================================================================================\n"
     ]
    }
   ],
   "source": [
    "import statsmodels.api as sm\n",
    "model = sm.GLM(y_train, X_train, family=sm.families.Binomial())\n",
    "results = model.fit()\n",
    "print(results.summary())"
   ]
  },
  {
   "cell_type": "code",
   "execution_count": 45,
   "metadata": {},
   "outputs": [
    {
     "data": {
      "text/plain": [
       "array([[561,  87],\n",
       "       [  7,  12]], dtype=int64)"
      ]
     },
     "execution_count": 45,
     "metadata": {},
     "output_type": "execute_result"
    }
   ],
   "source": [
    "y_preds = results.predict(X_test)\n",
    "y_preds[y_preds>0.5] = 1\n",
    "y_preds[y_preds<0.5] = 0\n",
    "confusion_matrix(y_preds,y_test)"
   ]
  },
  {
   "cell_type": "code",
   "execution_count": 130,
   "metadata": {
    "scrolled": true
   },
   "outputs": [
    {
     "name": "stdout",
     "output_type": "stream",
     "text": [
      "             precision    recall  f1-score   support\n",
      "\n",
      "        0.0       0.87      0.99      0.92       568\n",
      "        1.0       0.63      0.12      0.20        99\n",
      "\n",
      "avg / total       0.83      0.86      0.82       667\n",
      "\n"
     ]
    }
   ],
   "source": [
    "print(classification_report(y_test,y_preds))"
   ]
  },
  {
   "cell_type": "markdown",
   "metadata": {},
   "source": [
    "##### Upsampling"
   ]
  },
  {
   "cell_type": "code",
   "execution_count": 46,
   "metadata": {},
   "outputs": [
    {
     "name": "stdout",
     "output_type": "stream",
     "text": [
      "0.0    2850\n",
      "Name: Churn, dtype: int64\n",
      "1.0    483\n",
      "Name: Churn, dtype: int64\n",
      "1.0    2850\n",
      "Name: Churn, dtype: int64\n"
     ]
    }
   ],
   "source": [
    "from sklearn.utils import resample\n",
    "maj_cl=full_model[full_model[\"Churn\"]==0]\n",
    "min_cl=full_model[full_model[\"Churn\"]==1]\n",
    "print(maj_cl.Churn.value_counts())\n",
    "print(min_cl.Churn.value_counts())\n",
    "\n",
    "min_cl_new= resample(min_cl,n_samples=2850,replace=True,random_state=123)\n",
    "print(min_cl_new.Churn.value_counts())\n",
    "full_eq=pd.concat([maj_cl,min_cl_new],axis=0).reset_index(drop=True)"
   ]
  },
  {
   "cell_type": "code",
   "execution_count": 47,
   "metadata": {},
   "outputs": [],
   "source": [
    "cols=['Account Length', 'VMail Message', 'Day Mins', 'Eve Mins', 'Night Mins',\\\n",
    "       'Intl Mins', 'CustServ Calls', 'Day Calls', 'Day Charge',\\\n",
    "       'Daily Charges MV', 'Eve Calls', 'Eve Charge', 'Night Calls',\\\n",
    "       'Night Charge', 'Intl Calls', 'Intl Charge', 'Intl Plan_1.0', 'VMail Plan_1.0']\n",
    "X_up=full_eq[cols]\n",
    "y_up=full_eq[\"Churn\"]"
   ]
  },
  {
   "cell_type": "code",
   "execution_count": 48,
   "metadata": {},
   "outputs": [
    {
     "name": "stdout",
     "output_type": "stream",
     "text": [
      "                 Generalized Linear Model Regression Results                  \n",
      "==============================================================================\n",
      "Dep. Variable:                  Churn   No. Observations:                 4560\n",
      "Model:                            GLM   Df Residuals:                     4543\n",
      "Model Family:                Binomial   Df Model:                           16\n",
      "Link Function:                  logit   Scale:                             1.0\n",
      "Method:                          IRLS   Log-Likelihood:                -2740.4\n",
      "Date:                Mon, 23 Jul 2018   Deviance:                       5480.8\n",
      "Time:                        21:41:26   Pearson chi2:                 4.64e+03\n",
      "No. Iterations:                     4                                         \n",
      "====================================================================================\n",
      "                       coef    std err          z      P>|z|      [0.025      0.975]\n",
      "------------------------------------------------------------------------------------\n",
      "Account Length       0.0089      0.193      0.046      0.963      -0.369       0.387\n",
      "VMail Message       -0.1084      0.182     -0.595      0.552      -0.466       0.249\n",
      "Day Mins          -387.0972    683.427     -0.566      0.571   -1726.590     952.396\n",
      "Eve Mins          -452.7692    350.943     -1.290      0.197   -1140.605     235.067\n",
      "Night Mins         525.1733    182.122      2.884      0.004     168.222     882.125\n",
      "Intl Mins          -85.9472     60.940     -1.410      0.158    -205.386      33.492\n",
      "CustServ Calls       2.8660      0.248     11.534      0.000       2.379       3.353\n",
      "Day Calls           -0.2860      0.244     -1.170      0.242      -0.765       0.193\n",
      "Day Charge         194.5809    341.733      0.569      0.569    -475.203     864.364\n",
      "Daily Charges MV   194.5809    341.733      0.569      0.569    -475.203     864.364\n",
      "Eve Calls           -1.5216      0.256     -5.944      0.000      -2.023      -1.020\n",
      "Eve Charge         453.0908    350.895      1.291      0.197    -234.650    1140.832\n",
      "Night Calls         -0.5941      0.227     -2.621      0.009      -1.038      -0.150\n",
      "Night Charge      -525.2375    182.104     -2.884      0.004    -882.155    -168.320\n",
      "Intl Calls          -2.4228      0.291     -8.314      0.000      -2.994      -1.852\n",
      "Intl Charge         86.3153     60.955      1.416      0.157     -33.155     205.785\n",
      "Intl Plan_1.0        1.8105      0.105     17.267      0.000       1.605       2.016\n",
      "VMail Plan_1.0      -0.9231      0.113     -8.187      0.000      -1.144      -0.702\n",
      "====================================================================================\n",
      "                   Results: Generalized linear model\n",
      "=======================================================================\n",
      "Model:                 GLM                AIC:              5514.8198  \n",
      "Link Function:         logit              BIC:              -32794.3091\n",
      "Dependent Variable:    Churn              Log-Likelihood:   -2740.4    \n",
      "Date:                  2018-07-23 21:41   LL-Null:          -3160.7    \n",
      "No. Observations:      4560               Deviance:         5480.8     \n",
      "Df Model:              16                 Pearson chi2:     4.64e+03   \n",
      "Df Residuals:          4543               Scale:            1.0000     \n",
      "Method:                IRLS                                            \n",
      "-----------------------------------------------------------------------\n",
      "                   Coef.   Std.Err.    z    P>|z|    [0.025     0.975] \n",
      "-----------------------------------------------------------------------\n",
      "Account Length      0.0089   0.1928  0.0464 0.9630    -0.3688    0.3867\n",
      "VMail Message      -0.1084   0.1823 -0.5947 0.5520    -0.4657    0.2489\n",
      "Day Mins         -387.0972 683.4272 -0.5664 0.5711 -1726.5900  952.3955\n",
      "Eve Mins         -452.7692 350.9431 -1.2901 0.1970 -1140.6051  235.0667\n",
      "Night Mins        525.1733 182.1215  2.8836 0.0039   168.2217  882.1250\n",
      "Intl Mins         -85.9472  60.9395 -1.4104 0.1584  -205.3865   33.4920\n",
      "CustServ Calls      2.8660   0.2485 11.5341 0.0000     2.3790    3.3530\n",
      "Day Calls          -0.2860   0.2444 -1.1702 0.2419    -0.7650    0.1930\n",
      "Day Charge        194.5809 341.7326  0.5694 0.5691  -475.2027  864.3645\n",
      "Daily Charges MV  194.5809 341.7326  0.5694 0.5691  -475.2027  864.3645\n",
      "Eve Calls          -1.5216   0.2560 -5.9437 0.0000    -2.0233   -1.0198\n",
      "Eve Charge        453.0908 350.8948  1.2912 0.1966  -234.6503 1140.8318\n",
      "Night Calls        -0.5941   0.2267 -2.6208 0.0088    -1.0384   -0.1498\n",
      "Night Charge     -525.2375 182.1041 -2.8843 0.0039  -882.1551 -168.3200\n",
      "Intl Calls         -2.4228   0.2914 -8.3143 0.0000    -2.9939   -1.8516\n",
      "Intl Charge        86.3153  60.9551  1.4160 0.1568   -33.1545  205.7852\n",
      "Intl Plan_1.0       1.8105   0.1049 17.2671 0.0000     1.6050    2.0160\n",
      "VMail Plan_1.0     -0.9231   0.1128 -8.1865 0.0000    -1.1441   -0.7021\n",
      "=======================================================================\n",
      "\n"
     ]
    }
   ],
   "source": [
    "X_utrain,X_utest,y_utrain,y_utest=train_test_split(X_up,y_up,test_size=0.2,random_state=124)\n",
    "model_up = sm.GLM(y_utrain,X_utrain,family=sm.families.Binomial())\n",
    "results = model_up.fit()\n",
    "print(results.summary())\n",
    "print(results.summary2())"
   ]
  },
  {
   "cell_type": "code",
   "execution_count": 49,
   "metadata": {
    "scrolled": true
   },
   "outputs": [
    {
     "name": "stdout",
     "output_type": "stream",
     "text": [
      "*****train*****\n",
      "[[1551  722]\n",
      " [ 718 1569]]\n",
      "             precision    recall  f1-score   support\n",
      "\n",
      "        0.0       0.68      0.68      0.68      2269\n",
      "        1.0       0.69      0.68      0.69      2291\n",
      "\n",
      "avg / total       0.68      0.68      0.68      4560\n",
      "\n",
      "*****test*****\n",
      "[[408 175]\n",
      " [173 384]]\n",
      "             precision    recall  f1-score   support\n",
      "\n",
      "        0.0       0.70      0.70      0.70       581\n",
      "        1.0       0.69      0.69      0.69       559\n",
      "\n",
      "avg / total       0.69      0.69      0.69      1140\n",
      "\n"
     ]
    }
   ],
   "source": [
    "y_upreds_tr = results.predict(X_utrain)\n",
    "y_upreds_te = results.predict(X_utest)\n",
    "\n",
    "y_upreds_tr[y_upreds_tr>0.5]=1\n",
    "y_upreds_tr[y_upreds_tr<0.5]=0\n",
    "\n",
    "y_upreds_te[y_upreds_te>0.5]=1\n",
    "y_upreds_te[y_upreds_te<0.5]=0\n",
    "\n",
    "\n",
    "print(\"*****train*****\")\n",
    "print(confusion_matrix(y_upreds_tr,y_utrain))\n",
    "print(classification_report(y_utrain,y_upreds_tr))\n",
    "\n",
    "print(\"*****test*****\")\n",
    "print(confusion_matrix(y_upreds_te,y_utest))\n",
    "print(classification_report(y_utest,y_upreds_te))"
   ]
  },
  {
   "cell_type": "markdown",
   "metadata": {},
   "source": [
    "##### Logistic after upsampling"
   ]
  },
  {
   "cell_type": "code",
   "execution_count": 50,
   "metadata": {},
   "outputs": [
    {
     "name": "stdout",
     "output_type": "stream",
     "text": [
      "             precision    recall  f1-score   support\n",
      "\n",
      "        0.0       0.69      0.71      0.70      2269\n",
      "        1.0       0.71      0.68      0.69      2291\n",
      "\n",
      "avg / total       0.70      0.70      0.70      4560\n",
      "\n",
      "             precision    recall  f1-score   support\n",
      "\n",
      "        0.0       0.71      0.72      0.72       581\n",
      "        1.0       0.70      0.70      0.70       559\n",
      "\n",
      "avg / total       0.71      0.71      0.71      1140\n",
      "\n"
     ]
    }
   ],
   "source": [
    "model=LogisticRegression(penalty=\"l2\",C=1)\n",
    "model.fit(X_utrain,y_utrain)\n",
    "print(classification_report(y_utrain,model.predict(X_utrain)))\n",
    "print(classification_report(y_utest,model.predict(X_utest)))"
   ]
  },
  {
   "cell_type": "markdown",
   "metadata": {},
   "source": [
    "##### Interpretation:\n",
    "By Upsampling the F1 score is decresing"
   ]
  },
  {
   "cell_type": "markdown",
   "metadata": {},
   "source": [
    "##### Downsampling"
   ]
  },
  {
   "cell_type": "code",
   "execution_count": 51,
   "metadata": {},
   "outputs": [],
   "source": [
    "from sklearn.utils import resample\n",
    "maj_cl_new=resample(maj_cl,n_samples=483,replace=False,random_state=125)\n",
    "full_model_d = pd.concat([maj_cl_new,min_cl],axis=0).reset_index(drop=True)"
   ]
  },
  {
   "cell_type": "code",
   "execution_count": 52,
   "metadata": {},
   "outputs": [],
   "source": [
    "X_d = full_model_d[cols]\n",
    "y_d = full_model_d[\"Churn\"]\n",
    "X_dtrain,X_dtest,y_dtrain,y_dtest = train_test_split(X_d,y_d,test_size=0.2,random_state=126)\n",
    "model2 = sm.GLM(y_dtrain,X_dtrain,family=sm.families.Binomial())\n",
    "results2 = model2.fit()"
   ]
  },
  {
   "cell_type": "code",
   "execution_count": 53,
   "metadata": {
    "scrolled": true
   },
   "outputs": [
    {
     "name": "stdout",
     "output_type": "stream",
     "text": [
      "                 Generalized Linear Model Regression Results                  \n",
      "==============================================================================\n",
      "Dep. Variable:                  Churn   No. Observations:                  772\n",
      "Model:                            GLM   Df Residuals:                      755\n",
      "Model Family:                Binomial   Df Model:                           16\n",
      "Link Function:                  logit   Scale:                             1.0\n",
      "Method:                          IRLS   Log-Likelihood:                -457.99\n",
      "Date:                Mon, 23 Jul 2018   Deviance:                       915.98\n",
      "Time:                        21:41:41   Pearson chi2:                     810.\n",
      "No. Iterations:                     4                                         \n",
      "====================================================================================\n",
      "                       coef    std err          z      P>|z|      [0.025      0.975]\n",
      "------------------------------------------------------------------------------------\n",
      "Account Length       0.2187      0.474      0.462      0.644      -0.710       1.147\n",
      "VMail Message       -0.1817      0.451     -0.403      0.687      -1.066       0.703\n",
      "Day Mins           291.1774   1679.979      0.173      0.862   -3001.520    3583.875\n",
      "Eve Mins          -712.1151    858.830     -0.829      0.407   -2395.390     971.160\n",
      "Night Mins         143.2780    460.764      0.311      0.756    -759.803    1046.359\n",
      "Intl Mins          -70.3632    148.239     -0.475      0.635    -360.907     220.180\n",
      "CustServ Calls       2.5472      0.597      4.265      0.000       1.377       3.718\n",
      "Day Calls           -0.8797      0.614     -1.432      0.152      -2.084       0.325\n",
      "Day Charge        -144.4318    840.051     -0.172      0.863   -1790.902    1502.039\n",
      "Daily Charges MV  -144.4318    840.051     -0.172      0.863   -1790.902    1502.039\n",
      "Eve Calls           -1.4289      0.619     -2.310      0.021      -2.641      -0.216\n",
      "Eve Charge         712.2439    858.686      0.829      0.407    -970.749    2395.237\n",
      "Night Calls         -1.0168      0.569     -1.786      0.074      -2.133       0.099\n",
      "Night Charge      -142.9262    460.695     -0.310      0.756   -1045.872     760.020\n",
      "Intl Calls          -2.5695      0.708     -3.628      0.000      -3.958      -1.181\n",
      "Intl Charge         70.9648    148.268      0.479      0.632    -219.635     361.565\n",
      "Intl Plan_1.0        1.8624      0.252      7.389      0.000       1.368       2.356\n",
      "VMail Plan_1.0      -0.9591      0.274     -3.497      0.000      -1.497      -0.421\n",
      "====================================================================================\n",
      "                   Results: Generalized linear model\n",
      "========================================================================\n",
      "Model:                 GLM                 AIC:               949.9774  \n",
      "Link Function:         logit               BIC:               -4104.0060\n",
      "Dependent Variable:    Churn               Log-Likelihood:    -457.99   \n",
      "Date:                  2018-07-23 21:41    LL-Null:           -535.10   \n",
      "No. Observations:      772                 Deviance:          915.98    \n",
      "Df Model:              16                  Pearson chi2:      810.      \n",
      "Df Residuals:          755                 Scale:             1.0000    \n",
      "Method:                IRLS                                             \n",
      "------------------------------------------------------------------------\n",
      "                   Coef.    Std.Err.    z    P>|z|    [0.025     0.975] \n",
      "------------------------------------------------------------------------\n",
      "Account Length      0.2187    0.4737  0.4616 0.6444    -0.7098    1.1472\n",
      "VMail Message      -0.1817    0.4513 -0.4027 0.6872    -1.0663    0.7029\n",
      "Day Mins          291.1774 1679.9787  0.1733 0.8624 -3001.5203 3583.8751\n",
      "Eve Mins         -712.1151  858.8297 -0.8292 0.4070 -2395.3904  971.1601\n",
      "Night Mins        143.2780  460.7643  0.3110 0.7558  -759.8034 1046.3594\n",
      "Intl Mins         -70.3632  148.2392 -0.4747 0.6350  -360.9067  220.1803\n",
      "CustServ Calls      2.5472    0.5973  4.2645 0.0000     1.3765    3.7180\n",
      "Day Calls          -0.8797    0.6145 -1.4317 0.1522    -2.0841    0.3246\n",
      "Day Charge       -144.4318  840.0515 -0.1719 0.8635 -1790.9024 1502.0388\n",
      "Daily Charges MV -144.4318  840.0515 -0.1719 0.8635 -1790.9024 1502.0388\n",
      "Eve Calls          -1.4289    0.6187 -2.3096 0.0209    -2.6414   -0.2163\n",
      "Eve Charge        712.2439  858.6855  0.8295 0.4068  -970.7488 2395.2366\n",
      "Night Calls        -1.0168    0.5694 -1.7858 0.0741    -2.1328    0.0992\n",
      "Night Charge     -142.9262  460.6952 -0.3102 0.7564 -1045.8722  760.0199\n",
      "Intl Calls         -2.5695    0.7082 -3.6281 0.0003    -3.9576   -1.1814\n",
      "Intl Charge        70.9648  148.2681  0.4786 0.6322  -219.6354  361.5650\n",
      "Intl Plan_1.0       1.8624    0.2520  7.3893 0.0000     1.3684    2.3563\n",
      "VMail Plan_1.0     -0.9591    0.2743 -3.4965 0.0005    -1.4967   -0.4215\n",
      "========================================================================\n",
      "\n"
     ]
    }
   ],
   "source": [
    "print(results2.summary())\n",
    "print(results2.summary2())"
   ]
  },
  {
   "cell_type": "code",
   "execution_count": 54,
   "metadata": {},
   "outputs": [],
   "source": [
    "y_dpreds_tr = results2.predict(X_dtrain)\n",
    "y_dpreds_te = results2.predict(X_dtest)\n",
    "\n",
    "y_dpreds_tr[y_dpreds_tr>0.5]=1\n",
    "y_dpreds_tr[y_dpreds_tr<0.5]=0\n",
    "\n",
    "y_dpreds_te[y_dpreds_te>0.5]=1\n",
    "y_dpreds_te[y_dpreds_te<0.5]=0"
   ]
  },
  {
   "cell_type": "code",
   "execution_count": 55,
   "metadata": {},
   "outputs": [
    {
     "name": "stdout",
     "output_type": "stream",
     "text": [
      "*******train**********\n",
      "             precision    recall  f1-score   support\n",
      "\n",
      "        0.0       0.68      0.69      0.69       388\n",
      "        1.0       0.68      0.67      0.68       384\n",
      "\n",
      "avg / total       0.68      0.68      0.68       772\n",
      "\n",
      "*******test**********\n",
      "             precision    recall  f1-score   support\n",
      "\n",
      "        0.0       0.71      0.68      0.70        95\n",
      "        1.0       0.71      0.73      0.72        99\n",
      "\n",
      "avg / total       0.71      0.71      0.71       194\n",
      "\n"
     ]
    }
   ],
   "source": [
    "print(\"*******train**********\")\n",
    "print(classification_report(y_dtrain,y_dpreds_tr))\n",
    "\n",
    "print(\"*******test**********\")\n",
    "print(classification_report(y_dtest,y_dpreds_te))"
   ]
  },
  {
   "cell_type": "markdown",
   "metadata": {},
   "source": [
    "##### Logistic after downsampling"
   ]
  },
  {
   "cell_type": "code",
   "execution_count": 56,
   "metadata": {},
   "outputs": [
    {
     "name": "stdout",
     "output_type": "stream",
     "text": [
      "*****train*********\n",
      "             precision    recall  f1-score   support\n",
      "\n",
      "        0.0       0.71      0.72      0.72       388\n",
      "        1.0       0.71      0.70      0.71       384\n",
      "\n",
      "avg / total       0.71      0.71      0.71       772\n",
      "\n",
      "*****test*********\n",
      "             precision    recall  f1-score   support\n",
      "\n",
      "        0.0       0.69      0.76      0.72        95\n",
      "        1.0       0.74      0.68      0.71        99\n",
      "\n",
      "avg / total       0.72      0.72      0.72       194\n",
      "\n"
     ]
    }
   ],
   "source": [
    "model2 = LogisticRegression()\n",
    "model2.fit(X_dtrain,y_dtrain)\n",
    "\n",
    "print(\"*****train*********\")\n",
    "print(classification_report(y_dtrain,model2.predict(X_dtrain)))\n",
    "print(\"*****test*********\")\n",
    "print(classification_report(y_dtest,model2.predict(X_dtest)))"
   ]
  },
  {
   "cell_type": "markdown",
   "metadata": {},
   "source": [
    "##### By downsampling also F1 score decreses"
   ]
  },
  {
   "cell_type": "markdown",
   "metadata": {},
   "source": [
    "##### Stratified Sampling"
   ]
  },
  {
   "cell_type": "code",
   "execution_count": 57,
   "metadata": {},
   "outputs": [],
   "source": [
    "X_strain,X_stest,y_strain,y_stest = train_test_split(X,y,test_size=0.2,random_state=127,stratify=y)\n",
    "model3 = sm.GLM(y_strain,X_strain,family=sm.families.Binomial())\n",
    "results3 = model3.fit()"
   ]
  },
  {
   "cell_type": "code",
   "execution_count": 58,
   "metadata": {
    "scrolled": true
   },
   "outputs": [
    {
     "name": "stdout",
     "output_type": "stream",
     "text": [
      "                 Generalized Linear Model Regression Results                  \n",
      "==============================================================================\n",
      "Dep. Variable:                  Churn   No. Observations:                 2666\n",
      "Model:                            GLM   Df Residuals:                     2649\n",
      "Model Family:                Binomial   Df Model:                           16\n",
      "Link Function:                  logit   Scale:                             1.0\n",
      "Method:                          IRLS   Log-Likelihood:                -969.87\n",
      "Date:                Mon, 23 Jul 2018   Deviance:                       1939.7\n",
      "Time:                        21:41:58   Pearson chi2:                 2.78e+03\n",
      "No. Iterations:                     6                                         \n",
      "====================================================================================\n",
      "                       coef    std err          z      P>|z|      [0.025      0.975]\n",
      "------------------------------------------------------------------------------------\n",
      "Account Length      -0.3947      0.347     -1.138      0.255      -1.074       0.285\n",
      "VMail Message       -0.2125      0.320     -0.664      0.507      -0.840       0.415\n",
      "Day Mins            76.3065   1202.963      0.063      0.949   -2281.458    2434.071\n",
      "Eve Mins          -294.1041    626.746     -0.469      0.639   -1522.504     934.296\n",
      "Night Mins         630.9763    332.015      1.900      0.057     -19.762    1281.714\n",
      "Intl Mins           17.9819    109.421      0.164      0.869    -196.480     232.443\n",
      "CustServ Calls       2.5667      0.463      5.545      0.000       1.659       3.474\n",
      "Day Calls           -1.3061      0.438     -2.984      0.003      -2.164      -0.448\n",
      "Day Charge         -37.1773    601.521     -0.062      0.951   -1216.137    1141.782\n",
      "Daily Charges MV   -37.1773    601.521     -0.062      0.951   -1216.137    1141.782\n",
      "Eve Calls           -1.9000      0.461     -4.125      0.000      -2.803      -0.997\n",
      "Eve Charge         294.1253    626.658      0.469      0.639    -934.102    1522.353\n",
      "Night Calls         -0.6829      0.408     -1.674      0.094      -1.482       0.117\n",
      "Night Charge      -630.9948    331.988     -1.901      0.057   -1281.679      19.689\n",
      "Intl Calls          -3.7989      0.578     -6.576      0.000      -4.931      -2.667\n",
      "Intl Charge        -18.0168    109.459     -0.165      0.869    -232.553     196.520\n",
      "Intl Plan_1.0        1.9606      0.152     12.932      0.000       1.663       2.258\n",
      "VMail Plan_1.0      -0.7544      0.198     -3.802      0.000      -1.143      -0.366\n",
      "====================================================================================\n",
      "                   Results: Generalized linear model\n",
      "========================================================================\n",
      "Model:                  GLM                AIC:              1973.7453  \n",
      "Link Function:          logit              BIC:              -18956.4528\n",
      "Dependent Variable:     Churn              Log-Likelihood:   -969.87    \n",
      "Date:                   2018-07-23 21:41   LL-Null:          -1102.5    \n",
      "No. Observations:       2666               Deviance:         1939.7     \n",
      "Df Model:               16                 Pearson chi2:     2.78e+03   \n",
      "Df Residuals:           2649               Scale:            1.0000     \n",
      "Method:                 IRLS                                            \n",
      "------------------------------------------------------------------------\n",
      "                   Coef.    Std.Err.    z    P>|z|    [0.025     0.975] \n",
      "------------------------------------------------------------------------\n",
      "Account Length     -0.3947    0.3468 -1.1381 0.2551    -1.0745    0.2850\n",
      "VMail Message      -0.2125    0.3200 -0.6641 0.5066    -0.8397    0.4147\n",
      "Day Mins           76.3065 1202.9631  0.0634 0.9494 -2281.4578 2434.0708\n",
      "Eve Mins         -294.1041  626.7463 -0.4693 0.6389 -1522.5043  934.2960\n",
      "Night Mins        630.9763  332.0153  1.9004 0.0574   -19.7616 1281.7143\n",
      "Intl Mins          17.9819  109.4212  0.1643 0.8695  -196.4798  232.4435\n",
      "CustServ Calls      2.5667    0.4629  5.5453 0.0000     1.6595    3.4739\n",
      "Day Calls          -1.3061    0.4377 -2.9838 0.0028    -2.1640   -0.4482\n",
      "Day Charge        -37.1773  601.5209 -0.0618 0.9507 -1216.1366 1141.7821\n",
      "Daily Charges MV  -37.1773  601.5209 -0.0618 0.9507 -1216.1366 1141.7821\n",
      "Eve Calls          -1.9000    0.4607 -4.1246 0.0000    -2.8029   -0.9972\n",
      "Eve Charge        294.1253  626.6581  0.4694 0.6388  -934.1020 1522.3525\n",
      "Night Calls        -0.6829    0.4079 -1.6740 0.0941    -1.4824    0.1167\n",
      "Night Charge     -630.9948  331.9877 -1.9007 0.0573 -1281.6788   19.6892\n",
      "Intl Calls         -3.7989    0.5777 -6.5763 0.0000    -4.9311   -2.6667\n",
      "Intl Charge       -18.0168  109.4594 -0.1646 0.8693  -232.5533  196.5196\n",
      "Intl Plan_1.0       1.9606    0.1516 12.9324 0.0000     1.6634    2.2577\n",
      "VMail Plan_1.0     -0.7544    0.1984 -3.8024 0.0001    -1.1433   -0.3655\n",
      "========================================================================\n",
      "\n"
     ]
    }
   ],
   "source": [
    "print(results3.summary())\n",
    "print(results3.summary2())"
   ]
  },
  {
   "cell_type": "code",
   "execution_count": 59,
   "metadata": {},
   "outputs": [],
   "source": [
    "y_spreds_tr = results3.predict(X_strain)\n",
    "y_spreds_te = results3.predict(X_stest)\n",
    "\n",
    "y_spreds_tr[y_spreds_tr>0.5]=1\n",
    "y_spreds_tr[y_spreds_tr<0.5]=0\n",
    "\n",
    "y_spreds_te[y_spreds_te>0.5]=1\n",
    "y_spreds_te[y_spreds_te<0.5]=0"
   ]
  },
  {
   "cell_type": "code",
   "execution_count": 60,
   "metadata": {},
   "outputs": [
    {
     "name": "stdout",
     "output_type": "stream",
     "text": [
      "******train********\n",
      "             precision    recall  f1-score   support\n",
      "\n",
      "        0.0       0.87      0.98      0.92      2280\n",
      "        1.0       0.54      0.15      0.24       386\n",
      "\n",
      "avg / total       0.82      0.86      0.82      2666\n",
      "\n",
      "********test**********\n",
      "             precision    recall  f1-score   support\n",
      "\n",
      "        0.0       0.87      0.98      0.92       570\n",
      "        1.0       0.46      0.12      0.20        97\n",
      "\n",
      "avg / total       0.81      0.85      0.81       667\n",
      "\n"
     ]
    }
   ],
   "source": [
    "print(\"******train********\")\n",
    "print(classification_report(y_strain,y_spreds_tr))\n",
    "\n",
    "\n",
    "print(\"********test**********\")\n",
    "print(classification_report(y_stest,y_spreds_te))"
   ]
  },
  {
   "cell_type": "markdown",
   "metadata": {},
   "source": [
    "##### Stratified with Logistic Reg"
   ]
  },
  {
   "cell_type": "code",
   "execution_count": 61,
   "metadata": {
    "scrolled": true
   },
   "outputs": [
    {
     "name": "stdout",
     "output_type": "stream",
     "text": [
      "**********train**********\n",
      "             precision    recall  f1-score   support\n",
      "\n",
      "        0.0       0.87      0.98      0.92      2280\n",
      "        1.0       0.54      0.13      0.21       386\n",
      "\n",
      "avg / total       0.82      0.86      0.82      2666\n",
      "\n",
      "**********test**********\n",
      "             precision    recall  f1-score   support\n",
      "\n",
      "        0.0       0.87      0.97      0.92       570\n",
      "        1.0       0.43      0.12      0.19        97\n",
      "\n",
      "avg / total       0.80      0.85      0.81       667\n",
      "\n"
     ]
    }
   ],
   "source": [
    "log2 = LogisticRegression(penalty=\"l2\",C=1)\n",
    "log2.fit(X_strain,y_strain)\n",
    "\n",
    "print(\"**********train**********\")\n",
    "print(classification_report(y_strain,log2.predict(X_strain)))\n",
    "\n",
    "print(\"**********test**********\")\n",
    "print(classification_report(y_stest,log2.predict(X_stest)))"
   ]
  },
  {
   "cell_type": "markdown",
   "metadata": {},
   "source": [
    "##### Random Forest with Stratified sampling"
   ]
  },
  {
   "cell_type": "code",
   "execution_count": 62,
   "metadata": {},
   "outputs": [
    {
     "name": "stdout",
     "output_type": "stream",
     "text": [
      "*****train*******\n",
      "             precision    recall  f1-score   support\n",
      "\n",
      "        0.0       0.87      1.00      0.93      2280\n",
      "        1.0       0.87      0.13      0.23       386\n",
      "\n",
      "avg / total       0.87      0.87      0.83      2666\n",
      "\n",
      "*****test*******\n",
      "             precision    recall  f1-score   support\n",
      "\n",
      "        0.0       0.87      1.00      0.93       570\n",
      "        1.0       0.82      0.09      0.17        97\n",
      "\n",
      "avg / total       0.86      0.87      0.82       667\n",
      "\n"
     ]
    }
   ],
   "source": [
    "from sklearn.ensemble import RandomForestClassifier\n",
    "clf = RandomForestClassifier(n_estimators=1000,max_depth=3,random_state=126)\n",
    "clf.fit(X_strain,y_strain)\n",
    "print(\"*****train*******\")\n",
    "print(classification_report(y_strain,clf.predict(X_strain)))\n",
    "\n",
    "print(\"*****test*******\")\n",
    "print(classification_report(y_stest,clf.predict(X_stest)))"
   ]
  },
  {
   "cell_type": "markdown",
   "metadata": {},
   "source": [
    "##### Decision Tree with Stratified sampling"
   ]
  },
  {
   "cell_type": "code",
   "execution_count": 63,
   "metadata": {},
   "outputs": [
    {
     "name": "stdout",
     "output_type": "stream",
     "text": [
      "**********train***********\n",
      "             precision    recall  f1-score   support\n",
      "\n",
      "        0.0       0.86      1.00      0.92      2280\n",
      "        1.0       0.00      0.00      0.00       386\n",
      "\n",
      "avg / total       0.73      0.86      0.79      2666\n",
      "\n",
      "**********test***********\n",
      "             precision    recall  f1-score   support\n",
      "\n",
      "        0.0       0.85      1.00      0.92       570\n",
      "        1.0       0.00      0.00      0.00        97\n",
      "\n",
      "avg / total       0.73      0.85      0.79       667\n",
      "\n"
     ]
    },
    {
     "name": "stderr",
     "output_type": "stream",
     "text": [
      "C:\\Users\\E002891\\AppData\\Local\\Continuum\\anaconda3\\lib\\site-packages\\sklearn\\metrics\\classification.py:1135: UndefinedMetricWarning: Precision and F-score are ill-defined and being set to 0.0 in labels with no predicted samples.\n",
      "  'precision', 'predicted', average, warn_for)\n"
     ]
    }
   ],
   "source": [
    "from sklearn.tree import DecisionTreeClassifier\n",
    "clf2 = DecisionTreeClassifier(max_depth=2,min_samples_leaf=0.20,min_samples_split=0.20,random_state=1211)\n",
    "clf2.fit(X_strain,y_strain)\n",
    "print(\"**********train***********\")\n",
    "print(classification_report(y_strain,clf2.predict(X_strain)))\n",
    "\n",
    "print(\"**********test***********\")\n",
    "print(classification_report(y_stest,clf2.predict(X_stest)))\n"
   ]
  },
  {
   "cell_type": "markdown",
   "metadata": {},
   "source": [
    "##### Clustering"
   ]
  },
  {
   "cell_type": "code",
   "execution_count": 64,
   "metadata": {},
   "outputs": [],
   "source": [
    "from sklearn.cluster import KMeans\n",
    "cols=['Account Length', 'VMail Message', 'Day Mins', 'Eve Mins', 'Night Mins',\\\n",
    "       'Intl Mins', 'CustServ Calls', 'Day Calls', 'Day Charge',\\\n",
    "       'Daily Charges MV', 'Eve Calls', 'Eve Charge', 'Night Calls',\\\n",
    "       'Night Charge', 'Intl Calls', 'Intl Charge', 'Intl Plan_1.0', 'VMail Plan_1.0']\n",
    "kmeans = KMeans(n_clusters=2)\n",
    "kmeans.fit(full_model[cols])\n",
    "# print(kmeans.cluster_centers_)\n",
    "y_km=kmeans.fit_predict(full_model[cols])\n",
    "\n",
    "full_model[\"y_km\"]=y_km\n",
    "\n",
    "# plt.scatter(full_model.iloc[y_km ==0,0], full_model.iloc[y_km == 0,8], s=100, c='red')\n",
    "# plt.scatter(full_model.iloc[y_km ==1,0], full_model.iloc[y_km == 1,8], s=100, c='black')\n",
    "# plt.scatter(full_model.iloc[y_km ==2,0], full_model.iloc[y_km == 2,8], s=100, c='blue')\n",
    "# plt.scatter(full_model.iloc[y_km ==3,0], full_model.iloc[y_km == 3,8], s=100, c='cyan')\n",
    "# plt.scatter(full_model[cols][y_km ==1,0], full_model[cols][y_km == 1,1], s=100, c='black')\n",
    "# plt.scatter(full_model[cols][y_km ==2,0], full_model[cols][y_km == 2,1], s=100, c='blue')\n",
    "# plt.scatter(full_model[cols][y_km ==3,0], full_model[cols][y_km == 3,1], s=100, c='cyan')"
   ]
  },
  {
   "cell_type": "code",
   "execution_count": 69,
   "metadata": {},
   "outputs": [
    {
     "data": {
      "text/html": [
       "<div>\n",
       "<style scoped>\n",
       "    .dataframe tbody tr th:only-of-type {\n",
       "        vertical-align: middle;\n",
       "    }\n",
       "\n",
       "    .dataframe tbody tr th {\n",
       "        vertical-align: top;\n",
       "    }\n",
       "\n",
       "    .dataframe thead th {\n",
       "        text-align: right;\n",
       "    }\n",
       "</style>\n",
       "<table border=\"1\" class=\"dataframe\">\n",
       "  <thead>\n",
       "    <tr style=\"text-align: right;\">\n",
       "      <th></th>\n",
       "      <th>Account Length</th>\n",
       "      <th>VMail Message</th>\n",
       "      <th>Day Mins</th>\n",
       "      <th>Eve Mins</th>\n",
       "      <th>Night Mins</th>\n",
       "      <th>Intl Mins</th>\n",
       "      <th>CustServ Calls</th>\n",
       "      <th>Day Calls</th>\n",
       "      <th>Day Charge</th>\n",
       "      <th>Daily Charges MV</th>\n",
       "      <th>Eve Calls</th>\n",
       "      <th>Eve Charge</th>\n",
       "      <th>Night Calls</th>\n",
       "      <th>Night Charge</th>\n",
       "      <th>Intl Calls</th>\n",
       "      <th>Intl Charge</th>\n",
       "      <th>Churn</th>\n",
       "      <th>Intl Plan_1.0</th>\n",
       "      <th>VMail Plan_1.0</th>\n",
       "      <th>y_km</th>\n",
       "    </tr>\n",
       "  </thead>\n",
       "  <tbody>\n",
       "    <tr>\n",
       "      <th>0</th>\n",
       "      <td>0.495868</td>\n",
       "      <td>0.470588</td>\n",
       "      <td>0.622007</td>\n",
       "      <td>0.930300</td>\n",
       "      <td>0.509414</td>\n",
       "      <td>0.375</td>\n",
       "      <td>0.333333</td>\n",
       "      <td>0.533333</td>\n",
       "      <td>0.621898</td>\n",
       "      <td>0.621898</td>\n",
       "      <td>0.635294</td>\n",
       "      <td>0.930443</td>\n",
       "      <td>0.598592</td>\n",
       "      <td>0.509863</td>\n",
       "      <td>0.350</td>\n",
       "      <td>0.375926</td>\n",
       "      <td>0.0</td>\n",
       "      <td>0</td>\n",
       "      <td>1</td>\n",
       "      <td>0</td>\n",
       "    </tr>\n",
       "    <tr>\n",
       "      <th>1</th>\n",
       "      <td>0.301653</td>\n",
       "      <td>0.000000</td>\n",
       "      <td>0.535063</td>\n",
       "      <td>0.449271</td>\n",
       "      <td>0.464766</td>\n",
       "      <td>0.455</td>\n",
       "      <td>0.000000</td>\n",
       "      <td>0.769697</td>\n",
       "      <td>0.535044</td>\n",
       "      <td>0.535044</td>\n",
       "      <td>0.870588</td>\n",
       "      <td>0.449369</td>\n",
       "      <td>0.429577</td>\n",
       "      <td>0.465033</td>\n",
       "      <td>0.250</td>\n",
       "      <td>0.455556</td>\n",
       "      <td>0.0</td>\n",
       "      <td>0</td>\n",
       "      <td>1</td>\n",
       "      <td>0</td>\n",
       "    </tr>\n",
       "    <tr>\n",
       "      <th>2</th>\n",
       "      <td>0.661157</td>\n",
       "      <td>0.000000</td>\n",
       "      <td>0.927737</td>\n",
       "      <td>0.873797</td>\n",
       "      <td>0.369554</td>\n",
       "      <td>0.270</td>\n",
       "      <td>0.388889</td>\n",
       "      <td>0.406061</td>\n",
       "      <td>0.927733</td>\n",
       "      <td>0.927733</td>\n",
       "      <td>0.570588</td>\n",
       "      <td>0.873827</td>\n",
       "      <td>0.669014</td>\n",
       "      <td>0.369994</td>\n",
       "      <td>0.450</td>\n",
       "      <td>0.270370</td>\n",
       "      <td>0.0</td>\n",
       "      <td>0</td>\n",
       "      <td>0</td>\n",
       "      <td>1</td>\n",
       "    </tr>\n",
       "    <tr>\n",
       "      <th>3</th>\n",
       "      <td>0.611570</td>\n",
       "      <td>0.000000</td>\n",
       "      <td>0.400228</td>\n",
       "      <td>0.747319</td>\n",
       "      <td>0.444056</td>\n",
       "      <td>0.555</td>\n",
       "      <td>0.111111</td>\n",
       "      <td>0.569697</td>\n",
       "      <td>0.400235</td>\n",
       "      <td>0.400235</td>\n",
       "      <td>0.541176</td>\n",
       "      <td>0.747331</td>\n",
       "      <td>0.528169</td>\n",
       "      <td>0.444112</td>\n",
       "      <td>0.450</td>\n",
       "      <td>0.555556</td>\n",
       "      <td>0.0</td>\n",
       "      <td>1</td>\n",
       "      <td>0</td>\n",
       "      <td>1</td>\n",
       "    </tr>\n",
       "    <tr>\n",
       "      <th>4</th>\n",
       "      <td>0.553719</td>\n",
       "      <td>0.803922</td>\n",
       "      <td>0.493444</td>\n",
       "      <td>0.560627</td>\n",
       "      <td>0.266272</td>\n",
       "      <td>0.730</td>\n",
       "      <td>0.000000</td>\n",
       "      <td>0.515152</td>\n",
       "      <td>0.493461</td>\n",
       "      <td>0.493461</td>\n",
       "      <td>0.629412</td>\n",
       "      <td>0.560660</td>\n",
       "      <td>0.316901</td>\n",
       "      <td>0.266587</td>\n",
       "      <td>0.525</td>\n",
       "      <td>0.729630</td>\n",
       "      <td>0.0</td>\n",
       "      <td>1</td>\n",
       "      <td>0</td>\n",
       "      <td>1</td>\n",
       "    </tr>\n",
       "  </tbody>\n",
       "</table>\n",
       "</div>"
      ],
      "text/plain": [
       "   Account Length  VMail Message  Day Mins  Eve Mins  Night Mins  Intl Mins  \\\n",
       "0        0.495868       0.470588  0.622007  0.930300    0.509414      0.375   \n",
       "1        0.301653       0.000000  0.535063  0.449271    0.464766      0.455   \n",
       "2        0.661157       0.000000  0.927737  0.873797    0.369554      0.270   \n",
       "3        0.611570       0.000000  0.400228  0.747319    0.444056      0.555   \n",
       "4        0.553719       0.803922  0.493444  0.560627    0.266272      0.730   \n",
       "\n",
       "   CustServ Calls  Day Calls  Day Charge  Daily Charges MV  Eve Calls  \\\n",
       "0        0.333333   0.533333    0.621898          0.621898   0.635294   \n",
       "1        0.000000   0.769697    0.535044          0.535044   0.870588   \n",
       "2        0.388889   0.406061    0.927733          0.927733   0.570588   \n",
       "3        0.111111   0.569697    0.400235          0.400235   0.541176   \n",
       "4        0.000000   0.515152    0.493461          0.493461   0.629412   \n",
       "\n",
       "   Eve Charge  Night Calls  Night Charge  Intl Calls  Intl Charge  Churn  \\\n",
       "0    0.930443     0.598592      0.509863       0.350     0.375926    0.0   \n",
       "1    0.449369     0.429577      0.465033       0.250     0.455556    0.0   \n",
       "2    0.873827     0.669014      0.369994       0.450     0.270370    0.0   \n",
       "3    0.747331     0.528169      0.444112       0.450     0.555556    0.0   \n",
       "4    0.560660     0.316901      0.266587       0.525     0.729630    0.0   \n",
       "\n",
       "   Intl Plan_1.0  VMail Plan_1.0  y_km  \n",
       "0              0               1     0  \n",
       "1              0               1     0  \n",
       "2              0               0     1  \n",
       "3              1               0     1  \n",
       "4              1               0     1  "
      ]
     },
     "execution_count": 69,
     "metadata": {},
     "output_type": "execute_result"
    }
   ],
   "source": [
    "\n",
    "full_model.head(5)"
   ]
  },
  {
   "cell_type": "code",
   "execution_count": 70,
   "metadata": {
    "scrolled": true
   },
   "outputs": [
    {
     "name": "stdout",
     "output_type": "stream",
     "text": [
      "             precision    recall  f1-score   support\n",
      "\n",
      "        0.0       0.91      0.30      0.45      2850\n",
      "        1.0       0.17      0.83      0.28       483\n",
      "\n",
      "avg / total       0.81      0.37      0.42      3333\n",
      "\n"
     ]
    }
   ],
   "source": [
    "print(classification_report(full_model[\"Churn\"],full_model[\"y_km\"]))"
   ]
  },
  {
   "cell_type": "code",
   "execution_count": 130,
   "metadata": {},
   "outputs": [
    {
     "name": "stdout",
     "output_type": "stream",
     "text": [
      "3333\n"
     ]
    },
    {
     "data": {
      "text/html": [
       "<div>\n",
       "<style scoped>\n",
       "    .dataframe tbody tr th:only-of-type {\n",
       "        vertical-align: middle;\n",
       "    }\n",
       "\n",
       "    .dataframe tbody tr th {\n",
       "        vertical-align: top;\n",
       "    }\n",
       "\n",
       "    .dataframe thead th {\n",
       "        text-align: right;\n",
       "    }\n",
       "</style>\n",
       "<table border=\"1\" class=\"dataframe\">\n",
       "  <thead>\n",
       "    <tr style=\"text-align: right;\">\n",
       "      <th></th>\n",
       "      <th>Account Length</th>\n",
       "      <th>VMail Message</th>\n",
       "      <th>Day Mins</th>\n",
       "      <th>Eve Mins</th>\n",
       "      <th>Night Mins</th>\n",
       "      <th>Intl Mins</th>\n",
       "      <th>CustServ Calls</th>\n",
       "      <th>Day Calls</th>\n",
       "      <th>Day Charge</th>\n",
       "      <th>Daily Charges MV</th>\n",
       "      <th>Eve Calls</th>\n",
       "      <th>Eve Charge</th>\n",
       "      <th>Night Calls</th>\n",
       "      <th>Night Charge</th>\n",
       "      <th>Intl Calls</th>\n",
       "      <th>Intl Charge</th>\n",
       "      <th>Intl Plan_1.0</th>\n",
       "      <th>VMail Plan_1.0</th>\n",
       "      <th>Churn</th>\n",
       "    </tr>\n",
       "  </thead>\n",
       "  <tbody>\n",
       "    <tr>\n",
       "      <th>0</th>\n",
       "      <td>0.318182</td>\n",
       "      <td>0.000000</td>\n",
       "      <td>0.462657</td>\n",
       "      <td>0.529007</td>\n",
       "      <td>0.584723</td>\n",
       "      <td>0.505</td>\n",
       "      <td>0.222222</td>\n",
       "      <td>0.703030</td>\n",
       "      <td>0.462609</td>\n",
       "      <td>0.462609</td>\n",
       "      <td>0.505882</td>\n",
       "      <td>0.528955</td>\n",
       "      <td>0.471831</td>\n",
       "      <td>0.585176</td>\n",
       "      <td>0.15</td>\n",
       "      <td>0.505556</td>\n",
       "      <td>0</td>\n",
       "      <td>0</td>\n",
       "      <td>0.0</td>\n",
       "    </tr>\n",
       "    <tr>\n",
       "      <th>1</th>\n",
       "      <td>0.595041</td>\n",
       "      <td>0.607843</td>\n",
       "      <td>0.615735</td>\n",
       "      <td>0.618917</td>\n",
       "      <td>0.568854</td>\n",
       "      <td>0.535</td>\n",
       "      <td>0.222222</td>\n",
       "      <td>0.569697</td>\n",
       "      <td>0.615694</td>\n",
       "      <td>0.615694</td>\n",
       "      <td>0.723529</td>\n",
       "      <td>0.618894</td>\n",
       "      <td>0.535211</td>\n",
       "      <td>0.569038</td>\n",
       "      <td>0.05</td>\n",
       "      <td>0.535185</td>\n",
       "      <td>0</td>\n",
       "      <td>1</td>\n",
       "      <td>0.0</td>\n",
       "    </tr>\n",
       "    <tr>\n",
       "      <th>2</th>\n",
       "      <td>0.648760</td>\n",
       "      <td>0.000000</td>\n",
       "      <td>0.444413</td>\n",
       "      <td>0.616442</td>\n",
       "      <td>0.532006</td>\n",
       "      <td>0.430</td>\n",
       "      <td>0.222222</td>\n",
       "      <td>0.745455</td>\n",
       "      <td>0.444333</td>\n",
       "      <td>0.444333</td>\n",
       "      <td>0.658824</td>\n",
       "      <td>0.616629</td>\n",
       "      <td>0.584507</td>\n",
       "      <td>0.532576</td>\n",
       "      <td>0.40</td>\n",
       "      <td>0.429630</td>\n",
       "      <td>0</td>\n",
       "      <td>0</td>\n",
       "      <td>0.0</td>\n",
       "    </tr>\n",
       "  </tbody>\n",
       "</table>\n",
       "</div>"
      ],
      "text/plain": [
       "   Account Length  VMail Message  Day Mins  Eve Mins  Night Mins  Intl Mins  \\\n",
       "0        0.318182       0.000000  0.462657  0.529007    0.584723      0.505   \n",
       "1        0.595041       0.607843  0.615735  0.618917    0.568854      0.535   \n",
       "2        0.648760       0.000000  0.444413  0.616442    0.532006      0.430   \n",
       "\n",
       "   CustServ Calls  Day Calls  Day Charge  Daily Charges MV  Eve Calls  \\\n",
       "0        0.222222   0.703030    0.462609          0.462609   0.505882   \n",
       "1        0.222222   0.569697    0.615694          0.615694   0.723529   \n",
       "2        0.222222   0.745455    0.444333          0.444333   0.658824   \n",
       "\n",
       "   Eve Charge  Night Calls  Night Charge  Intl Calls  Intl Charge  \\\n",
       "0    0.528955     0.471831      0.585176        0.15     0.505556   \n",
       "1    0.618894     0.535211      0.569038        0.05     0.535185   \n",
       "2    0.616629     0.584507      0.532576        0.40     0.429630   \n",
       "\n",
       "   Intl Plan_1.0  VMail Plan_1.0  Churn  \n",
       "0              0               0    0.0  \n",
       "1              0               1    0.0  \n",
       "2              0               0    0.0  "
      ]
     },
     "execution_count": 130,
     "metadata": {},
     "output_type": "execute_result"
    }
   ],
   "source": [
    "a = pd.concat([X_strain,y_strain],axis=1)\n",
    "b = pd.concat([X_stest,y_stest],axis=1)\n",
    "full_stra = pd.concat([a,b],axis=0)\n",
    "print(len(full_stra))\n",
    "full_stra.reset_index(drop=True,inplace=True)\n",
    "full_stra.head(3)"
   ]
  },
  {
   "cell_type": "markdown",
   "metadata": {},
   "source": [
    "##### Clustering with kmeans results very low f1 than other models"
   ]
  },
  {
   "cell_type": "markdown",
   "metadata": {},
   "source": [
    "##### Clustering + RF"
   ]
  },
  {
   "cell_type": "code",
   "execution_count": 131,
   "metadata": {
    "scrolled": true
   },
   "outputs": [
    {
     "name": "stdout",
     "output_type": "stream",
     "text": [
      "             precision    recall  f1-score   support\n",
      "\n",
      "        0.0       0.91      0.30      0.45      2850\n",
      "        1.0       0.17      0.83      0.28       483\n",
      "\n",
      "avg / total       0.81      0.37      0.42      3333\n",
      "\n"
     ]
    }
   ],
   "source": [
    "from sklearn.cluster import KMeans\n",
    "cols=['Account Length', 'VMail Message', 'Day Mins', 'Eve Mins', 'Night Mins',\\\n",
    "       'Intl Mins', 'CustServ Calls', 'Day Calls', 'Day Charge',\\\n",
    "       'Daily Charges MV', 'Eve Calls', 'Eve Charge', 'Night Calls',\\\n",
    "       'Night Charge', 'Intl Calls', 'Intl Charge', 'Intl Plan_1.0', 'VMail Plan_1.0']\n",
    "kmeans = KMeans(n_clusters=2)\n",
    "kmeans.fit(full_stra[cols])\n",
    "y_kPreds=kmeans.fit_predict(full_stra[cols])\n",
    "print(classification_report(full_stra[\"Churn\"],y_kPreds))"
   ]
  },
  {
   "cell_type": "markdown",
   "metadata": {},
   "source": [
    "##### RF(20)+Logistic"
   ]
  },
  {
   "cell_type": "code",
   "execution_count": 132,
   "metadata": {},
   "outputs": [
    {
     "data": {
      "text/plain": [
       "RandomForestClassifier(bootstrap=True, class_weight=None, criterion='gini',\n",
       "            max_depth=3, max_features='auto', max_leaf_nodes=None,\n",
       "            min_impurity_decrease=0.0, min_impurity_split=None,\n",
       "            min_samples_leaf=1, min_samples_split=2,\n",
       "            min_weight_fraction_leaf=0.0, n_estimators=1000, n_jobs=1,\n",
       "            oob_score=False, random_state=None, verbose=0,\n",
       "            warm_start=False)"
      ]
     },
     "execution_count": 132,
     "metadata": {},
     "output_type": "execute_result"
    }
   ],
   "source": [
    "from sklearn.ensemble import RandomForestClassifier\n",
    "clf=RandomForestClassifier(n_estimators=1000,max_depth=3)\n",
    "clf.fit(full_stra[cols],full_stra[\"Churn\"])"
   ]
  },
  {
   "cell_type": "code",
   "execution_count": 133,
   "metadata": {},
   "outputs": [
    {
     "name": "stdout",
     "output_type": "stream",
     "text": [
      "[[2841    9]\n",
      " [ 415   68]]\n",
      "             precision    recall  f1-score   support\n",
      "\n",
      "        0.0       0.87      1.00      0.93      2850\n",
      "        1.0       0.88      0.14      0.24       483\n",
      "\n",
      "avg / total       0.87      0.87      0.83      3333\n",
      "\n"
     ]
    }
   ],
   "source": [
    "print(confusion_matrix(full_stra[\"Churn\"],clf.predict(full_stra[cols])))\n",
    "print(classification_report(full_stra[\"Churn\"],clf.predict(full_stra[cols])))"
   ]
  },
  {
   "cell_type": "code",
   "execution_count": 134,
   "metadata": {},
   "outputs": [
    {
     "data": {
      "text/html": [
       "<div>\n",
       "<style scoped>\n",
       "    .dataframe tbody tr th:only-of-type {\n",
       "        vertical-align: middle;\n",
       "    }\n",
       "\n",
       "    .dataframe tbody tr th {\n",
       "        vertical-align: top;\n",
       "    }\n",
       "\n",
       "    .dataframe thead th {\n",
       "        text-align: right;\n",
       "    }\n",
       "</style>\n",
       "<table border=\"1\" class=\"dataframe\">\n",
       "  <thead>\n",
       "    <tr style=\"text-align: right;\">\n",
       "      <th></th>\n",
       "      <th>Importance</th>\n",
       "    </tr>\n",
       "  </thead>\n",
       "  <tbody>\n",
       "    <tr>\n",
       "      <th>Intl Plan_1.0</th>\n",
       "      <td>0.174838</td>\n",
       "    </tr>\n",
       "    <tr>\n",
       "      <th>Day Mins</th>\n",
       "      <td>0.154195</td>\n",
       "    </tr>\n",
       "    <tr>\n",
       "      <th>Day Charge</th>\n",
       "      <td>0.152217</td>\n",
       "    </tr>\n",
       "    <tr>\n",
       "      <th>Daily Charges MV</th>\n",
       "      <td>0.147216</td>\n",
       "    </tr>\n",
       "    <tr>\n",
       "      <th>CustServ Calls</th>\n",
       "      <td>0.119972</td>\n",
       "    </tr>\n",
       "    <tr>\n",
       "      <th>VMail Plan_1.0</th>\n",
       "      <td>0.043738</td>\n",
       "    </tr>\n",
       "    <tr>\n",
       "      <th>Eve Charge</th>\n",
       "      <td>0.034501</td>\n",
       "    </tr>\n",
       "    <tr>\n",
       "      <th>Eve Mins</th>\n",
       "      <td>0.031671</td>\n",
       "    </tr>\n",
       "    <tr>\n",
       "      <th>VMail Message</th>\n",
       "      <td>0.031420</td>\n",
       "    </tr>\n",
       "    <tr>\n",
       "      <th>Intl Calls</th>\n",
       "      <td>0.030935</td>\n",
       "    </tr>\n",
       "    <tr>\n",
       "      <th>Intl Mins</th>\n",
       "      <td>0.021242</td>\n",
       "    </tr>\n",
       "    <tr>\n",
       "      <th>Intl Charge</th>\n",
       "      <td>0.020175</td>\n",
       "    </tr>\n",
       "    <tr>\n",
       "      <th>Night Mins</th>\n",
       "      <td>0.008576</td>\n",
       "    </tr>\n",
       "    <tr>\n",
       "      <th>Night Charge</th>\n",
       "      <td>0.008219</td>\n",
       "    </tr>\n",
       "    <tr>\n",
       "      <th>Day Calls</th>\n",
       "      <td>0.007982</td>\n",
       "    </tr>\n",
       "    <tr>\n",
       "      <th>Account Length</th>\n",
       "      <td>0.005503</td>\n",
       "    </tr>\n",
       "    <tr>\n",
       "      <th>Night Calls</th>\n",
       "      <td>0.004091</td>\n",
       "    </tr>\n",
       "    <tr>\n",
       "      <th>Eve Calls</th>\n",
       "      <td>0.003510</td>\n",
       "    </tr>\n",
       "  </tbody>\n",
       "</table>\n",
       "</div>"
      ],
      "text/plain": [
       "                  Importance\n",
       "Intl Plan_1.0       0.174838\n",
       "Day Mins            0.154195\n",
       "Day Charge          0.152217\n",
       "Daily Charges MV    0.147216\n",
       "CustServ Calls      0.119972\n",
       "VMail Plan_1.0      0.043738\n",
       "Eve Charge          0.034501\n",
       "Eve Mins            0.031671\n",
       "VMail Message       0.031420\n",
       "Intl Calls          0.030935\n",
       "Intl Mins           0.021242\n",
       "Intl Charge         0.020175\n",
       "Night Mins          0.008576\n",
       "Night Charge        0.008219\n",
       "Day Calls           0.007982\n",
       "Account Length      0.005503\n",
       "Night Calls         0.004091\n",
       "Eve Calls           0.003510"
      ]
     },
     "execution_count": 134,
     "metadata": {},
     "output_type": "execute_result"
    }
   ],
   "source": [
    "pd.DataFrame(clf.feature_importances_,index=full_stra[cols].columns, columns=['Importance']).sort_values('Importance',ascending=False)"
   ]
  },
  {
   "cell_type": "markdown",
   "metadata": {},
   "source": [
    "##### Making a new dataset by dropping the correctly positive predcited records"
   ]
  },
  {
   "cell_type": "code",
   "execution_count": 135,
   "metadata": {},
   "outputs": [
    {
     "data": {
      "text/plain": [
       "3313"
      ]
     },
     "execution_count": 135,
     "metadata": {},
     "output_type": "execute_result"
    }
   ],
   "source": [
    "pos_records_rf = full_stra.loc[((full_stra[\"Churn\"]==clf.predict(full_stra[cols])) & (full_stra[\"Churn\"]==1)),:]\n",
    "len(pos_records_rf)\n",
    "pos_records_rf_20 = pos_records_rf.iloc[0:20,:]\n",
    "full_rf_log = full_stra.drop(pos_records_rf_20.index,axis=0)\n",
    "len(full_rf_log)"
   ]
  },
  {
   "cell_type": "code",
   "execution_count": 136,
   "metadata": {},
   "outputs": [
    {
     "name": "stdout",
     "output_type": "stream",
     "text": [
      "[[2807   43]\n",
      " [ 411   52]]\n",
      "             precision    recall  f1-score   support\n",
      "\n",
      "        0.0       0.87      0.98      0.93      2850\n",
      "        1.0       0.55      0.11      0.19       463\n",
      "\n",
      "avg / total       0.83      0.86      0.82      3313\n",
      "\n"
     ]
    }
   ],
   "source": [
    "clf_l = LogisticRegression(penalty=\"l2\",C=1)\n",
    "clf_l.fit(full_rf_log[cols],full_rf_log[\"Churn\"])\n",
    "print(confusion_matrix(full_rf_log[\"Churn\"],clf_l.predict(full_rf_log[cols])))\n",
    "print(classification_report(full_rf_log[\"Churn\"],clf_l.predict(full_rf_log[cols])))"
   ]
  },
  {
   "cell_type": "markdown",
   "metadata": {},
   "source": [
    "##### Apply PCA"
   ]
  },
  {
   "cell_type": "code",
   "execution_count": 172,
   "metadata": {},
   "outputs": [
    {
     "name": "stdout",
     "output_type": "stream",
     "text": [
      "[[-0.31714681 -0.11674778]\n",
      " [ 0.84568069 -0.05834894]\n",
      " [-0.31514454 -0.11841717]\n",
      " ...\n",
      " [ 0.91564971  0.84918001]\n",
      " [-0.31878    -0.07225971]\n",
      " [-0.05872795 -0.08284076]]\n",
      "\n",
      "Explaned Variance:  [0.24151896 0.08849723]\n"
     ]
    }
   ],
   "source": [
    "from sklearn.decomposition import PCA\n",
    "pca = PCA(n_components=2)\n",
    "comp = pca.fit_transform(full_stra[cols])\n",
    "print(comp)\n",
    "print(\"\\nExplaned Variance: \",pca.explained_variance_)"
   ]
  },
  {
   "cell_type": "code",
   "execution_count": 144,
   "metadata": {},
   "outputs": [
    {
     "data": {
      "text/html": [
       "<div>\n",
       "<style scoped>\n",
       "    .dataframe tbody tr th:only-of-type {\n",
       "        vertical-align: middle;\n",
       "    }\n",
       "\n",
       "    .dataframe tbody tr th {\n",
       "        vertical-align: top;\n",
       "    }\n",
       "\n",
       "    .dataframe thead th {\n",
       "        text-align: right;\n",
       "    }\n",
       "</style>\n",
       "<table border=\"1\" class=\"dataframe\">\n",
       "  <thead>\n",
       "    <tr style=\"text-align: right;\">\n",
       "      <th></th>\n",
       "      <th>PC1</th>\n",
       "      <th>PC2</th>\n",
       "      <th>Churn</th>\n",
       "    </tr>\n",
       "  </thead>\n",
       "  <tbody>\n",
       "    <tr>\n",
       "      <th>0</th>\n",
       "      <td>-0.317147</td>\n",
       "      <td>-0.116736</td>\n",
       "      <td>0.0</td>\n",
       "    </tr>\n",
       "    <tr>\n",
       "      <th>1</th>\n",
       "      <td>0.845681</td>\n",
       "      <td>-0.058317</td>\n",
       "      <td>0.0</td>\n",
       "    </tr>\n",
       "    <tr>\n",
       "      <th>2</th>\n",
       "      <td>-0.315145</td>\n",
       "      <td>-0.118382</td>\n",
       "      <td>0.0</td>\n",
       "    </tr>\n",
       "    <tr>\n",
       "      <th>3</th>\n",
       "      <td>-0.323632</td>\n",
       "      <td>-0.043505</td>\n",
       "      <td>0.0</td>\n",
       "    </tr>\n",
       "    <tr>\n",
       "      <th>4</th>\n",
       "      <td>-0.322628</td>\n",
       "      <td>-0.074074</td>\n",
       "      <td>0.0</td>\n",
       "    </tr>\n",
       "  </tbody>\n",
       "</table>\n",
       "</div>"
      ],
      "text/plain": [
       "        PC1       PC2  Churn\n",
       "0 -0.317147 -0.116736    0.0\n",
       "1  0.845681 -0.058317    0.0\n",
       "2 -0.315145 -0.118382    0.0\n",
       "3 -0.323632 -0.043505    0.0\n",
       "4 -0.322628 -0.074074    0.0"
      ]
     },
     "execution_count": 144,
     "metadata": {},
     "output_type": "execute_result"
    }
   ],
   "source": [
    "full_pca = pd.DataFrame(comp,columns=[\"PC1\",\"PC2\"])\n",
    "full_pca = pd.concat([full_pca,full_stra[\"Churn\"]],axis=1)\n",
    "full_pca.head(5)"
   ]
  },
  {
   "cell_type": "code",
   "execution_count": 177,
   "metadata": {},
   "outputs": [
    {
     "data": {
      "image/png": "[encoded data removed]",
      "text/plain": [
       "<matplotlib.figure.Figure at 0x1e9b70f0>"
      ]
     },
     "metadata": {},
     "output_type": "display_data"
    }
   ],
   "source": [
    "#Reference: https://towardsdatascience.com/pca-using-python-scikit-learn-e653f8989e60\n",
    "from matplotlib import pyplot as plt\n",
    "fig = plt.figure(figsize=[7,7])\n",
    "ax=fig.add_subplot(111)\n",
    "ax.set_xlabel(\"PC1\")\n",
    "ax.set_ylabel(\"PC2\")\n",
    "churns=[0,1]\n",
    "colors = ['red','blue']\n",
    "for churn, color in zip(churns,colors):\n",
    "    ax.scatter(full_pca.loc[full_pca.Churn==churn,\"PC1\"],full_pca.loc[full_pca.Churn==churn,\"PC2\"], c=color, s=0.7)\n",
    "ax.legend(churns)\n",
    "ax.grid()"
   ]
  },
  {
   "cell_type": "markdown",
   "metadata": {},
   "source": [
    "##### PCA+Logistic"
   ]
  },
  {
   "cell_type": "code",
   "execution_count": 191,
   "metadata": {},
   "outputs": [
    {
     "name": "stdout",
     "output_type": "stream",
     "text": [
      "[[2794   56]\n",
      " [ 433   50]]\n",
      "             precision    recall  f1-score   support\n",
      "\n",
      "        0.0       0.87      0.98      0.92      2850\n",
      "        1.0       0.47      0.10      0.17       483\n",
      "\n",
      "avg / total       0.81      0.85      0.81      3333\n",
      "\n"
     ]
    }
   ],
   "source": [
    "pca_log = LogisticRegression(penalty=\"l2\",C=1,random_state=123)\n",
    "pca_log.fit(full_pca.iloc[:,0:2],full_pca[\"Churn\"])\n",
    "print(confusion_matrix(full_pca[\"Churn\"],pca_log.predict(full_pca.iloc[:,0:2])))\n",
    "print(classification_report(full_pca[\"Churn\"],pca_log.predict(full_pca.iloc[:,0:2])))"
   ]
  },
  {
   "cell_type": "markdown",
   "metadata": {},
   "source": [
    "##### PCA+RF(20)+Logistic"
   ]
  },
  {
   "cell_type": "code",
   "execution_count": 192,
   "metadata": {},
   "outputs": [
    {
     "name": "stdout",
     "output_type": "stream",
     "text": [
      "[[2822   28]\n",
      " [ 399   84]]\n",
      "             precision    recall  f1-score   support\n",
      "\n",
      "        0.0       0.88      0.99      0.93      2850\n",
      "        1.0       0.75      0.17      0.28       483\n",
      "\n",
      "avg / total       0.86      0.87      0.84      3333\n",
      "\n"
     ]
    }
   ],
   "source": [
    "pca_rf20 = RandomForestClassifier(n_estimators=1000,max_depth=3)\n",
    "pca_rf20.fit(full_pca.iloc[:,0:2],full_pca[\"Churn\"])\n",
    "print(confusion_matrix(full_pca[\"Churn\"],pca_rf20.predict(full_pca.iloc[:,0:2])))\n",
    "print(classification_report(full_pca[\"Churn\"],pca_rf20.predict(full_pca.iloc[:,0:2])))"
   ]
  },
  {
   "cell_type": "code",
   "execution_count": 197,
   "metadata": {},
   "outputs": [
    {
     "data": {
      "text/plain": [
       "3313"
      ]
     },
     "execution_count": 197,
     "metadata": {},
     "output_type": "execute_result"
    }
   ],
   "source": [
    "posPreds = full_pca.loc[(full_pca[\"Churn\"]==pca_rf20.predict(full_pca.iloc[:,0:2])) & full_pca[\"Churn\"]==1,:] \n",
    "len(posPreds)\n",
    "posPreds_20 = posPreds.iloc[0:20,:]\n",
    "len(posPreds_20)\n",
    "full_pca_rf_20=full_pca.drop(index=posPreds_20.index,axis=0)\n",
    "len(full_pca_rf_20)"
   ]
  },
  {
   "cell_type": "code",
   "execution_count": 200,
   "metadata": {},
   "outputs": [
    {
     "name": "stdout",
     "output_type": "stream",
     "text": [
      "[[2832   18]\n",
      " [ 438   25]]\n",
      "             precision    recall  f1-score   support\n",
      "\n",
      "        0.0       0.87      0.99      0.93      2850\n",
      "        1.0       0.58      0.05      0.10       463\n",
      "\n",
      "avg / total       0.83      0.86      0.81      3313\n",
      "\n"
     ]
    }
   ],
   "source": [
    "pca_rf_log = LogisticRegression(penalty=\"l2\",C=1)\n",
    "pca_rf_log.fit(full_pca_rf_20.iloc[:,0:2],full_pca_rf_20[\"Churn\"])\n",
    "print(confusion_matrix(full_pca_rf_20[\"Churn\"],pca_rf_log.predict(full_pca_rf_20.iloc[:,0:2])))\n",
    "print(classification_report(full_pca_rf_20[\"Churn\"],pca_rf_log.predict(full_pca_rf_20.iloc[:,0:2])))"
   ]
  }
 ],
 "metadata": {
  "kernelspec": {
   "display_name": "Python 2",
   "language": "python",
   "name": "python2"
  },
  "language_info": {
   "codemirror_mode": {
    "name": "ipython",
    "version": 2
   },
   "file_extension": ".py",
   "mimetype": "text/x-python",
   "name": "python",
   "nbconvert_exporter": "python",
   "pygments_lexer": "ipython2",
   "version": "2.7.16"
  }
 },
 "nbformat": 4,
 "nbformat_minor": 2
}
